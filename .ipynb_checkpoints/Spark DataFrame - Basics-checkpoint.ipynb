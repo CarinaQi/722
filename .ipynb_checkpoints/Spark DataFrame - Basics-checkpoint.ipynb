{
 "cells": [
  {
   "cell_type": "code",
   "execution_count": 2,
   "id": "c6d0f5ff",
   "metadata": {},
   "outputs": [
    {
     "name": "stderr",
     "output_type": "stream",
     "text": [
      "WARNING: An illegal reflective access operation has occurred\n",
      "WARNING: Illegal reflective access by org.apache.spark.unsafe.Platform (file:/home/ubuntu/spark-3.2.1-bin-hadoop2.7/jars/spark-unsafe_2.12-3.2.1.jar) to constructor java.nio.DirectByteBuffer(long,int)\n",
      "WARNING: Please consider reporting this to the maintainers of org.apache.spark.unsafe.Platform\n",
      "WARNING: Use --illegal-access=warn to enable warnings of further illegal reflective access operations\n",
      "WARNING: All illegal access operations will be denied in a future release\n",
      "Using Spark's default log4j profile: org/apache/spark/log4j-defaults.properties\n",
      "Setting default log level to \"WARN\".\n",
      "To adjust logging level use sc.setLogLevel(newLevel). For SparkR, use setLogLevel(newLevel).\n",
      "24/05/23 21:00:26 WARN NativeCodeLoader: Unable to load native-hadoop library for your platform... using builtin-java classes where applicable\n"
     ]
    }
   ],
   "source": [
    "# Must be included at the beginning of each new notebook. Remember to change the app name.\n",
    "import findspark\n",
    "findspark.init('/home/ubuntu/spark-3.2.1-bin-hadoop2.7')\n",
    "import pyspark\n",
    "from pyspark.sql import SparkSession\n",
    "spark = SparkSession.builder.appName('basics').getOrCreate()"
   ]
  },
  {
   "cell_type": "code",
   "execution_count": 3,
   "id": "00f47af5",
   "metadata": {},
   "outputs": [
    {
     "name": "stderr",
     "output_type": "stream",
     "text": [
      "\r",
      "[Stage 0:>                                                          (0 + 1) / 1]\r",
      "\r",
      "                                                                                \r"
     ]
    }
   ],
   "source": [
    "# Let's read in the data.\n",
    "df = spark.read.option(\"header\", \"true\").csv('Datasets/global-data-on-sustainable-energy.csv')\n",
    "df2 = spark.read.option(\"header\", \"true\").csv('Datasets/annual-co2-emissions-per-country.csv')"
   ]
  },
  {
   "cell_type": "markdown",
   "id": "6ba88003",
   "metadata": {},
   "source": [
    "## 2.2 Dataset Information"
   ]
  },
  {
   "cell_type": "code",
   "execution_count": 4,
   "id": "0e58d55e",
   "metadata": {},
   "outputs": [
    {
     "name": "stdout",
     "output_type": "stream",
     "text": [
      "+-----------+----+---------------------------------------+---------------------------------+----------------------------------------------------+----------------------------------------------+----------------------------------------------------------------+-----------------------------------+------------------------------+---------------------------------+--------------------------------------+--------------------------------------------------+-----------------------------------------------------------+---------------------------------+----------------------------------------+-----------+--------------+--------------+--------------+--------+---------+\n",
      "|     Entity|Year|Access to electricity (% of population)|Access to clean fuels for cooking|Renewable-electricity-generating-capacity-per-capita|Financial flows to developing countries (US $)|Renewable energy share in the total final energy consumption (%)|Electricity from fossil fuels (TWh)|Electricity from nuclear (TWh)|Electricity from renewables (TWh)|Low-carbon electricity (% electricity)|Primary energy consumption per capita (kWh/person)|Energy intensity level of primary energy (MJ/$2017 PPP GDP)|Value_co2_emissions_kt_by_country|Renewables (% equivalent primary energy)| gdp_growth|gdp_per_capita|Density(P/Km2)|Land Area(Km2)|Latitude|Longitude|\n",
      "+-----------+----+---------------------------------------+---------------------------------+----------------------------------------------------+----------------------------------------------+----------------------------------------------------------------+-----------------------------------+------------------------------+---------------------------------+--------------------------------------+--------------------------------------------------+-----------------------------------------------------------+---------------------------------+----------------------------------------+-----------+--------------+--------------+--------------+--------+---------+\n",
      "|Afghanistan|2000|                               1.613591|                              6.2|                                                9.22|                                         20000|                                                           44.99|                               0.16|                             0|                             0.31|                              65.95744|                                         302.59482|                                                       1.64|                              760|                                    null|       null|          null|            60|        652230|33.93911|67.709953|\n",
      "|Afghanistan|2001|                               4.074574|                              7.2|                                                8.86|                                        130000|                                                            45.6|                               0.09|                             0|                              0.5|                             84.745766|                                         236.89185|                                                       1.74|                              730|                                    null|       null|          null|            60|        652230|33.93911|67.709953|\n",
      "|Afghanistan|2002|                               9.409158|                              8.2|                                                8.47|                                       3950000|                                                           37.83|                               0.13|                             0|                             0.56|                             81.159424|                                         210.86215|                                                        1.4|                      1029.999971|                                    null|       null|   179.4265792|            60|        652230|33.93911|67.709953|\n",
      "|Afghanistan|2003|                              14.738506|                              9.5|                                                8.09|                                      25970000|                                                           36.66|                               0.31|                             0|                             0.63|                              67.02128|                                         229.96822|                                                        1.4|                      1220.000029|                                    null|8.832277813|   190.6838143|            60|        652230|33.93911|67.709953|\n",
      "|Afghanistan|2004|                              20.064968|                             10.9|                                                7.75|                                          null|                                                           44.24|                               0.33|                             0|                             0.56|                              62.92135|                                         204.23125|                                                        1.2|                      1029.999971|                                    null|1.414117981|   211.3820742|            60|        652230|33.93911|67.709953|\n",
      "|Afghanistan|2005|                              25.390894|                             12.2|                                                7.51|                                       9830000|                                                           33.88|                               0.34|                             0|                             0.59|                             63.440857|                                         252.06912|                                                       1.41|                      1549.999952|                                    null|11.22971482|   242.0313132|            60|        652230|33.93911|67.709953|\n",
      "|Afghanistan|2006|                               30.71869|                            13.85|                                                 7.4|                                      10620000|                                                           31.89|                                0.2|                             0|                             0.64|                             76.190475|                                          304.4209|                                                        1.5|                       1759.99999|                                    null|5.357403251|   263.7336019|            60|        652230|33.93911|67.709953|\n",
      "|Afghanistan|2007|                               36.05101|                             15.3|                                                7.25|                                      15750000|                                                           28.78|                                0.2|                             0|                             0.75|                              78.94737|                                          354.2799|                                                       1.53|                      1769.999981|                                    null|13.82631955|   359.6931579|            60|        652230|33.93911|67.709953|\n",
      "|Afghanistan|2008|                                   42.4|                             16.7|                                                7.49|                                      16170000|                                                           21.17|                               0.19|                             0|                             0.54|                               73.9726|                                          607.8335|                                                       1.94|                      3559.999943|                                    null|3.924983822|    364.663542|            60|        652230|33.93911|67.709953|\n",
      "|Afghanistan|2009|                               46.74005|                             18.4|                                                 7.5|                                       9960000|                                                           16.53|                               0.16|                             0|                             0.78|                              82.97872|                                         975.04816|                                                       2.25|                      4880.000114|                                    null|21.39052839|   437.2687402|            60|        652230|33.93911|67.709953|\n",
      "|Afghanistan|2010|                                   42.7|                               20|                                                8.27|                                      36500000|                                                           15.15|                               0.19|                             0|                             0.75|                              79.78723|                                          1182.892|                                                       2.46|                      7110.000134|                                    null|14.36244147|   543.3065262|            60|        652230|33.93911|67.709953|\n",
      "|Afghanistan|2011|                               43.22202|                             21.8|                                                8.13|                                      28690000|                                                           12.61|                               0.18|                             0|                              0.6|                              76.92309|                                         1436.1143|                                                       3.23|                      8930.000305|                                    null|0.426354785|   591.1900302|            60|        652230|33.93911|67.709953|\n",
      "|Afghanistan|2012|                                   69.1|                               23|                                                9.29|                                      62630000|                                                           15.36|                               0.14|                             0|                             0.74|                              84.09091|                                         1324.1211|                                                       2.61|                      8079.999924|                                    null|12.75228709|   638.8458516|            60|        652230|33.93911|67.709953|\n",
      "|Afghanistan|2013|                               68.29065|                             24.8|                                                 9.1|                                     268460000|                                                           16.86|                               0.22|                             0|                             0.89|                             80.180176|                                         1060.7926|                                                       2.46|                      5989.999771|                                    null|5.600744658|   624.3154545|            60|        652230|33.93911|67.709953|\n",
      "|Afghanistan|2014|                                   89.5|                             26.1|                                                8.95|                                       6940000|                                                           18.93|                               0.16|                             0|                                1|                               86.2069|                                          868.5762|                                                       2.25|                      4880.000114|                                    null|2.724543364|   614.2233424|            60|        652230|33.93911|67.709953|\n",
      "|Afghanistan|2015|                                   71.5|                             27.4|                                                8.79|                                       4890000|                                                           17.53|                               0.15|                             0|                             1.03|                              87.28814|                                          970.0803|                                                       2.37|                      5949.999809|                                    null| 1.45131466|   556.0072209|            60|        652230|33.93911|67.709953|\n",
      "|Afghanistan|2016|                                   97.7|                             28.6|                                                9.87|                                        860000|                                                           19.92|                               0.15|                             0|                             1.06|                             87.603294|                                         862.79114|                                                       2.24|                      5300.000191|                                    null|2.260314201|   512.0127781|            60|        652230|33.93911|67.709953|\n",
      "|Afghanistan|2017|                                   97.7|                             29.7|                                                9.79|                                      50330000|                                                           19.21|                               0.18|                             0|                             1.09|                             85.826775|                                         829.31195|                                                        2.3|                       4780.00021|                                    null|2.647003202|   516.6798622|            60|        652230|33.93911|67.709953|\n",
      "|Afghanistan|2018|                              96.616135|                             30.9|                                                9.55|                                      70100000|                                                           17.96|                                0.2|                             0|                             0.97|                              82.90598|                                         924.25085|                                                       2.44|                      6070.000172|                                    null|1.189228128|   485.6684187|            60|        652230|33.93911|67.709953|\n",
      "|Afghanistan|2019|                                   97.7|                             31.9|                                                9.58|                                       4620000|                                                           18.51|                               0.18|                             0|                             0.89|                              83.17757|                                         802.61255|                                                       2.41|                      6079.999924|                                    null|3.911603419|   494.1793499|            60|        652230|33.93911|67.709953|\n",
      "+-----------+----+---------------------------------------+---------------------------------+----------------------------------------------------+----------------------------------------------+----------------------------------------------------------------+-----------------------------------+------------------------------+---------------------------------+--------------------------------------+--------------------------------------------------+-----------------------------------------------------------+---------------------------------+----------------------------------------+-----------+--------------+--------------+--------------+--------+---------+\n",
      "only showing top 20 rows\n",
      "\n"
     ]
    },
    {
     "data": {
      "text/plain": [
       "['Entity',\n",
       " 'Year',\n",
       " 'Access to electricity (% of population)',\n",
       " 'Access to clean fuels for cooking',\n",
       " 'Renewable-electricity-generating-capacity-per-capita',\n",
       " 'Financial flows to developing countries (US $)',\n",
       " 'Renewable energy share in the total final energy consumption (%)',\n",
       " 'Electricity from fossil fuels (TWh)',\n",
       " 'Electricity from nuclear (TWh)',\n",
       " 'Electricity from renewables (TWh)',\n",
       " 'Low-carbon electricity (% electricity)',\n",
       " 'Primary energy consumption per capita (kWh/person)',\n",
       " 'Energy intensity level of primary energy (MJ/$2017 PPP GDP)',\n",
       " 'Value_co2_emissions_kt_by_country',\n",
       " 'Renewables (% equivalent primary energy)',\n",
       " 'gdp_growth',\n",
       " 'gdp_per_capita',\n",
       " 'Density(P/Km2)',\n",
       " 'Land Area(Km2)',\n",
       " 'Latitude',\n",
       " 'Longitude']"
      ]
     },
     "execution_count": 4,
     "metadata": {},
     "output_type": "execute_result"
    }
   ],
   "source": [
    "# The show method allows you visualise DataFrames. We can see that there are two columns. \n",
    "df.show()\n",
    "\n",
    "# You could also try this. \n",
    "df.columns"
   ]
  },
  {
   "cell_type": "code",
   "execution_count": 5,
   "id": "f97655fe",
   "metadata": {},
   "outputs": [
    {
     "name": "stdout",
     "output_type": "stream",
     "text": [
      "Number of rows: 3649\n",
      "Number of columns: 21\n"
     ]
    }
   ],
   "source": [
    "num_rows = df.count()\n",
    "print(f\"Number of rows: {num_rows}\")\n",
    "\n",
    "num_columns = len(df.columns)\n",
    "print(f\"Number of columns: {num_columns}\")"
   ]
  },
  {
   "cell_type": "code",
   "execution_count": 6,
   "id": "28940e6f",
   "metadata": {},
   "outputs": [
    {
     "name": "stdout",
     "output_type": "stream",
     "text": [
      "root\n",
      " |-- Entity: string (nullable = true)\n",
      " |-- Year: string (nullable = true)\n",
      " |-- Access to electricity (% of population): string (nullable = true)\n",
      " |-- Access to clean fuels for cooking: string (nullable = true)\n",
      " |-- Renewable-electricity-generating-capacity-per-capita: string (nullable = true)\n",
      " |-- Financial flows to developing countries (US $): string (nullable = true)\n",
      " |-- Renewable energy share in the total final energy consumption (%): string (nullable = true)\n",
      " |-- Electricity from fossil fuels (TWh): string (nullable = true)\n",
      " |-- Electricity from nuclear (TWh): string (nullable = true)\n",
      " |-- Electricity from renewables (TWh): string (nullable = true)\n",
      " |-- Low-carbon electricity (% electricity): string (nullable = true)\n",
      " |-- Primary energy consumption per capita (kWh/person): string (nullable = true)\n",
      " |-- Energy intensity level of primary energy (MJ/$2017 PPP GDP): string (nullable = true)\n",
      " |-- Value_co2_emissions_kt_by_country: string (nullable = true)\n",
      " |-- Renewables (% equivalent primary energy): string (nullable = true)\n",
      " |-- gdp_growth: string (nullable = true)\n",
      " |-- gdp_per_capita: string (nullable = true)\n",
      " |-- Density(P/Km2): string (nullable = true)\n",
      " |-- Land Area(Km2): string (nullable = true)\n",
      " |-- Latitude: string (nullable = true)\n",
      " |-- Longitude: string (nullable = true)\n",
      "\n"
     ]
    }
   ],
   "source": [
    "# For type, we can use print schema. \n",
    "# But wait! What if you want to change the format of the data? Maybe change age to an integer instead of long?\n",
    "df.printSchema()"
   ]
  },
  {
   "cell_type": "code",
   "execution_count": 7,
   "id": "8608c816",
   "metadata": {
    "scrolled": true
   },
   "outputs": [
    {
     "name": "stderr",
     "output_type": "stream",
     "text": [
      "                                                                                \r"
     ]
    },
    {
     "data": {
      "text/html": [
       "<div>\n",
       "<style scoped>\n",
       "    .dataframe tbody tr th:only-of-type {\n",
       "        vertical-align: middle;\n",
       "    }\n",
       "\n",
       "    .dataframe tbody tr th {\n",
       "        vertical-align: top;\n",
       "    }\n",
       "\n",
       "    .dataframe thead th {\n",
       "        text-align: right;\n",
       "    }\n",
       "</style>\n",
       "<table border=\"1\" class=\"dataframe\">\n",
       "  <thead>\n",
       "    <tr style=\"text-align: right;\">\n",
       "      <th></th>\n",
       "      <th>0</th>\n",
       "      <th>1</th>\n",
       "      <th>2</th>\n",
       "      <th>3</th>\n",
       "      <th>4</th>\n",
       "    </tr>\n",
       "  </thead>\n",
       "  <tbody>\n",
       "    <tr>\n",
       "      <th>summary</th>\n",
       "      <td>count</td>\n",
       "      <td>mean</td>\n",
       "      <td>stddev</td>\n",
       "      <td>min</td>\n",
       "      <td>max</td>\n",
       "    </tr>\n",
       "    <tr>\n",
       "      <th>Entity</th>\n",
       "      <td>3649</td>\n",
       "      <td>None</td>\n",
       "      <td>None</td>\n",
       "      <td>Afghanistan</td>\n",
       "      <td>Zimbabwe</td>\n",
       "    </tr>\n",
       "    <tr>\n",
       "      <th>Year</th>\n",
       "      <td>3649</td>\n",
       "      <td>2010.0383666758016</td>\n",
       "      <td>6.054228365650764</td>\n",
       "      <td>2000</td>\n",
       "      <td>2020</td>\n",
       "    </tr>\n",
       "    <tr>\n",
       "      <th>Access to electricity (% of population)</th>\n",
       "      <td>3639</td>\n",
       "      <td>78.93370216207742</td>\n",
       "      <td>30.275541433748966</td>\n",
       "      <td>1.2522693</td>\n",
       "      <td>99.99887</td>\n",
       "    </tr>\n",
       "    <tr>\n",
       "      <th>Access to clean fuels for cooking</th>\n",
       "      <td>3480</td>\n",
       "      <td>63.255287356321816</td>\n",
       "      <td>39.0436575747337</td>\n",
       "      <td>0</td>\n",
       "      <td>99.9</td>\n",
       "    </tr>\n",
       "    <tr>\n",
       "      <th>Renewable-electricity-generating-capacity-per-capita</th>\n",
       "      <td>2718</td>\n",
       "      <td>113.13749816041195</td>\n",
       "      <td>244.16725566287886</td>\n",
       "      <td>0</td>\n",
       "      <td>99.89</td>\n",
       "    </tr>\n",
       "    <tr>\n",
       "      <th>Financial flows to developing countries (US $)</th>\n",
       "      <td>1560</td>\n",
       "      <td>9.4224E7</td>\n",
       "      <td>2.981544065856051E8</td>\n",
       "      <td>0</td>\n",
       "      <td>99900000</td>\n",
       "    </tr>\n",
       "    <tr>\n",
       "      <th>Renewable energy share in the total final energy consumption (%)</th>\n",
       "      <td>3455</td>\n",
       "      <td>32.63816497829229</td>\n",
       "      <td>29.89490136284931</td>\n",
       "      <td>0</td>\n",
       "      <td>96.04</td>\n",
       "    </tr>\n",
       "    <tr>\n",
       "      <th>Electricity from fossil fuels (TWh)</th>\n",
       "      <td>3628</td>\n",
       "      <td>70.3650027563395</td>\n",
       "      <td>348.0518661301112</td>\n",
       "      <td>0</td>\n",
       "      <td>99.83</td>\n",
       "    </tr>\n",
       "    <tr>\n",
       "      <th>Electricity from nuclear (TWh)</th>\n",
       "      <td>3523</td>\n",
       "      <td>13.450190178824874</td>\n",
       "      <td>73.00662309724122</td>\n",
       "      <td>0</td>\n",
       "      <td>99.46</td>\n",
       "    </tr>\n",
       "    <tr>\n",
       "      <th>Electricity from renewables (TWh)</th>\n",
       "      <td>3628</td>\n",
       "      <td>23.968009922822443</td>\n",
       "      <td>104.43108494343323</td>\n",
       "      <td>0</td>\n",
       "      <td>999.56</td>\n",
       "    </tr>\n",
       "    <tr>\n",
       "      <th>Low-carbon electricity (% electricity)</th>\n",
       "      <td>3607</td>\n",
       "      <td>36.8011818698508</td>\n",
       "      <td>34.31488417070435</td>\n",
       "      <td>0</td>\n",
       "      <td>99.99999</td>\n",
       "    </tr>\n",
       "    <tr>\n",
       "      <th>Primary energy consumption per capita (kWh/person)</th>\n",
       "      <td>3649</td>\n",
       "      <td>25743.981745042187</td>\n",
       "      <td>34773.22136574411</td>\n",
       "      <td>0</td>\n",
       "      <td>9999.618</td>\n",
       "    </tr>\n",
       "    <tr>\n",
       "      <th>Energy intensity level of primary energy (MJ/$2017 PPP GDP)</th>\n",
       "      <td>3442</td>\n",
       "      <td>5.307345058890176</td>\n",
       "      <td>3.5320200831542703</td>\n",
       "      <td>0.11</td>\n",
       "      <td>9.99</td>\n",
       "    </tr>\n",
       "    <tr>\n",
       "      <th>Value_co2_emissions_kt_by_country</th>\n",
       "      <td>3221</td>\n",
       "      <td>159866.46268574576</td>\n",
       "      <td>773661.0643937221</td>\n",
       "      <td>10</td>\n",
       "      <td>9989.999771</td>\n",
       "    </tr>\n",
       "    <tr>\n",
       "      <th>Renewables (% equivalent primary energy)</th>\n",
       "      <td>1512</td>\n",
       "      <td>11.98670682809521</td>\n",
       "      <td>14.994644244604254</td>\n",
       "      <td>0</td>\n",
       "      <td>9.996943</td>\n",
       "    </tr>\n",
       "    <tr>\n",
       "      <th>gdp_growth</th>\n",
       "      <td>3332</td>\n",
       "      <td>3.441610056684865</td>\n",
       "      <td>5.686720157202891</td>\n",
       "      <td>-0.003836559</td>\n",
       "      <td>9.999994812</td>\n",
       "    </tr>\n",
       "    <tr>\n",
       "      <th>gdp_per_capita</th>\n",
       "      <td>3367</td>\n",
       "      <td>13283.774347967446</td>\n",
       "      <td>19709.866715804725</td>\n",
       "      <td>1000.936715</td>\n",
       "      <td>998.829388</td>\n",
       "    </tr>\n",
       "    <tr>\n",
       "      <th>Density(P/Km2)</th>\n",
       "      <td>3648</td>\n",
       "      <td>141.03048264182897</td>\n",
       "      <td>169.2210812480414</td>\n",
       "      <td>1,265</td>\n",
       "      <td>99</td>\n",
       "    </tr>\n",
       "    <tr>\n",
       "      <th>Land Area(Km2)</th>\n",
       "      <td>3648</td>\n",
       "      <td>633213.4893092106</td>\n",
       "      <td>1585519.2164607828</td>\n",
       "      <td>1001450</td>\n",
       "      <td>9984670</td>\n",
       "    </tr>\n",
       "    <tr>\n",
       "      <th>Latitude</th>\n",
       "      <td>3648</td>\n",
       "      <td>18.24638776044415</td>\n",
       "      <td>24.15923168795461</td>\n",
       "      <td>-0.023559</td>\n",
       "      <td>9.945587</td>\n",
       "    </tr>\n",
       "    <tr>\n",
       "      <th>Longitude</th>\n",
       "      <td>3648</td>\n",
       "      <td>14.82269454217112</td>\n",
       "      <td>66.34814783833218</td>\n",
       "      <td>-1.023194</td>\n",
       "      <td>95.955974</td>\n",
       "    </tr>\n",
       "  </tbody>\n",
       "</table>\n",
       "</div>"
      ],
      "text/plain": [
       "                                                        0                   1  \\\n",
       "summary                                             count                mean   \n",
       "Entity                                               3649                None   \n",
       "Year                                                 3649  2010.0383666758016   \n",
       "Access to electricity (% of population)              3639   78.93370216207742   \n",
       "Access to clean fuels for cooking                    3480  63.255287356321816   \n",
       "Renewable-electricity-generating-capacity-per-c...   2718  113.13749816041195   \n",
       "Financial flows to developing countries (US $)       1560            9.4224E7   \n",
       "Renewable energy share in the total final energ...   3455   32.63816497829229   \n",
       "Electricity from fossil fuels (TWh)                  3628    70.3650027563395   \n",
       "Electricity from nuclear (TWh)                       3523  13.450190178824874   \n",
       "Electricity from renewables (TWh)                    3628  23.968009922822443   \n",
       "Low-carbon electricity (% electricity)               3607    36.8011818698508   \n",
       "Primary energy consumption per capita (kWh/person)   3649  25743.981745042187   \n",
       "Energy intensity level of primary energy (MJ/$2...   3442   5.307345058890176   \n",
       "Value_co2_emissions_kt_by_country                    3221  159866.46268574576   \n",
       "Renewables (% equivalent primary energy)             1512   11.98670682809521   \n",
       "gdp_growth                                           3332   3.441610056684865   \n",
       "gdp_per_capita                                       3367  13283.774347967446   \n",
       "Density(P/Km2)                                       3648  141.03048264182897   \n",
       "Land Area(Km2)                                       3648   633213.4893092106   \n",
       "Latitude                                             3648   18.24638776044415   \n",
       "Longitude                                            3648   14.82269454217112   \n",
       "\n",
       "                                                                      2  \\\n",
       "summary                                                          stddev   \n",
       "Entity                                                             None   \n",
       "Year                                                  6.054228365650764   \n",
       "Access to electricity (% of population)              30.275541433748966   \n",
       "Access to clean fuels for cooking                      39.0436575747337   \n",
       "Renewable-electricity-generating-capacity-per-c...   244.16725566287886   \n",
       "Financial flows to developing countries (US $)      2.981544065856051E8   \n",
       "Renewable energy share in the total final energ...    29.89490136284931   \n",
       "Electricity from fossil fuels (TWh)                   348.0518661301112   \n",
       "Electricity from nuclear (TWh)                        73.00662309724122   \n",
       "Electricity from renewables (TWh)                    104.43108494343323   \n",
       "Low-carbon electricity (% electricity)                34.31488417070435   \n",
       "Primary energy consumption per capita (kWh/person)    34773.22136574411   \n",
       "Energy intensity level of primary energy (MJ/$2...   3.5320200831542703   \n",
       "Value_co2_emissions_kt_by_country                     773661.0643937221   \n",
       "Renewables (% equivalent primary energy)             14.994644244604254   \n",
       "gdp_growth                                            5.686720157202891   \n",
       "gdp_per_capita                                       19709.866715804725   \n",
       "Density(P/Km2)                                        169.2210812480414   \n",
       "Land Area(Km2)                                       1585519.2164607828   \n",
       "Latitude                                              24.15923168795461   \n",
       "Longitude                                             66.34814783833218   \n",
       "\n",
       "                                                               3            4  \n",
       "summary                                                      min          max  \n",
       "Entity                                               Afghanistan     Zimbabwe  \n",
       "Year                                                        2000         2020  \n",
       "Access to electricity (% of population)                1.2522693     99.99887  \n",
       "Access to clean fuels for cooking                              0         99.9  \n",
       "Renewable-electricity-generating-capacity-per-c...             0        99.89  \n",
       "Financial flows to developing countries (US $)                 0     99900000  \n",
       "Renewable energy share in the total final energ...             0        96.04  \n",
       "Electricity from fossil fuels (TWh)                            0        99.83  \n",
       "Electricity from nuclear (TWh)                                 0        99.46  \n",
       "Electricity from renewables (TWh)                              0       999.56  \n",
       "Low-carbon electricity (% electricity)                         0     99.99999  \n",
       "Primary energy consumption per capita (kWh/person)             0     9999.618  \n",
       "Energy intensity level of primary energy (MJ/$2...          0.11         9.99  \n",
       "Value_co2_emissions_kt_by_country                             10  9989.999771  \n",
       "Renewables (% equivalent primary energy)                       0     9.996943  \n",
       "gdp_growth                                          -0.003836559  9.999994812  \n",
       "gdp_per_capita                                       1000.936715   998.829388  \n",
       "Density(P/Km2)                                             1,265           99  \n",
       "Land Area(Km2)                                           1001450      9984670  \n",
       "Latitude                                               -0.023559     9.945587  \n",
       "Longitude                                              -1.023194    95.955974  "
      ]
     },
     "metadata": {},
     "output_type": "display_data"
    }
   ],
   "source": [
    "# We can use the describe method get some general statistics on our data too. Remember to show the DataFrame!\n",
    "# But what about data type?\n",
    "# df.describe().show()\n",
    "\n",
    "stats_df = df.describe()\n",
    "# Convert Spark DataFrame to Pandas DataFrame\n",
    "stats_pd = stats_df.toPandas()\n",
    "\n",
    "# Transpose the Pandas DataFrame\n",
    "transposed_stats_pd = stats_pd.transpose()\n",
    "\n",
    "from IPython.display import display\n",
    "\n",
    "# Display the transposed DataFrame\n",
    "display(transposed_stats_pd)\n"
   ]
  },
  {
   "cell_type": "code",
   "execution_count": 12,
   "id": "92b5af1b",
   "metadata": {},
   "outputs": [
    {
     "name": "stdout",
     "output_type": "stream",
     "text": [
      "Number of unique countries in dataset 'Entity': 176\n"
     ]
    }
   ],
   "source": [
    "# Count unique values for a specific column\n",
    "column_name = \"Entity\"\n",
    "unique_count = df.select(column_name).distinct().count()\n",
    "print(f\"Number of unique countries in dataset '{column_name}': {unique_count}\")"
   ]
  },
  {
   "cell_type": "code",
   "execution_count": 8,
   "id": "4bdd9f1e",
   "metadata": {},
   "outputs": [
    {
     "name": "stdout",
     "output_type": "stream",
     "text": [
      "+-----------+----+----+--------------------+\n",
      "|     Entity|Code|Year|Annual CO₂ emissions|\n",
      "+-----------+----+----+--------------------+\n",
      "|Afghanistan| AFG|1949|               14656|\n",
      "|Afghanistan| AFG|1950|               84272|\n",
      "|Afghanistan| AFG|1951|               91600|\n",
      "|Afghanistan| AFG|1952|               91600|\n",
      "|Afghanistan| AFG|1953|              106256|\n",
      "|Afghanistan| AFG|1954|              106256|\n",
      "|Afghanistan| AFG|1955|              153888|\n",
      "|Afghanistan| AFG|1956|              183200|\n",
      "|Afghanistan| AFG|1957|              293120|\n",
      "|Afghanistan| AFG|1958|              329760|\n",
      "|Afghanistan| AFG|1959|              384571|\n",
      "|Afghanistan| AFG|1960|              413885|\n",
      "|Afghanistan| AFG|1961|              490798|\n",
      "|Afghanistan| AFG|1962|              688594|\n",
      "|Afghanistan| AFG|1963|              706736|\n",
      "|Afghanistan| AFG|1964|              838551|\n",
      "|Afghanistan| AFG|1965|             1006917|\n",
      "|Afghanistan| AFG|1966|             1091159|\n",
      "|Afghanistan| AFG|1967|             1281865|\n",
      "|Afghanistan| AFG|1968|             1223391|\n",
      "+-----------+----+----+--------------------+\n",
      "only showing top 20 rows\n",
      "\n"
     ]
    },
    {
     "data": {
      "text/plain": [
       "['Entity', 'Code', 'Year', 'Annual CO₂ emissions']"
      ]
     },
     "execution_count": 8,
     "metadata": {},
     "output_type": "execute_result"
    }
   ],
   "source": [
    "# The show method allows you visualise DataFrames. We can see that there are two columns. \n",
    "df2.show()\n",
    "\n",
    "# You could also try this. \n",
    "df2.columns"
   ]
  },
  {
   "cell_type": "code",
   "execution_count": 9,
   "id": "6028e6ea",
   "metadata": {},
   "outputs": [
    {
     "name": "stdout",
     "output_type": "stream",
     "text": [
      "Number of rows: 30308\n",
      "Number of columns: 4\n"
     ]
    }
   ],
   "source": [
    "num_rows = df2.count()\n",
    "print(f\"Number of rows: {num_rows}\")\n",
    "\n",
    "num_columns = len(df2.columns)\n",
    "print(f\"Number of columns: {num_columns}\")"
   ]
  },
  {
   "cell_type": "code",
   "execution_count": 10,
   "id": "bd55f5da",
   "metadata": {},
   "outputs": [
    {
     "name": "stdout",
     "output_type": "stream",
     "text": [
      "root\n",
      " |-- Entity: string (nullable = true)\n",
      " |-- Code: string (nullable = true)\n",
      " |-- Year: string (nullable = true)\n",
      " |-- Annual CO₂ emissions: string (nullable = true)\n",
      "\n"
     ]
    }
   ],
   "source": [
    "# For type, we can use print schema. \n",
    "# But wait! What if you want to change the format of the data? Maybe change age to an integer instead of long?\n",
    "df2.printSchema()"
   ]
  },
  {
   "cell_type": "code",
   "execution_count": 11,
   "id": "3005c84d",
   "metadata": {
    "scrolled": true
   },
   "outputs": [
    {
     "name": "stderr",
     "output_type": "stream",
     "text": [
      "\r",
      "[Stage 13:>                                                         (0 + 1) / 1]\r"
     ]
    },
    {
     "name": "stdout",
     "output_type": "stream",
     "text": [
      "+-------+-----------+-----+------------------+--------------------+\n",
      "|summary|     Entity| Code|              Year|Annual CO₂ emissions|\n",
      "+-------+-----------+-----+------------------+--------------------+\n",
      "|  count|      30308|24157|             30308|               30308|\n",
      "|   mean|       null| null|1940.1913356209582| 3.912721561273364E8|\n",
      "| stddev|       null| null| 65.51023156216606|1.8558246650416756E9|\n",
      "|    min|Afghanistan|  ABW|              1750|                   0|\n",
      "|    max|   Zimbabwe|  ZWE|              2022|              999975|\n",
      "+-------+-----------+-----+------------------+--------------------+\n",
      "\n"
     ]
    },
    {
     "name": "stderr",
     "output_type": "stream",
     "text": [
      "\r",
      "                                                                                \r"
     ]
    }
   ],
   "source": [
    "# We can use the describe method get some general statistics on our data too. Remember to show the DataFrame!\n",
    "# But what about data type?\n",
    "df2.describe().show()"
   ]
  },
  {
   "cell_type": "markdown",
   "id": "1443b0e5",
   "metadata": {},
   "source": [
    "## 2.3 Data Exploration"
   ]
  }
 ],
 "metadata": {
  "kernelspec": {
   "display_name": "Python 3 (ipykernel)",
   "language": "python",
   "name": "python3"
  },
  "language_info": {
   "codemirror_mode": {
    "name": "ipython",
    "version": 3
   },
   "file_extension": ".py",
   "mimetype": "text/x-python",
   "name": "python",
   "nbconvert_exporter": "python",
   "pygments_lexer": "ipython3",
   "version": "3.10.4"
  }
 },
 "nbformat": 4,
 "nbformat_minor": 5
}
