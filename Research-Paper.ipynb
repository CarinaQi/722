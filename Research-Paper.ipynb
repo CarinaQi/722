{
 "cells": [
  {
   "cell_type": "code",
   "execution_count": 2,
   "id": "0b186fbb",
   "metadata": {},
   "outputs": [
    {
     "name": "stderr",
     "output_type": "stream",
     "text": [
      "WARNING: An illegal reflective access operation has occurred\n",
      "WARNING: Illegal reflective access by org.apache.spark.unsafe.Platform (file:/home/ubuntu/spark-3.2.1-bin-hadoop2.7/jars/spark-unsafe_2.12-3.2.1.jar) to constructor java.nio.DirectByteBuffer(long,int)\n",
      "WARNING: Please consider reporting this to the maintainers of org.apache.spark.unsafe.Platform\n",
      "WARNING: Use --illegal-access=warn to enable warnings of further illegal reflective access operations\n",
      "WARNING: All illegal access operations will be denied in a future release\n",
      "Using Spark's default log4j profile: org/apache/spark/log4j-defaults.properties\n",
      "Setting default log level to \"WARN\".\n",
      "To adjust logging level use sc.setLogLevel(newLevel). For SparkR, use setLogLevel(newLevel).\n",
      "24/06/03 07:52:17 WARN NativeCodeLoader: Unable to load native-hadoop library for your platform... using builtin-java classes where applicable\n"
     ]
    }
   ],
   "source": [
    "# Must be included at the beginning of each new notebook. Remember to change the app name.\n",
    "import findspark\n",
    "findspark.init('/home/ubuntu/spark-3.2.1-bin-hadoop2.7')\n",
    "import pyspark\n",
    "from pyspark.sql import SparkSession\n",
    "spark = SparkSession.builder.appName('research').getOrCreate()"
   ]
  },
  {
   "cell_type": "code",
   "execution_count": 3,
   "id": "c316d63e",
   "metadata": {},
   "outputs": [
    {
     "name": "stderr",
     "output_type": "stream",
     "text": [
      "                                                                                \r"
     ]
    }
   ],
   "source": [
    "# Let's read in the data.\n",
    "df = spark.read.option(\"header\", \"true\").csv('Datasets/global-data-on-sustainable-energy.csv')\n",
    "df2 = spark.read.option(\"header\", \"true\").csv('Datasets/annual-co2-emissions-per-country.csv')\n",
    "df1 = spark.read.option(\"header\", \"true\").csv('Datasets/health-expenditure-and-financing-per-capita.csv')"
   ]
  },
  {
   "cell_type": "markdown",
   "id": "586a9cc7",
   "metadata": {},
   "source": [
    "## 2.2 Dataset Information"
   ]
  },
  {
   "cell_type": "code",
   "execution_count": 4,
   "id": "17c00244",
   "metadata": {},
   "outputs": [
    {
     "name": "stdout",
     "output_type": "stream",
     "text": [
      "+-----------+----+---------------------------------------+---------------------------------+----------------------------------------------------+----------------------------------------------+----------------------------------------------------------------+-----------------------------------+------------------------------+---------------------------------+--------------------------------------+--------------------------------------------------+-----------------------------------------------------------+---------------------------------+----------------------------------------+-----------+--------------+--------------+--------------+--------+---------+\n",
      "|     Entity|Year|Access to electricity (% of population)|Access to clean fuels for cooking|Renewable-electricity-generating-capacity-per-capita|Financial flows to developing countries (US $)|Renewable energy share in the total final energy consumption (%)|Electricity from fossil fuels (TWh)|Electricity from nuclear (TWh)|Electricity from renewables (TWh)|Low-carbon electricity (% electricity)|Primary energy consumption per capita (kWh/person)|Energy intensity level of primary energy (MJ/$2017 PPP GDP)|Value_co2_emissions_kt_by_country|Renewables (% equivalent primary energy)| gdp_growth|gdp_per_capita|Density(P/Km2)|Land Area(Km2)|Latitude|Longitude|\n",
      "+-----------+----+---------------------------------------+---------------------------------+----------------------------------------------------+----------------------------------------------+----------------------------------------------------------------+-----------------------------------+------------------------------+---------------------------------+--------------------------------------+--------------------------------------------------+-----------------------------------------------------------+---------------------------------+----------------------------------------+-----------+--------------+--------------+--------------+--------+---------+\n",
      "|Afghanistan|2000|                               1.613591|                              6.2|                                                9.22|                                         20000|                                                           44.99|                               0.16|                             0|                             0.31|                              65.95744|                                         302.59482|                                                       1.64|                              760|                                    null|       null|          null|            60|        652230|33.93911|67.709953|\n",
      "|Afghanistan|2001|                               4.074574|                              7.2|                                                8.86|                                        130000|                                                            45.6|                               0.09|                             0|                              0.5|                             84.745766|                                         236.89185|                                                       1.74|                              730|                                    null|       null|          null|            60|        652230|33.93911|67.709953|\n",
      "|Afghanistan|2002|                               9.409158|                              8.2|                                                8.47|                                       3950000|                                                           37.83|                               0.13|                             0|                             0.56|                             81.159424|                                         210.86215|                                                        1.4|                      1029.999971|                                    null|       null|   179.4265792|            60|        652230|33.93911|67.709953|\n",
      "|Afghanistan|2003|                              14.738506|                              9.5|                                                8.09|                                      25970000|                                                           36.66|                               0.31|                             0|                             0.63|                              67.02128|                                         229.96822|                                                        1.4|                      1220.000029|                                    null|8.832277813|   190.6838143|            60|        652230|33.93911|67.709953|\n",
      "|Afghanistan|2004|                              20.064968|                             10.9|                                                7.75|                                          null|                                                           44.24|                               0.33|                             0|                             0.56|                              62.92135|                                         204.23125|                                                        1.2|                      1029.999971|                                    null|1.414117981|   211.3820742|            60|        652230|33.93911|67.709953|\n",
      "|Afghanistan|2005|                              25.390894|                             12.2|                                                7.51|                                       9830000|                                                           33.88|                               0.34|                             0|                             0.59|                             63.440857|                                         252.06912|                                                       1.41|                      1549.999952|                                    null|11.22971482|   242.0313132|            60|        652230|33.93911|67.709953|\n",
      "|Afghanistan|2006|                               30.71869|                            13.85|                                                 7.4|                                      10620000|                                                           31.89|                                0.2|                             0|                             0.64|                             76.190475|                                          304.4209|                                                        1.5|                       1759.99999|                                    null|5.357403251|   263.7336019|            60|        652230|33.93911|67.709953|\n",
      "|Afghanistan|2007|                               36.05101|                             15.3|                                                7.25|                                      15750000|                                                           28.78|                                0.2|                             0|                             0.75|                              78.94737|                                          354.2799|                                                       1.53|                      1769.999981|                                    null|13.82631955|   359.6931579|            60|        652230|33.93911|67.709953|\n",
      "|Afghanistan|2008|                                   42.4|                             16.7|                                                7.49|                                      16170000|                                                           21.17|                               0.19|                             0|                             0.54|                               73.9726|                                          607.8335|                                                       1.94|                      3559.999943|                                    null|3.924983822|    364.663542|            60|        652230|33.93911|67.709953|\n",
      "|Afghanistan|2009|                               46.74005|                             18.4|                                                 7.5|                                       9960000|                                                           16.53|                               0.16|                             0|                             0.78|                              82.97872|                                         975.04816|                                                       2.25|                      4880.000114|                                    null|21.39052839|   437.2687402|            60|        652230|33.93911|67.709953|\n",
      "|Afghanistan|2010|                                   42.7|                               20|                                                8.27|                                      36500000|                                                           15.15|                               0.19|                             0|                             0.75|                              79.78723|                                          1182.892|                                                       2.46|                      7110.000134|                                    null|14.36244147|   543.3065262|            60|        652230|33.93911|67.709953|\n",
      "|Afghanistan|2011|                               43.22202|                             21.8|                                                8.13|                                      28690000|                                                           12.61|                               0.18|                             0|                              0.6|                              76.92309|                                         1436.1143|                                                       3.23|                      8930.000305|                                    null|0.426354785|   591.1900302|            60|        652230|33.93911|67.709953|\n",
      "|Afghanistan|2012|                                   69.1|                               23|                                                9.29|                                      62630000|                                                           15.36|                               0.14|                             0|                             0.74|                              84.09091|                                         1324.1211|                                                       2.61|                      8079.999924|                                    null|12.75228709|   638.8458516|            60|        652230|33.93911|67.709953|\n",
      "|Afghanistan|2013|                               68.29065|                             24.8|                                                 9.1|                                     268460000|                                                           16.86|                               0.22|                             0|                             0.89|                             80.180176|                                         1060.7926|                                                       2.46|                      5989.999771|                                    null|5.600744658|   624.3154545|            60|        652230|33.93911|67.709953|\n",
      "|Afghanistan|2014|                                   89.5|                             26.1|                                                8.95|                                       6940000|                                                           18.93|                               0.16|                             0|                                1|                               86.2069|                                          868.5762|                                                       2.25|                      4880.000114|                                    null|2.724543364|   614.2233424|            60|        652230|33.93911|67.709953|\n",
      "|Afghanistan|2015|                                   71.5|                             27.4|                                                8.79|                                       4890000|                                                           17.53|                               0.15|                             0|                             1.03|                              87.28814|                                          970.0803|                                                       2.37|                      5949.999809|                                    null| 1.45131466|   556.0072209|            60|        652230|33.93911|67.709953|\n",
      "|Afghanistan|2016|                                   97.7|                             28.6|                                                9.87|                                        860000|                                                           19.92|                               0.15|                             0|                             1.06|                             87.603294|                                         862.79114|                                                       2.24|                      5300.000191|                                    null|2.260314201|   512.0127781|            60|        652230|33.93911|67.709953|\n",
      "|Afghanistan|2017|                                   97.7|                             29.7|                                                9.79|                                      50330000|                                                           19.21|                               0.18|                             0|                             1.09|                             85.826775|                                         829.31195|                                                        2.3|                       4780.00021|                                    null|2.647003202|   516.6798622|            60|        652230|33.93911|67.709953|\n",
      "|Afghanistan|2018|                              96.616135|                             30.9|                                                9.55|                                      70100000|                                                           17.96|                                0.2|                             0|                             0.97|                              82.90598|                                         924.25085|                                                       2.44|                      6070.000172|                                    null|1.189228128|   485.6684187|            60|        652230|33.93911|67.709953|\n",
      "|Afghanistan|2019|                                   97.7|                             31.9|                                                9.58|                                       4620000|                                                           18.51|                               0.18|                             0|                             0.89|                              83.17757|                                         802.61255|                                                       2.41|                      6079.999924|                                    null|3.911603419|   494.1793499|            60|        652230|33.93911|67.709953|\n",
      "+-----------+----+---------------------------------------+---------------------------------+----------------------------------------------------+----------------------------------------------+----------------------------------------------------------------+-----------------------------------+------------------------------+---------------------------------+--------------------------------------+--------------------------------------------------+-----------------------------------------------------------+---------------------------------+----------------------------------------+-----------+--------------+--------------+--------------+--------+---------+\n",
      "only showing top 20 rows\n",
      "\n"
     ]
    },
    {
     "data": {
      "text/plain": [
       "['Entity',\n",
       " 'Year',\n",
       " 'Access to electricity (% of population)',\n",
       " 'Access to clean fuels for cooking',\n",
       " 'Renewable-electricity-generating-capacity-per-capita',\n",
       " 'Financial flows to developing countries (US $)',\n",
       " 'Renewable energy share in the total final energy consumption (%)',\n",
       " 'Electricity from fossil fuels (TWh)',\n",
       " 'Electricity from nuclear (TWh)',\n",
       " 'Electricity from renewables (TWh)',\n",
       " 'Low-carbon electricity (% electricity)',\n",
       " 'Primary energy consumption per capita (kWh/person)',\n",
       " 'Energy intensity level of primary energy (MJ/$2017 PPP GDP)',\n",
       " 'Value_co2_emissions_kt_by_country',\n",
       " 'Renewables (% equivalent primary energy)',\n",
       " 'gdp_growth',\n",
       " 'gdp_per_capita',\n",
       " 'Density(P/Km2)',\n",
       " 'Land Area(Km2)',\n",
       " 'Latitude',\n",
       " 'Longitude']"
      ]
     },
     "execution_count": 4,
     "metadata": {},
     "output_type": "execute_result"
    }
   ],
   "source": [
    "# The show method allows you visualise DataFrames. We can see that there are two columns. \n",
    "df.show()\n",
    "\n",
    "# You could also try this. \n",
    "df.columns"
   ]
  },
  {
   "cell_type": "code",
   "execution_count": 5,
   "id": "90b5173c",
   "metadata": {},
   "outputs": [
    {
     "name": "stdout",
     "output_type": "stream",
     "text": [
      "Number of rows: 3649\n",
      "Number of columns: 21\n"
     ]
    }
   ],
   "source": [
    "num_rows = df.count()\n",
    "print(f\"Number of rows: {num_rows}\")\n",
    "\n",
    "num_columns = len(df.columns)\n",
    "print(f\"Number of columns: {num_columns}\")"
   ]
  },
  {
   "cell_type": "code",
   "execution_count": 6,
   "id": "427528c5",
   "metadata": {},
   "outputs": [
    {
     "name": "stdout",
     "output_type": "stream",
     "text": [
      "root\n",
      " |-- Entity: string (nullable = true)\n",
      " |-- Year: string (nullable = true)\n",
      " |-- Access to electricity (% of population): string (nullable = true)\n",
      " |-- Access to clean fuels for cooking: string (nullable = true)\n",
      " |-- Renewable-electricity-generating-capacity-per-capita: string (nullable = true)\n",
      " |-- Financial flows to developing countries (US $): string (nullable = true)\n",
      " |-- Renewable energy share in the total final energy consumption (%): string (nullable = true)\n",
      " |-- Electricity from fossil fuels (TWh): string (nullable = true)\n",
      " |-- Electricity from nuclear (TWh): string (nullable = true)\n",
      " |-- Electricity from renewables (TWh): string (nullable = true)\n",
      " |-- Low-carbon electricity (% electricity): string (nullable = true)\n",
      " |-- Primary energy consumption per capita (kWh/person): string (nullable = true)\n",
      " |-- Energy intensity level of primary energy (MJ/$2017 PPP GDP): string (nullable = true)\n",
      " |-- Value_co2_emissions_kt_by_country: string (nullable = true)\n",
      " |-- Renewables (% equivalent primary energy): string (nullable = true)\n",
      " |-- gdp_growth: string (nullable = true)\n",
      " |-- gdp_per_capita: string (nullable = true)\n",
      " |-- Density(P/Km2): string (nullable = true)\n",
      " |-- Land Area(Km2): string (nullable = true)\n",
      " |-- Latitude: string (nullable = true)\n",
      " |-- Longitude: string (nullable = true)\n",
      "\n"
     ]
    }
   ],
   "source": [
    "# For type, we can use print schema. \n",
    "# But wait! What if you want to change the format of the data? Maybe change age to an integer instead of long?\n",
    "df.printSchema()"
   ]
  },
  {
   "cell_type": "markdown",
   "id": "e055d8b0",
   "metadata": {},
   "source": [
    "## Data Manipulation"
   ]
  },
  {
   "cell_type": "code",
   "execution_count": 7,
   "id": "8955b364",
   "metadata": {},
   "outputs": [],
   "source": [
    "# Let's import in the relevant types.\n",
    "from pyspark.sql.types import (StructField,StringType,IntegerType,FloatType,StructType)"
   ]
  },
  {
   "cell_type": "code",
   "execution_count": 8,
   "id": "2fe4f967",
   "metadata": {},
   "outputs": [],
   "source": [
    "# Then create a variable with the correct structure.\n",
    "data_schema = [StructField('Entity',StringType(),True),\n",
    "              StructField('Year',IntegerType(),True),\n",
    "               StructField('Access to electricity (% of population)',FloatType(),True),\n",
    "               StructField('Access to clean fuels for cooking',FloatType(),True),\n",
    "               StructField('Renewable-electricity-generating-capacity-per-capita',FloatType(),True),\n",
    "               StructField('Financial flows to developing countries (US $)',IntegerType(),True),\n",
    "               StructField('Renewable energy share in the total final energy consumption (%)',FloatType(),True),\n",
    "               StructField('Electricity from fossil fuels (TWh)',FloatType(),True),\n",
    "               StructField('Electricity from nuclear (TWh)',FloatType(),True),\n",
    "               StructField('Electricity from renewables (TWh)',FloatType(),True),\n",
    "               StructField('Low-carbon electricity (% electricity)',FloatType(),True),\n",
    "               StructField('Primary energy consumption per capita (kWh/person)',FloatType(),True),\n",
    "               StructField('Energy intensity level of primary energy (MJ/$2017 PPP GDP)',FloatType(),True),\n",
    "               StructField('Value_co2_emissions_kt_by_country',FloatType(),True),\n",
    "               StructField('Renewables (% equivalent primary energy)',FloatType(),True),\n",
    "               StructField('gdp_growth',FloatType(),True),\n",
    "               StructField('gdp_per_capita',FloatType(),True),\n",
    "               StructField('Density(P/Km2)',IntegerType(),True),\n",
    "               StructField('Land Area(Km2)',IntegerType(),True),\n",
    "               StructField('Latitude',FloatType(),True),\n",
    "               StructField('Longitude',FloatType(),True),\n",
    "              ]\n",
    "\n",
    "final_struct = StructType(fields=data_schema)"
   ]
  },
  {
   "cell_type": "code",
   "execution_count": 9,
   "id": "b53a94a9",
   "metadata": {},
   "outputs": [
    {
     "name": "stdout",
     "output_type": "stream",
     "text": [
      "root\n",
      " |-- Entity: string (nullable = true)\n",
      " |-- Year: integer (nullable = true)\n",
      " |-- Access to electricity (% of population): float (nullable = true)\n",
      " |-- Access to clean fuels for cooking: float (nullable = true)\n",
      " |-- Renewable-electricity-generating-capacity-per-capita: float (nullable = true)\n",
      " |-- Financial flows to developing countries (US $): integer (nullable = true)\n",
      " |-- Renewable energy share in the total final energy consumption (%): float (nullable = true)\n",
      " |-- Electricity from fossil fuels (TWh): float (nullable = true)\n",
      " |-- Electricity from nuclear (TWh): float (nullable = true)\n",
      " |-- Electricity from renewables (TWh): float (nullable = true)\n",
      " |-- Low-carbon electricity (% electricity): float (nullable = true)\n",
      " |-- Primary energy consumption per capita (kWh/person): float (nullable = true)\n",
      " |-- Energy intensity level of primary energy (MJ/$2017 PPP GDP): float (nullable = true)\n",
      " |-- Value_co2_emissions_kt_by_country: float (nullable = true)\n",
      " |-- Renewables (% equivalent primary energy): float (nullable = true)\n",
      " |-- gdp_growth: float (nullable = true)\n",
      " |-- gdp_per_capita: float (nullable = true)\n",
      " |-- Density(P/Km2): integer (nullable = true)\n",
      " |-- Land Area(Km2): integer (nullable = true)\n",
      " |-- Latitude: float (nullable = true)\n",
      " |-- Longitude: float (nullable = true)\n",
      "\n"
     ]
    }
   ],
   "source": [
    "# And now we can read in the data using that schema. If we print the schema, we can see that age is now an integer. \n",
    "df = spark.read.option(\"header\", \"true\").csv('Datasets/global-data-on-sustainable-energy.csv', schema=final_struct)\n",
    "df.printSchema()"
   ]
  },
  {
   "cell_type": "code",
   "execution_count": 10,
   "id": "30b8147d",
   "metadata": {},
   "outputs": [
    {
     "name": "stderr",
     "output_type": "stream",
     "text": [
      "                                                                                \r"
     ]
    },
    {
     "data": {
      "text/html": [
       "<div>\n",
       "<style scoped>\n",
       "    .dataframe tbody tr th:only-of-type {\n",
       "        vertical-align: middle;\n",
       "    }\n",
       "\n",
       "    .dataframe tbody tr th {\n",
       "        vertical-align: top;\n",
       "    }\n",
       "\n",
       "    .dataframe thead th {\n",
       "        text-align: right;\n",
       "    }\n",
       "</style>\n",
       "<table border=\"1\" class=\"dataframe\">\n",
       "  <thead>\n",
       "    <tr style=\"text-align: right;\">\n",
       "      <th></th>\n",
       "      <th>0</th>\n",
       "      <th>1</th>\n",
       "      <th>2</th>\n",
       "      <th>3</th>\n",
       "      <th>4</th>\n",
       "    </tr>\n",
       "  </thead>\n",
       "  <tbody>\n",
       "    <tr>\n",
       "      <th>summary</th>\n",
       "      <td>count</td>\n",
       "      <td>mean</td>\n",
       "      <td>stddev</td>\n",
       "      <td>min</td>\n",
       "      <td>max</td>\n",
       "    </tr>\n",
       "    <tr>\n",
       "      <th>Entity</th>\n",
       "      <td>3649</td>\n",
       "      <td>None</td>\n",
       "      <td>None</td>\n",
       "      <td>Afghanistan</td>\n",
       "      <td>Zimbabwe</td>\n",
       "    </tr>\n",
       "    <tr>\n",
       "      <th>Year</th>\n",
       "      <td>3649</td>\n",
       "      <td>2010.0383666758016</td>\n",
       "      <td>6.054228365650764</td>\n",
       "      <td>2000</td>\n",
       "      <td>2020</td>\n",
       "    </tr>\n",
       "    <tr>\n",
       "      <th>Access to electricity (% of population)</th>\n",
       "      <td>3639</td>\n",
       "      <td>78.93370218462393</td>\n",
       "      <td>30.27554143208654</td>\n",
       "      <td>1.2522693</td>\n",
       "      <td>100.0</td>\n",
       "    </tr>\n",
       "    <tr>\n",
       "      <th>Access to clean fuels for cooking</th>\n",
       "      <td>3480</td>\n",
       "      <td>63.25528734745993</td>\n",
       "      <td>39.04365758993957</td>\n",
       "      <td>0.0</td>\n",
       "      <td>100.0</td>\n",
       "    </tr>\n",
       "    <tr>\n",
       "      <th>Renewable-electricity-generating-capacity-per-capita</th>\n",
       "      <td>2718</td>\n",
       "      <td>113.13749808244985</td>\n",
       "      <td>244.16725470613554</td>\n",
       "      <td>0.0</td>\n",
       "      <td>3060.19</td>\n",
       "    </tr>\n",
       "    <tr>\n",
       "      <th>Financial flows to developing countries (US $)</th>\n",
       "      <td>1555</td>\n",
       "      <td>8.284976205787781E7</td>\n",
       "      <td>2.135290375742725E8</td>\n",
       "      <td>0</td>\n",
       "      <td>2112780000</td>\n",
       "    </tr>\n",
       "    <tr>\n",
       "      <th>Renewable energy share in the total final energy consumption (%)</th>\n",
       "      <td>3455</td>\n",
       "      <td>32.6381649511784</td>\n",
       "      <td>29.894901331793534</td>\n",
       "      <td>0.0</td>\n",
       "      <td>96.04</td>\n",
       "    </tr>\n",
       "    <tr>\n",
       "      <th>Electricity from fossil fuels (TWh)</th>\n",
       "      <td>3628</td>\n",
       "      <td>70.3650024256478</td>\n",
       "      <td>348.0518635136442</td>\n",
       "      <td>0.0</td>\n",
       "      <td>5184.13</td>\n",
       "    </tr>\n",
       "    <tr>\n",
       "      <th>Electricity from nuclear (TWh)</th>\n",
       "      <td>3523</td>\n",
       "      <td>13.450190180841238</td>\n",
       "      <td>73.00662308995312</td>\n",
       "      <td>0.0</td>\n",
       "      <td>809.41</td>\n",
       "    </tr>\n",
       "    <tr>\n",
       "      <th>Electricity from renewables (TWh)</th>\n",
       "      <td>3628</td>\n",
       "      <td>23.968009911430844</td>\n",
       "      <td>104.43108457776746</td>\n",
       "      <td>0.0</td>\n",
       "      <td>2184.94</td>\n",
       "    </tr>\n",
       "    <tr>\n",
       "      <th>Low-carbon electricity (% electricity)</th>\n",
       "      <td>3607</td>\n",
       "      <td>36.80118187553024</td>\n",
       "      <td>34.31488419631294</td>\n",
       "      <td>0.0</td>\n",
       "      <td>100.00001</td>\n",
       "    </tr>\n",
       "    <tr>\n",
       "      <th>Primary energy consumption per capita (kWh/person)</th>\n",
       "      <td>3649</td>\n",
       "      <td>25743.981725758087</td>\n",
       "      <td>34773.22126385237</td>\n",
       "      <td>0.0</td>\n",
       "      <td>262585.7</td>\n",
       "    </tr>\n",
       "    <tr>\n",
       "      <th>Energy intensity level of primary energy (MJ/$2017 PPP GDP)</th>\n",
       "      <td>3442</td>\n",
       "      <td>5.307345060788567</td>\n",
       "      <td>3.532020074695855</td>\n",
       "      <td>0.11</td>\n",
       "      <td>32.57</td>\n",
       "    </tr>\n",
       "    <tr>\n",
       "      <th>Value_co2_emissions_kt_by_country</th>\n",
       "      <td>3221</td>\n",
       "      <td>159866.462824881</td>\n",
       "      <td>773661.0665638457</td>\n",
       "      <td>10.0</td>\n",
       "      <td>1.070722E7</td>\n",
       "    </tr>\n",
       "    <tr>\n",
       "      <th>Renewables (% equivalent primary energy)</th>\n",
       "      <td>1512</td>\n",
       "      <td>11.986706834179627</td>\n",
       "      <td>14.99464421647629</td>\n",
       "      <td>0.0</td>\n",
       "      <td>86.836586</td>\n",
       "    </tr>\n",
       "    <tr>\n",
       "      <th>gdp_growth</th>\n",
       "      <td>3332</td>\n",
       "      <td>3.441610053690284</td>\n",
       "      <td>5.686720163271315</td>\n",
       "      <td>-62.07592</td>\n",
       "      <td>123.13956</td>\n",
       "    </tr>\n",
       "    <tr>\n",
       "      <th>gdp_per_capita</th>\n",
       "      <td>3367</td>\n",
       "      <td>13283.77433636141</td>\n",
       "      <td>19709.866681800508</td>\n",
       "      <td>111.92722</td>\n",
       "      <td>123514.195</td>\n",
       "    </tr>\n",
       "    <tr>\n",
       "      <th>Density(P/Km2)</th>\n",
       "      <td>3543</td>\n",
       "      <td>141.03048264182897</td>\n",
       "      <td>169.2210812480414</td>\n",
       "      <td>2</td>\n",
       "      <td>1281</td>\n",
       "    </tr>\n",
       "    <tr>\n",
       "      <th>Land Area(Km2)</th>\n",
       "      <td>3648</td>\n",
       "      <td>633213.4893092106</td>\n",
       "      <td>1585519.2164607828</td>\n",
       "      <td>21</td>\n",
       "      <td>9984670</td>\n",
       "    </tr>\n",
       "    <tr>\n",
       "      <th>Latitude</th>\n",
       "      <td>3648</td>\n",
       "      <td>18.246387781768327</td>\n",
       "      <td>24.159231733294813</td>\n",
       "      <td>-40.90056</td>\n",
       "      <td>64.96305</td>\n",
       "    </tr>\n",
       "    <tr>\n",
       "      <th>Longitude</th>\n",
       "      <td>3648</td>\n",
       "      <td>14.822694496888863</td>\n",
       "      <td>66.3481477178707</td>\n",
       "      <td>-175.19824</td>\n",
       "      <td>178.06503</td>\n",
       "    </tr>\n",
       "  </tbody>\n",
       "</table>\n",
       "</div>"
      ],
      "text/plain": [
       "                                                        0  \\\n",
       "summary                                             count   \n",
       "Entity                                               3649   \n",
       "Year                                                 3649   \n",
       "Access to electricity (% of population)              3639   \n",
       "Access to clean fuels for cooking                    3480   \n",
       "Renewable-electricity-generating-capacity-per-c...   2718   \n",
       "Financial flows to developing countries (US $)       1555   \n",
       "Renewable energy share in the total final energ...   3455   \n",
       "Electricity from fossil fuels (TWh)                  3628   \n",
       "Electricity from nuclear (TWh)                       3523   \n",
       "Electricity from renewables (TWh)                    3628   \n",
       "Low-carbon electricity (% electricity)               3607   \n",
       "Primary energy consumption per capita (kWh/person)   3649   \n",
       "Energy intensity level of primary energy (MJ/$2...   3442   \n",
       "Value_co2_emissions_kt_by_country                    3221   \n",
       "Renewables (% equivalent primary energy)             1512   \n",
       "gdp_growth                                           3332   \n",
       "gdp_per_capita                                       3367   \n",
       "Density(P/Km2)                                       3543   \n",
       "Land Area(Km2)                                       3648   \n",
       "Latitude                                             3648   \n",
       "Longitude                                            3648   \n",
       "\n",
       "                                                                      1  \\\n",
       "summary                                                            mean   \n",
       "Entity                                                             None   \n",
       "Year                                                 2010.0383666758016   \n",
       "Access to electricity (% of population)               78.93370218462393   \n",
       "Access to clean fuels for cooking                     63.25528734745993   \n",
       "Renewable-electricity-generating-capacity-per-c...   113.13749808244985   \n",
       "Financial flows to developing countries (US $)      8.284976205787781E7   \n",
       "Renewable energy share in the total final energ...     32.6381649511784   \n",
       "Electricity from fossil fuels (TWh)                    70.3650024256478   \n",
       "Electricity from nuclear (TWh)                       13.450190180841238   \n",
       "Electricity from renewables (TWh)                    23.968009911430844   \n",
       "Low-carbon electricity (% electricity)                36.80118187553024   \n",
       "Primary energy consumption per capita (kWh/person)   25743.981725758087   \n",
       "Energy intensity level of primary energy (MJ/$2...    5.307345060788567   \n",
       "Value_co2_emissions_kt_by_country                      159866.462824881   \n",
       "Renewables (% equivalent primary energy)             11.986706834179627   \n",
       "gdp_growth                                            3.441610053690284   \n",
       "gdp_per_capita                                        13283.77433636141   \n",
       "Density(P/Km2)                                       141.03048264182897   \n",
       "Land Area(Km2)                                        633213.4893092106   \n",
       "Latitude                                             18.246387781768327   \n",
       "Longitude                                            14.822694496888863   \n",
       "\n",
       "                                                                      2  \\\n",
       "summary                                                          stddev   \n",
       "Entity                                                             None   \n",
       "Year                                                  6.054228365650764   \n",
       "Access to electricity (% of population)               30.27554143208654   \n",
       "Access to clean fuels for cooking                     39.04365758993957   \n",
       "Renewable-electricity-generating-capacity-per-c...   244.16725470613554   \n",
       "Financial flows to developing countries (US $)      2.135290375742725E8   \n",
       "Renewable energy share in the total final energ...   29.894901331793534   \n",
       "Electricity from fossil fuels (TWh)                   348.0518635136442   \n",
       "Electricity from nuclear (TWh)                        73.00662308995312   \n",
       "Electricity from renewables (TWh)                    104.43108457776746   \n",
       "Low-carbon electricity (% electricity)                34.31488419631294   \n",
       "Primary energy consumption per capita (kWh/person)    34773.22126385237   \n",
       "Energy intensity level of primary energy (MJ/$2...    3.532020074695855   \n",
       "Value_co2_emissions_kt_by_country                     773661.0665638457   \n",
       "Renewables (% equivalent primary energy)              14.99464421647629   \n",
       "gdp_growth                                            5.686720163271315   \n",
       "gdp_per_capita                                       19709.866681800508   \n",
       "Density(P/Km2)                                        169.2210812480414   \n",
       "Land Area(Km2)                                       1585519.2164607828   \n",
       "Latitude                                             24.159231733294813   \n",
       "Longitude                                              66.3481477178707   \n",
       "\n",
       "                                                              3           4  \n",
       "summary                                                     min         max  \n",
       "Entity                                              Afghanistan    Zimbabwe  \n",
       "Year                                                       2000        2020  \n",
       "Access to electricity (% of population)               1.2522693       100.0  \n",
       "Access to clean fuels for cooking                           0.0       100.0  \n",
       "Renewable-electricity-generating-capacity-per-c...          0.0     3060.19  \n",
       "Financial flows to developing countries (US $)                0  2112780000  \n",
       "Renewable energy share in the total final energ...          0.0       96.04  \n",
       "Electricity from fossil fuels (TWh)                         0.0     5184.13  \n",
       "Electricity from nuclear (TWh)                              0.0      809.41  \n",
       "Electricity from renewables (TWh)                           0.0     2184.94  \n",
       "Low-carbon electricity (% electricity)                      0.0   100.00001  \n",
       "Primary energy consumption per capita (kWh/person)          0.0    262585.7  \n",
       "Energy intensity level of primary energy (MJ/$2...         0.11       32.57  \n",
       "Value_co2_emissions_kt_by_country                          10.0  1.070722E7  \n",
       "Renewables (% equivalent primary energy)                    0.0   86.836586  \n",
       "gdp_growth                                            -62.07592   123.13956  \n",
       "gdp_per_capita                                        111.92722  123514.195  \n",
       "Density(P/Km2)                                                2        1281  \n",
       "Land Area(Km2)                                               21     9984670  \n",
       "Latitude                                              -40.90056    64.96305  \n",
       "Longitude                                            -175.19824   178.06503  "
      ]
     },
     "metadata": {},
     "output_type": "display_data"
    }
   ],
   "source": [
    "# We can use the describe method get some general statistics on our data too. Remember to show the DataFrame!\n",
    "# But what about data type?\n",
    "# df.describe().show()\n",
    "\n",
    "stats_df = df.describe()\n",
    "# Convert Spark DataFrame to Pandas DataFrame\n",
    "stats_pd = stats_df.toPandas()\n",
    "\n",
    "# Transpose the Pandas DataFrame\n",
    "transposed_stats_pd = stats_pd.transpose()\n",
    "\n",
    "from IPython.display import display\n",
    "\n",
    "# Display the transposed DataFrame\n",
    "display(transposed_stats_pd)"
   ]
  },
  {
   "cell_type": "code",
   "execution_count": 11,
   "id": "22dcfcfe",
   "metadata": {},
   "outputs": [
    {
     "name": "stdout",
     "output_type": "stream",
     "text": [
      "Number of unique countries in dataset 'Entity': 176\n"
     ]
    }
   ],
   "source": [
    "# Count unique values for a specific column\n",
    "column_name = \"Entity\"\n",
    "unique_count = df.select(column_name).distinct().count()\n",
    "print(f\"Number of unique countries in dataset '{column_name}': {unique_count}\")"
   ]
  },
  {
   "cell_type": "code",
   "execution_count": 12,
   "id": "012f20aa",
   "metadata": {},
   "outputs": [
    {
     "name": "stdout",
     "output_type": "stream",
     "text": [
      "+-----------+----+----+--------------------+\n",
      "|     Entity|Code|Year|Annual CO₂ emissions|\n",
      "+-----------+----+----+--------------------+\n",
      "|Afghanistan| AFG|1949|               14656|\n",
      "|Afghanistan| AFG|1950|               84272|\n",
      "|Afghanistan| AFG|1951|               91600|\n",
      "|Afghanistan| AFG|1952|               91600|\n",
      "|Afghanistan| AFG|1953|              106256|\n",
      "|Afghanistan| AFG|1954|              106256|\n",
      "|Afghanistan| AFG|1955|              153888|\n",
      "|Afghanistan| AFG|1956|              183200|\n",
      "|Afghanistan| AFG|1957|              293120|\n",
      "|Afghanistan| AFG|1958|              329760|\n",
      "|Afghanistan| AFG|1959|              384571|\n",
      "|Afghanistan| AFG|1960|              413885|\n",
      "|Afghanistan| AFG|1961|              490798|\n",
      "|Afghanistan| AFG|1962|              688594|\n",
      "|Afghanistan| AFG|1963|              706736|\n",
      "|Afghanistan| AFG|1964|              838551|\n",
      "|Afghanistan| AFG|1965|             1006917|\n",
      "|Afghanistan| AFG|1966|             1091159|\n",
      "|Afghanistan| AFG|1967|             1281865|\n",
      "|Afghanistan| AFG|1968|             1223391|\n",
      "+-----------+----+----+--------------------+\n",
      "only showing top 20 rows\n",
      "\n"
     ]
    },
    {
     "data": {
      "text/plain": [
       "['Entity', 'Code', 'Year', 'Annual CO₂ emissions']"
      ]
     },
     "execution_count": 12,
     "metadata": {},
     "output_type": "execute_result"
    }
   ],
   "source": [
    "# The show method allows you visualise DataFrames. We can see that there are two columns. \n",
    "df2.show()\n",
    "\n",
    "# You could also try this. \n",
    "df2.columns"
   ]
  },
  {
   "cell_type": "code",
   "execution_count": 13,
   "id": "9d712cc1",
   "metadata": {},
   "outputs": [
    {
     "name": "stdout",
     "output_type": "stream",
     "text": [
      "Number of rows: 30308\n",
      "Number of columns: 4\n"
     ]
    }
   ],
   "source": [
    "num_rows = df2.count()\n",
    "print(f\"Number of rows: {num_rows}\")\n",
    "\n",
    "num_columns = len(df2.columns)\n",
    "print(f\"Number of columns: {num_columns}\")"
   ]
  },
  {
   "cell_type": "code",
   "execution_count": 14,
   "id": "7abb80ae",
   "metadata": {},
   "outputs": [
    {
     "name": "stdout",
     "output_type": "stream",
     "text": [
      "root\n",
      " |-- Entity: string (nullable = true)\n",
      " |-- Code: string (nullable = true)\n",
      " |-- Year: string (nullable = true)\n",
      " |-- Annual CO₂ emissions: string (nullable = true)\n",
      "\n"
     ]
    }
   ],
   "source": [
    "# For type, we can use print schema. \n",
    "# But wait! What if you want to change the format of the data? Maybe change age to an integer instead of long?\n",
    "df2.printSchema()"
   ]
  },
  {
   "cell_type": "code",
   "execution_count": 15,
   "id": "81aed62a",
   "metadata": {},
   "outputs": [],
   "source": [
    "# Then create a variable with the correct structure.\n",
    "data2_schema = [StructField('Entity',StringType(),True),\n",
    "               StructField('Code',StringType(),True),\n",
    "                StructField('Year',IntegerType(),True),\n",
    "               StructField('Annual CO₂ emissions',FloatType(),True)\n",
    "              ]\n",
    "\n",
    "final2_struct = StructType(fields=data2_schema)"
   ]
  },
  {
   "cell_type": "code",
   "execution_count": 16,
   "id": "553a7068",
   "metadata": {},
   "outputs": [
    {
     "name": "stdout",
     "output_type": "stream",
     "text": [
      "root\n",
      " |-- Entity: string (nullable = true)\n",
      " |-- Code: string (nullable = true)\n",
      " |-- Year: integer (nullable = true)\n",
      " |-- Annual CO₂ emissions: float (nullable = true)\n",
      "\n"
     ]
    }
   ],
   "source": [
    "# And now we can read in the data using that schema. If we print the schema, we can see that age is now an integer. \n",
    "df2 = spark.read.option(\"header\", \"true\").csv('Datasets/annual-co2-emissions-per-country.csv', schema=final2_struct)\n",
    "df2.printSchema()"
   ]
  },
  {
   "cell_type": "code",
   "execution_count": 17,
   "id": "d9c4e469",
   "metadata": {},
   "outputs": [
    {
     "name": "stderr",
     "output_type": "stream",
     "text": [
      "\r",
      "[Stage 20:>                                                         (0 + 1) / 1]\r"
     ]
    },
    {
     "name": "stdout",
     "output_type": "stream",
     "text": [
      "+-------+-----------+-----+------------------+--------------------+\n",
      "|summary|     Entity| Code|              Year|Annual CO₂ emissions|\n",
      "+-------+-----------+-----+------------------+--------------------+\n",
      "|  count|      30308|24157|             30308|               30308|\n",
      "|   mean|       null| null|1940.1913356209582|3.9127215594534516E8|\n",
      "| stddev|       null| null| 65.51023156216606|1.8558246627678738E9|\n",
      "|    min|Afghanistan|  ABW|              1750|                 0.0|\n",
      "|    max|   Zimbabwe|  ZWE|              2022|        3.7149786E10|\n",
      "+-------+-----------+-----+------------------+--------------------+\n",
      "\n"
     ]
    },
    {
     "name": "stderr",
     "output_type": "stream",
     "text": [
      "\r",
      "                                                                                \r"
     ]
    }
   ],
   "source": [
    "# We can use the describe method get some general statistics on our data too. Remember to show the DataFrame!\n",
    "# But what about data type?\n",
    "df2.describe().show()"
   ]
  },
  {
   "cell_type": "code",
   "execution_count": 18,
   "id": "c98f8429",
   "metadata": {},
   "outputs": [
    {
     "name": "stdout",
     "output_type": "stream",
     "text": [
      "+---------+----+----+-------------------------------------+\n",
      "|   Entity|Code|Year|Health expenditure per capita - Total|\n",
      "+---------+----+----+-------------------------------------+\n",
      "|Argentina| ARG|2004|                             1041.893|\n",
      "|Argentina| ARG|2005|                             1173.883|\n",
      "|Argentina| ARG|2006|                             1272.771|\n",
      "|Argentina| ARG|2007|                             1413.069|\n",
      "|Argentina| ARG|2008|                              1537.76|\n",
      "|Argentina| ARG|2009|                              1643.76|\n",
      "|Argentina| ARG|2010|                             1780.712|\n",
      "|Argentina| ARG|2011|                             1895.262|\n",
      "|Argentina| ARG|2012|                             1942.246|\n",
      "|Argentina| ARG|2013|                             1955.837|\n",
      "|Argentina| ARG|2014|                             1859.764|\n",
      "|Argentina| ARG|2015|                             1986.572|\n",
      "|Argentina| ARG|2016|                             1729.939|\n",
      "|Argentina| ARG|2017|                              2037.97|\n",
      "|Argentina| ARG|2018|                             1783.826|\n",
      "|Argentina| ARG|2019|                             1698.412|\n",
      "|Argentina| ARG|2020|                             1617.303|\n",
      "|Australia| AUS|1971|                             1003.471|\n",
      "|Australia| AUS|1972|                             1031.394|\n",
      "|Australia| AUS|1973|                             1083.934|\n",
      "+---------+----+----+-------------------------------------+\n",
      "only showing top 20 rows\n",
      "\n"
     ]
    },
    {
     "data": {
      "text/plain": [
       "['Entity', 'Code', 'Year', 'Health expenditure per capita - Total']"
      ]
     },
     "execution_count": 18,
     "metadata": {},
     "output_type": "execute_result"
    }
   ],
   "source": [
    "# The show method allows you visualise DataFrames. We can see that there are two columns. \n",
    "df1.show()\n",
    "\n",
    "# You could also try this. \n",
    "df1.columns"
   ]
  },
  {
   "cell_type": "code",
   "execution_count": 19,
   "id": "96373813",
   "metadata": {},
   "outputs": [
    {
     "name": "stdout",
     "output_type": "stream",
     "text": [
      "Number of rows: 1793\n",
      "Number of columns: 4\n"
     ]
    }
   ],
   "source": [
    "num_rows = df1.count()\n",
    "print(f\"Number of rows: {num_rows}\")\n",
    "\n",
    "num_columns = len(df1.columns)\n",
    "print(f\"Number of columns: {num_columns}\")"
   ]
  },
  {
   "cell_type": "code",
   "execution_count": 20,
   "id": "e70135e8",
   "metadata": {},
   "outputs": [
    {
     "name": "stdout",
     "output_type": "stream",
     "text": [
      "root\n",
      " |-- Entity: string (nullable = true)\n",
      " |-- Code: string (nullable = true)\n",
      " |-- Year: string (nullable = true)\n",
      " |-- Health expenditure per capita - Total: string (nullable = true)\n",
      "\n"
     ]
    }
   ],
   "source": [
    "# For type, we can use print schema. \n",
    "# But wait! What if you want to change the format of the data? Maybe change age to an integer instead of long?\n",
    "df1.printSchema()"
   ]
  },
  {
   "cell_type": "code",
   "execution_count": 21,
   "id": "6abe0cfd",
   "metadata": {},
   "outputs": [],
   "source": [
    "# Then create a variable with the correct structure.\n",
    "data1_schema = [StructField('Entity',StringType(),True),\n",
    "               StructField('Code',StringType(),True),\n",
    "                StructField('Year',IntegerType(),True),\n",
    "               StructField('Health expenditure per capita - Total',FloatType(),True)\n",
    "              ]\n",
    "\n",
    "final1_struct = StructType(fields=data1_schema)"
   ]
  },
  {
   "cell_type": "code",
   "execution_count": 22,
   "id": "6e7ce718",
   "metadata": {},
   "outputs": [
    {
     "name": "stdout",
     "output_type": "stream",
     "text": [
      "root\n",
      " |-- Entity: string (nullable = true)\n",
      " |-- Code: string (nullable = true)\n",
      " |-- Year: integer (nullable = true)\n",
      " |-- Health expenditure per capita - Total: float (nullable = true)\n",
      "\n"
     ]
    }
   ],
   "source": [
    "# And now we can read in the data using that schema. If we print the schema, we can see that age is now an integer. \n",
    "df1 = spark.read.option(\"header\", \"true\").csv('Datasets/health-expenditure-and-financing-per-capita.csv', schema=final1_struct)\n",
    "df1.printSchema()"
   ]
  },
  {
   "cell_type": "code",
   "execution_count": 23,
   "id": "9920a687",
   "metadata": {},
   "outputs": [
    {
     "name": "stdout",
     "output_type": "stream",
     "text": [
      "+-------+-------------+----+------------------+-------------------------------------+\n",
      "|summary|       Entity|Code|              Year|Health expenditure per capita - Total|\n",
      "+-------+-------------+----+------------------+-------------------------------------+\n",
      "|  count|         1793|1793|              1793|                                 1793|\n",
      "|   mean|         null|null| 2000.973229224763|                   2468.7614955402123|\n",
      "| stddev|         null|null|14.531268529227585|                   1589.1593034306654|\n",
      "|    min|    Argentina| ARG|              1970|                               73.922|\n",
      "|    max|United States| ZAF|              2022|                             11031.29|\n",
      "+-------+-------------+----+------------------+-------------------------------------+\n",
      "\n"
     ]
    }
   ],
   "source": [
    "# We can use the describe method get some general statistics on our data too. Remember to show the DataFrame!\n",
    "# But what about data type?\n",
    "df1.describe().show()"
   ]
  },
  {
   "cell_type": "markdown",
   "id": "b1d353ec",
   "metadata": {},
   "source": [
    "## 2.3 Data Exploration"
   ]
  },
  {
   "cell_type": "code",
   "execution_count": 24,
   "id": "6647584c",
   "metadata": {},
   "outputs": [],
   "source": [
    "from pyspark.sql.functions import col, avg\n",
    "import matplotlib.pyplot as plt\n",
    "import seaborn as sns"
   ]
  },
  {
   "cell_type": "code",
   "execution_count": 25,
   "id": "2b2ccb17",
   "metadata": {},
   "outputs": [],
   "source": [
    "# Group by country and calculate the mean CO2 emissions\n",
    "mean_co2_df = df.groupBy(\"Entity\").agg(avg(col(\"Value_co2_emissions_kt_by_country\")).alias(\"Mean_CO2_Emissions\"))\n",
    "\n",
    "# Convert to Pandas DataFrame for plotting\n",
    "mean_co2_pd = mean_co2_df.toPandas()\n"
   ]
  },
  {
   "cell_type": "code",
   "execution_count": 26,
   "id": "e2b1c80b",
   "metadata": {},
   "outputs": [
    {
     "data": {
      "image/png": "[encoded data removed]",
      "text/plain": [
       "<Figure size 720x432 with 1 Axes>"
      ]
     },
     "metadata": {
      "needs_background": "light"
     },
     "output_type": "display_data"
    }
   ],
   "source": [
    "# Plot the distribution of mean CO2 emissions\n",
    "plt.figure(figsize=(10, 6))\n",
    "sns.histplot(mean_co2_pd[\"Mean_CO2_Emissions\"], bins=30, kde=True)\n",
    "plt.title(\"Distribution of Mean CO2 Emissions by Country\")\n",
    "plt.xlabel(\"Mean CO2 Emissions\")\n",
    "plt.ylabel(\"Frequency\")\n",
    "plt.show()"
   ]
  },
  {
   "cell_type": "code",
   "execution_count": 27,
   "id": "64cb89e6",
   "metadata": {},
   "outputs": [
    {
     "data": {
      "image/png": "[encoded data removed]",
      "text/plain": [
       "<Figure size 1008x576 with 1 Axes>"
      ]
     },
     "metadata": {
      "needs_background": "light"
     },
     "output_type": "display_data"
    }
   ],
   "source": [
    "mean_co2_pd_sorted = mean_co2_pd.sort_values(by=\"Mean_CO2_Emissions\", ascending=False)\n",
    "\n",
    "# Select only the top 20 countries\n",
    "top_20_countries = mean_co2_pd_sorted.head(20)\n",
    "\n",
    "# Plot the distribution of the top 20 countries\n",
    "plt.figure(figsize=(14, 8))\n",
    "sns.barplot(x=\"Mean_CO2_Emissions\", y=\"Entity\", data=top_20_countries, palette=\"viridis\")\n",
    "plt.title(\"Top 20 Countries by Mean CO2 Emissions\")\n",
    "plt.xlabel(\"Mean CO2 Emissions (kt)\")\n",
    "plt.ylabel(\"Country\")\n",
    "plt.tight_layout()\n",
    "plt.show()"
   ]
  },
  {
   "cell_type": "code",
   "execution_count": 28,
   "id": "a188e88d",
   "metadata": {},
   "outputs": [
    {
     "name": "stderr",
     "output_type": "stream",
     "text": [
      "\r",
      "[Stage 51:>                                                         (0 + 2) / 2]\r"
     ]
    },
    {
     "name": "stdout",
     "output_type": "stream",
     "text": [
      "+----------------------------------------------------------------+--------------------+--------------------+\n",
      "|Column                                                          |Correlation         |Absolute Correlation|\n",
      "+----------------------------------------------------------------+--------------------+--------------------+\n",
      "|Electricity from fossil fuels (TWh)                             |0.9481763559733735  |0.9481763559733735  |\n",
      "|Electricity from renewables (TWh)                               |0.7854913009453646  |0.7854913009453646  |\n",
      "|Land Area(Km2)                                                  |0.6341015263961219  |0.6341015263961219  |\n",
      "|Electricity from nuclear (TWh)                                  |0.5830326881392291  |0.5830326881392291  |\n",
      "|Financial flows to developing countries (US $)                  |0.1440719377265664  |0.1440719377265664  |\n",
      "|Access to electricity (% of population)                         |0.1160704499100412  |0.1160704499100412  |\n",
      "|Latitude                                                        |0.10867674520924825 |0.10867674520924825 |\n",
      "|Renewable energy share in the total final energy consumption (%)|-0.10544598502751   |0.10544598502751    |\n",
      "|gdp_per_capita                                                  |0.09779686737746876 |0.09779686737746876 |\n",
      "|Primary energy consumption per capita (kWh/person)              |0.09651277488123992 |0.09651277488123992 |\n",
      "|Access to clean fuels for cooking                               |0.0929057495878574  |0.0929057495878574  |\n",
      "|Energy intensity level of primary energy (MJ/$2017 PPP GDP)     |0.06018034582167702 |0.06018034582167702 |\n",
      "|Renewables (% equivalent primary energy)                        |0.05492943194973739 |0.05492943194973739 |\n",
      "|gdp_growth                                                      |0.05259771065157203 |0.05259771065157203 |\n",
      "|Low-carbon electricity (% electricity)                          |-0.04376536581927441|0.04376536581927441 |\n",
      "|Longitude                                                       |0.03956492497111163 |0.03956492497111163 |\n",
      "|Renewable-electricity-generating-capacity-per-capita            |0.013695500549180499|0.013695500549180499|\n",
      "|Density(P/Km2)                                                  |0.009231670215956238|0.009231670215956238|\n",
      "+----------------------------------------------------------------+--------------------+--------------------+\n",
      "\n"
     ]
    },
    {
     "name": "stderr",
     "output_type": "stream",
     "text": [
      "\r",
      "                                                                                \r"
     ]
    }
   ],
   "source": [
    "# Compute correlations for all columns of interest\n",
    "correlations = []\n",
    "columns_of_interest = [\n",
    "    \"Electricity from fossil fuels (TWh)\",\n",
    "    \"Density(P/Km2)\",\n",
    "    \"Access to electricity (% of population)\",\n",
    "    \"Access to clean fuels for cooking\",\n",
    "    \"Renewable-electricity-generating-capacity-per-capita\",\n",
    "    \"Financial flows to developing countries (US $)\",\n",
    "    \"Renewable energy share in the total final energy consumption (%)\",\n",
    "    \"Electricity from nuclear (TWh)\",\n",
    "    \"Electricity from renewables (TWh)\",\n",
    "    \"Low-carbon electricity (% electricity)\",\n",
    "    \"Primary energy consumption per capita (kWh/person)\",\n",
    "    \"Energy intensity level of primary energy (MJ/$2017 PPP GDP)\",\n",
    "    \"gdp_growth\",\n",
    "    \"Renewables (% equivalent primary energy)\",\n",
    "    \"gdp_per_capita\",\n",
    "    \"Land Area(Km2)\",\n",
    "    \"Latitude\",\n",
    "    \"Longitude\"\n",
    "]\n",
    "\n",
    "for column in columns_of_interest:\n",
    "    correlation = df.corr(\"Value_co2_emissions_kt_by_country\", column)\n",
    "    correlations.append((column, correlation))\n",
    "\n",
    "# Create a DataFrame or RDD with correlation values and corresponding column names\n",
    "correlation_df = spark.createDataFrame(correlations, [\"Column\", \"Correlation\"])\n",
    "\n",
    "# Sort the DataFrame by correlation values in descending order\n",
    "sorted_correlation_df = correlation_df.orderBy(col(\"Correlation\").desc())\n",
    "\n",
    "from pyspark.sql.functions import abs\n",
    "\n",
    "# Apply the abs() function to the Correlation column to create Absolute Correlation column\n",
    "correlation_df = correlation_df.withColumn(\"Absolute Correlation\", abs(col(\"Correlation\")))\n",
    "\n",
    "# Sort the DataFrame by absolute correlation values in descending order\n",
    "sorted_abs_correlation_df = correlation_df.orderBy(\"Absolute Correlation\", ascending=False)\n",
    "\n",
    "# Set the maximum column width to a larger value\n",
    "spark.conf.set(\"spark.sql.repl.eagerEval.maxNumRows\", 100)\n",
    "spark.conf.set(\"spark.sql.repl.eagerEval.maxNumCols\", 100)\n",
    "\n",
    "# Display the sorted table\n",
    "sorted_abs_correlation_df.show(truncate=False)"
   ]
  },
  {
   "cell_type": "markdown",
   "id": "6c90a81e",
   "metadata": {},
   "source": [
    "# 3. Data Exploration"
   ]
  },
  {
   "cell_type": "markdown",
   "id": "bfb6625e",
   "metadata": {},
   "source": [
    "## 3.1 Data Selection"
   ]
  },
  {
   "cell_type": "code",
   "execution_count": 29,
   "id": "03d85976",
   "metadata": {},
   "outputs": [
    {
     "name": "stdout",
     "output_type": "stream",
     "text": [
      "+-----------+----+---------------------------------------+----------------------------------------------+----------------------------------------------------------------+-----------------------------------+------------------------------+---------------------------------+--------------------------------------------------+---------------------------------+----------+--------------+--------------+--------------+\n",
      "|Entity     |Year|Access to electricity (% of population)|Financial flows to developing countries (US $)|Renewable energy share in the total final energy consumption (%)|Electricity from fossil fuels (TWh)|Electricity from nuclear (TWh)|Electricity from renewables (TWh)|Primary energy consumption per capita (kWh/person)|Value_co2_emissions_kt_by_country|gdp_growth|gdp_per_capita|Density(P/Km2)|Land Area(Km2)|\n",
      "+-----------+----+---------------------------------------+----------------------------------------------+----------------------------------------------------------------+-----------------------------------+------------------------------+---------------------------------+--------------------------------------------------+---------------------------------+----------+--------------+--------------+--------------+\n",
      "|Afghanistan|2000|1.613591                               |20000                                         |44.99                                                           |0.16                               |0.0                           |0.31                             |302.59482                                         |760.0                            |null      |null          |60            |652230        |\n",
      "|Afghanistan|2001|4.074574                               |130000                                        |45.6                                                            |0.09                               |0.0                           |0.5                              |236.89185                                         |730.0                            |null      |null          |60            |652230        |\n",
      "|Afghanistan|2002|9.409158                               |3950000                                       |37.83                                                           |0.13                               |0.0                           |0.56                             |210.86215                                         |1030.0                           |null      |179.42657     |60            |652230        |\n",
      "|Afghanistan|2003|14.738506                              |25970000                                      |36.66                                                           |0.31                               |0.0                           |0.63                             |229.96822                                         |1220.0                           |8.832278  |190.6838      |60            |652230        |\n",
      "|Afghanistan|2004|20.064968                              |null                                          |44.24                                                           |0.33                               |0.0                           |0.56                             |204.23125                                         |1030.0                           |1.4141179 |211.38208     |60            |652230        |\n",
      "|Afghanistan|2005|25.390894                              |9830000                                       |33.88                                                           |0.34                               |0.0                           |0.59                             |252.06912                                         |1550.0                           |11.229714 |242.03131     |60            |652230        |\n",
      "|Afghanistan|2006|30.71869                               |10620000                                      |31.89                                                           |0.2                                |0.0                           |0.64                             |304.4209                                          |1760.0                           |5.3574033 |263.7336      |60            |652230        |\n",
      "|Afghanistan|2007|36.05101                               |15750000                                      |28.78                                                           |0.2                                |0.0                           |0.75                             |354.2799                                          |1770.0                           |13.82632  |359.69315     |60            |652230        |\n",
      "|Afghanistan|2008|42.4                                   |16170000                                      |21.17                                                           |0.19                               |0.0                           |0.54                             |607.8335                                          |3560.0                           |3.9249837 |364.66354     |60            |652230        |\n",
      "|Afghanistan|2009|46.74005                               |9960000                                       |16.53                                                           |0.16                               |0.0                           |0.78                             |975.04816                                         |4880.0                           |21.390528 |437.26874     |60            |652230        |\n",
      "|Afghanistan|2010|42.7                                   |36500000                                      |15.15                                                           |0.19                               |0.0                           |0.75                             |1182.892                                          |7110.0                           |14.362441 |543.3065      |60            |652230        |\n",
      "|Afghanistan|2011|43.22202                               |28690000                                      |12.61                                                           |0.18                               |0.0                           |0.6                              |1436.1143                                         |8930.0                           |0.4263548 |591.19        |60            |652230        |\n",
      "|Afghanistan|2012|69.1                                   |62630000                                      |15.36                                                           |0.14                               |0.0                           |0.74                             |1324.1211                                         |8080.0                           |12.752287 |638.8458      |60            |652230        |\n",
      "|Afghanistan|2013|68.29065                               |268460000                                     |16.86                                                           |0.22                               |0.0                           |0.89                             |1060.7926                                         |5990.0                           |5.6007447 |624.3154      |60            |652230        |\n",
      "|Afghanistan|2014|89.5                                   |6940000                                       |18.93                                                           |0.16                               |0.0                           |1.0                              |868.5762                                          |4880.0                           |2.7245433 |614.2233      |60            |652230        |\n",
      "|Afghanistan|2015|71.5                                   |4890000                                       |17.53                                                           |0.15                               |0.0                           |1.03                             |970.0803                                          |5950.0                           |1.4513147 |556.0072      |60            |652230        |\n",
      "|Afghanistan|2016|97.7                                   |860000                                        |19.92                                                           |0.15                               |0.0                           |1.06                             |862.79114                                         |5300.0                           |2.2603142 |512.01276     |60            |652230        |\n",
      "|Afghanistan|2017|97.7                                   |50330000                                      |19.21                                                           |0.18                               |0.0                           |1.09                             |829.31195                                         |4780.0                           |2.6470032 |516.6799      |60            |652230        |\n",
      "|Afghanistan|2018|96.616135                              |70100000                                      |17.96                                                           |0.2                                |0.0                           |0.97                             |924.25085                                         |6070.0                           |1.1892282 |485.66843     |60            |652230        |\n",
      "|Afghanistan|2019|97.7                                   |4620000                                       |18.51                                                           |0.18                               |0.0                           |0.89                             |802.61255                                         |6080.0                           |3.9116035 |494.17935     |60            |652230        |\n",
      "+-----------+----+---------------------------------------+----------------------------------------------+----------------------------------------------------------------+-----------------------------------+------------------------------+---------------------------------+--------------------------------------------------+---------------------------------+----------+--------------+--------------+--------------+\n",
      "only showing top 20 rows\n",
      "\n"
     ]
    }
   ],
   "source": [
    "columns_to_drop = [\n",
    "    \"Access to clean fuels for cooking\",\n",
    "    \"Energy intensity level of primary energy (MJ/$2017 PPP GDP)\",\n",
    "    \"Renewables (% equivalent primary energy)\",\n",
    "    \"Low-carbon electricity (% electricity)\",\n",
    "    \"Energy intensity level of primary energy\",\n",
    "    \"Renewable-electricity-generating-capacity-per-capita\",\n",
    "    \"Longitude\",\n",
    "    \"Latitude\"\n",
    "]\n",
    "\n",
    "df_new1 = df.drop(*columns_to_drop)\n",
    "df_new1.show(truncate=False)"
   ]
  },
  {
   "cell_type": "code",
   "execution_count": 30,
   "id": "cc56d92d",
   "metadata": {},
   "outputs": [
    {
     "name": "stdout",
     "output_type": "stream",
     "text": [
      "Number of columns: 14\n"
     ]
    }
   ],
   "source": [
    "num_columns = len(df_new1.columns)\n",
    "print(f\"Number of columns: {num_columns}\")"
   ]
  },
  {
   "cell_type": "code",
   "execution_count": 31,
   "id": "485f19e3",
   "metadata": {},
   "outputs": [
    {
     "name": "stdout",
     "output_type": "stream",
     "text": [
      "+-----------+----+---------------------------------------+----------------------------------------------+----------------------------------------------------------------+-----------------------------------+------------------------------+---------------------------------+--------------------------------------------------+---------------------------------+----------+--------------+--------------+--------------+\n",
      "|Country    |Year|Access to electricity (% of population)|Financial flows to developing countries (US $)|Renewable energy share in the total final energy consumption (%)|Electricity from fossil fuels (TWh)|Electricity from nuclear (TWh)|Electricity from renewables (TWh)|Primary energy consumption per capita (kWh/person)|Value_co2_emissions_kt_by_country|gdp_growth|gdp_per_capita|Density(P/Km2)|Land Area(Km2)|\n",
      "+-----------+----+---------------------------------------+----------------------------------------------+----------------------------------------------------------------+-----------------------------------+------------------------------+---------------------------------+--------------------------------------------------+---------------------------------+----------+--------------+--------------+--------------+\n",
      "|Afghanistan|2000|1.613591                               |20000                                         |44.99                                                           |0.16                               |0.0                           |0.31                             |302.59482                                         |760.0                            |null      |null          |60            |652230        |\n",
      "|Afghanistan|2001|4.074574                               |130000                                        |45.6                                                            |0.09                               |0.0                           |0.5                              |236.89185                                         |730.0                            |null      |null          |60            |652230        |\n",
      "|Afghanistan|2002|9.409158                               |3950000                                       |37.83                                                           |0.13                               |0.0                           |0.56                             |210.86215                                         |1030.0                           |null      |179.42657     |60            |652230        |\n",
      "|Afghanistan|2003|14.738506                              |25970000                                      |36.66                                                           |0.31                               |0.0                           |0.63                             |229.96822                                         |1220.0                           |8.832278  |190.6838      |60            |652230        |\n",
      "|Afghanistan|2004|20.064968                              |null                                          |44.24                                                           |0.33                               |0.0                           |0.56                             |204.23125                                         |1030.0                           |1.4141179 |211.38208     |60            |652230        |\n",
      "|Afghanistan|2005|25.390894                              |9830000                                       |33.88                                                           |0.34                               |0.0                           |0.59                             |252.06912                                         |1550.0                           |11.229714 |242.03131     |60            |652230        |\n",
      "|Afghanistan|2006|30.71869                               |10620000                                      |31.89                                                           |0.2                                |0.0                           |0.64                             |304.4209                                          |1760.0                           |5.3574033 |263.7336      |60            |652230        |\n",
      "|Afghanistan|2007|36.05101                               |15750000                                      |28.78                                                           |0.2                                |0.0                           |0.75                             |354.2799                                          |1770.0                           |13.82632  |359.69315     |60            |652230        |\n",
      "|Afghanistan|2008|42.4                                   |16170000                                      |21.17                                                           |0.19                               |0.0                           |0.54                             |607.8335                                          |3560.0                           |3.9249837 |364.66354     |60            |652230        |\n",
      "|Afghanistan|2009|46.74005                               |9960000                                       |16.53                                                           |0.16                               |0.0                           |0.78                             |975.04816                                         |4880.0                           |21.390528 |437.26874     |60            |652230        |\n",
      "|Afghanistan|2010|42.7                                   |36500000                                      |15.15                                                           |0.19                               |0.0                           |0.75                             |1182.892                                          |7110.0                           |14.362441 |543.3065      |60            |652230        |\n",
      "|Afghanistan|2011|43.22202                               |28690000                                      |12.61                                                           |0.18                               |0.0                           |0.6                              |1436.1143                                         |8930.0                           |0.4263548 |591.19        |60            |652230        |\n",
      "|Afghanistan|2012|69.1                                   |62630000                                      |15.36                                                           |0.14                               |0.0                           |0.74                             |1324.1211                                         |8080.0                           |12.752287 |638.8458      |60            |652230        |\n",
      "|Afghanistan|2013|68.29065                               |268460000                                     |16.86                                                           |0.22                               |0.0                           |0.89                             |1060.7926                                         |5990.0                           |5.6007447 |624.3154      |60            |652230        |\n",
      "|Afghanistan|2014|89.5                                   |6940000                                       |18.93                                                           |0.16                               |0.0                           |1.0                              |868.5762                                          |4880.0                           |2.7245433 |614.2233      |60            |652230        |\n",
      "|Afghanistan|2015|71.5                                   |4890000                                       |17.53                                                           |0.15                               |0.0                           |1.03                             |970.0803                                          |5950.0                           |1.4513147 |556.0072      |60            |652230        |\n",
      "|Afghanistan|2016|97.7                                   |860000                                        |19.92                                                           |0.15                               |0.0                           |1.06                             |862.79114                                         |5300.0                           |2.2603142 |512.01276     |60            |652230        |\n",
      "|Afghanistan|2017|97.7                                   |50330000                                      |19.21                                                           |0.18                               |0.0                           |1.09                             |829.31195                                         |4780.0                           |2.6470032 |516.6799      |60            |652230        |\n",
      "|Afghanistan|2018|96.616135                              |70100000                                      |17.96                                                           |0.2                                |0.0                           |0.97                             |924.25085                                         |6070.0                           |1.1892282 |485.66843     |60            |652230        |\n",
      "|Afghanistan|2019|97.7                                   |4620000                                       |18.51                                                           |0.18                               |0.0                           |0.89                             |802.61255                                         |6080.0                           |3.9116035 |494.17935     |60            |652230        |\n",
      "+-----------+----+---------------------------------------+----------------------------------------------+----------------------------------------------------------------+-----------------------------------+------------------------------+---------------------------------+--------------------------------------------------+---------------------------------+----------+--------------+--------------+--------------+\n",
      "only showing top 20 rows\n",
      "\n"
     ]
    }
   ],
   "source": [
    "# Rename columns\n",
    "df_new2 = df_new1.withColumnRenamed(\"Entity\", \"Country\")\n",
    "\n",
    "# Show the DataFrame with renamed columns\n",
    "df_new2.show(truncate=False)\n"
   ]
  },
  {
   "cell_type": "code",
   "execution_count": 32,
   "id": "c83da66f",
   "metadata": {},
   "outputs": [
    {
     "name": "stdout",
     "output_type": "stream",
     "text": [
      "+-----------+----+----+--------------------+\n",
      "|Country    |Code|Year|Annual CO₂ emissions|\n",
      "+-----------+----+----+--------------------+\n",
      "|Afghanistan|AFG |1949|14656.0             |\n",
      "|Afghanistan|AFG |1950|84272.0             |\n",
      "|Afghanistan|AFG |1951|91600.0             |\n",
      "|Afghanistan|AFG |1952|91600.0             |\n",
      "|Afghanistan|AFG |1953|106256.0            |\n",
      "|Afghanistan|AFG |1954|106256.0            |\n",
      "|Afghanistan|AFG |1955|153888.0            |\n",
      "|Afghanistan|AFG |1956|183200.0            |\n",
      "|Afghanistan|AFG |1957|293120.0            |\n",
      "|Afghanistan|AFG |1958|329760.0            |\n",
      "|Afghanistan|AFG |1959|384571.0            |\n",
      "|Afghanistan|AFG |1960|413885.0            |\n",
      "|Afghanistan|AFG |1961|490798.0            |\n",
      "|Afghanistan|AFG |1962|688594.0            |\n",
      "|Afghanistan|AFG |1963|706736.0            |\n",
      "|Afghanistan|AFG |1964|838551.0            |\n",
      "|Afghanistan|AFG |1965|1006917.0           |\n",
      "|Afghanistan|AFG |1966|1091159.0           |\n",
      "|Afghanistan|AFG |1967|1281865.0           |\n",
      "|Afghanistan|AFG |1968|1223391.0           |\n",
      "+-----------+----+----+--------------------+\n",
      "only showing top 20 rows\n",
      "\n"
     ]
    }
   ],
   "source": [
    "# Rename columns\n",
    "df2_new = df2.withColumnRenamed(\"Entity\", \"Country\")\n",
    "\n",
    "# Show the DataFrame with renamed columns\n",
    "df2_new.show(truncate=False)"
   ]
  },
  {
   "cell_type": "code",
   "execution_count": 33,
   "id": "88a5664b",
   "metadata": {},
   "outputs": [
    {
     "name": "stdout",
     "output_type": "stream",
     "text": [
      "+---------+----+----+-------------------------------------+\n",
      "|Country  |Code|Year|Health expenditure per capita - Total|\n",
      "+---------+----+----+-------------------------------------+\n",
      "|Argentina|ARG |2004|1041.893                             |\n",
      "|Argentina|ARG |2005|1173.883                             |\n",
      "|Argentina|ARG |2006|1272.771                             |\n",
      "|Argentina|ARG |2007|1413.069                             |\n",
      "|Argentina|ARG |2008|1537.76                              |\n",
      "|Argentina|ARG |2009|1643.76                              |\n",
      "|Argentina|ARG |2010|1780.712                             |\n",
      "|Argentina|ARG |2011|1895.262                             |\n",
      "|Argentina|ARG |2012|1942.246                             |\n",
      "|Argentina|ARG |2013|1955.837                             |\n",
      "|Argentina|ARG |2014|1859.764                             |\n",
      "|Argentina|ARG |2015|1986.572                             |\n",
      "|Argentina|ARG |2016|1729.939                             |\n",
      "|Argentina|ARG |2017|2037.97                              |\n",
      "|Argentina|ARG |2018|1783.826                             |\n",
      "|Argentina|ARG |2019|1698.412                             |\n",
      "|Argentina|ARG |2020|1617.303                             |\n",
      "|Australia|AUS |1971|1003.471                             |\n",
      "|Australia|AUS |1972|1031.394                             |\n",
      "|Australia|AUS |1973|1083.934                             |\n",
      "+---------+----+----+-------------------------------------+\n",
      "only showing top 20 rows\n",
      "\n"
     ]
    }
   ],
   "source": [
    "# Rename columns\n",
    "df1_new = df1.withColumnRenamed(\"Entity\", \"Country\")\n",
    "\n",
    "# Show the DataFrame with renamed columns\n",
    "df1_new.show(truncate=False)"
   ]
  },
  {
   "cell_type": "markdown",
   "id": "ec739082",
   "metadata": {},
   "source": [
    "## 3.2\tData Cleaning"
   ]
  },
  {
   "cell_type": "code",
   "execution_count": 34,
   "id": "ce05e61b",
   "metadata": {},
   "outputs": [
    {
     "name": "stdout",
     "output_type": "stream",
     "text": [
      "+-----------+----+---------------------------------------+----------------------------------------------------------------+-----------------------------------+------------------------------+---------------------------------+---------------------------------+----------+--------------+--------------+--------------+\n",
      "|Country    |Year|Access to electricity (% of population)|Renewable energy share in the total final energy consumption (%)|Electricity from fossil fuels (TWh)|Electricity from nuclear (TWh)|Electricity from renewables (TWh)|Value_co2_emissions_kt_by_country|gdp_growth|gdp_per_capita|Density(P/Km2)|Land Area(Km2)|\n",
      "+-----------+----+---------------------------------------+----------------------------------------------------------------+-----------------------------------+------------------------------+---------------------------------+---------------------------------+----------+--------------+--------------+--------------+\n",
      "|Afghanistan|2000|1.613591                               |44.99                                                           |0.16                               |0.0                           |0.31                             |760.0                            |null      |null          |60            |652230        |\n",
      "|Afghanistan|2001|4.074574                               |45.6                                                            |0.09                               |0.0                           |0.5                              |730.0                            |null      |null          |60            |652230        |\n",
      "|Afghanistan|2002|9.409158                               |37.83                                                           |0.13                               |0.0                           |0.56                             |1030.0                           |null      |179.42657     |60            |652230        |\n",
      "|Afghanistan|2003|14.738506                              |36.66                                                           |0.31                               |0.0                           |0.63                             |1220.0                           |8.832278  |190.6838      |60            |652230        |\n",
      "|Afghanistan|2004|20.064968                              |44.24                                                           |0.33                               |0.0                           |0.56                             |1030.0                           |1.4141179 |211.38208     |60            |652230        |\n",
      "|Afghanistan|2005|25.390894                              |33.88                                                           |0.34                               |0.0                           |0.59                             |1550.0                           |11.229714 |242.03131     |60            |652230        |\n",
      "|Afghanistan|2006|30.71869                               |31.89                                                           |0.2                                |0.0                           |0.64                             |1760.0                           |5.3574033 |263.7336      |60            |652230        |\n",
      "|Afghanistan|2007|36.05101                               |28.78                                                           |0.2                                |0.0                           |0.75                             |1770.0                           |13.82632  |359.69315     |60            |652230        |\n",
      "|Afghanistan|2008|42.4                                   |21.17                                                           |0.19                               |0.0                           |0.54                             |3560.0                           |3.9249837 |364.66354     |60            |652230        |\n",
      "|Afghanistan|2009|46.74005                               |16.53                                                           |0.16                               |0.0                           |0.78                             |4880.0                           |21.390528 |437.26874     |60            |652230        |\n",
      "|Afghanistan|2010|42.7                                   |15.15                                                           |0.19                               |0.0                           |0.75                             |7110.0                           |14.362441 |543.3065      |60            |652230        |\n",
      "|Afghanistan|2011|43.22202                               |12.61                                                           |0.18                               |0.0                           |0.6                              |8930.0                           |0.4263548 |591.19        |60            |652230        |\n",
      "|Afghanistan|2012|69.1                                   |15.36                                                           |0.14                               |0.0                           |0.74                             |8080.0                           |12.752287 |638.8458      |60            |652230        |\n",
      "|Afghanistan|2013|68.29065                               |16.86                                                           |0.22                               |0.0                           |0.89                             |5990.0                           |5.6007447 |624.3154      |60            |652230        |\n",
      "|Afghanistan|2014|89.5                                   |18.93                                                           |0.16                               |0.0                           |1.0                              |4880.0                           |2.7245433 |614.2233      |60            |652230        |\n",
      "|Afghanistan|2015|71.5                                   |17.53                                                           |0.15                               |0.0                           |1.03                             |5950.0                           |1.4513147 |556.0072      |60            |652230        |\n",
      "|Afghanistan|2016|97.7                                   |19.92                                                           |0.15                               |0.0                           |1.06                             |5300.0                           |2.2603142 |512.01276     |60            |652230        |\n",
      "|Afghanistan|2017|97.7                                   |19.21                                                           |0.18                               |0.0                           |1.09                             |4780.0                           |2.6470032 |516.6799      |60            |652230        |\n",
      "|Afghanistan|2018|96.616135                              |17.96                                                           |0.2                                |0.0                           |0.97                             |6070.0                           |1.1892282 |485.66843     |60            |652230        |\n",
      "|Afghanistan|2019|97.7                                   |18.51                                                           |0.18                               |0.0                           |0.89                             |6080.0                           |3.9116035 |494.17935     |60            |652230        |\n",
      "+-----------+----+---------------------------------------+----------------------------------------------------------------+-----------------------------------+------------------------------+---------------------------------+---------------------------------+----------+--------------+--------------+--------------+\n",
      "only showing top 20 rows\n",
      "\n"
     ]
    }
   ],
   "source": [
    "missing_data_columns_to_drop = [\n",
    "    \"Financial flows to developing countries (US $)\",\n",
    "    \"Primary energy consumption per capita (kWh/person)\"\n",
    "]\n",
    "\n",
    "df_new3 = df_new2.drop(*missing_data_columns_to_drop)\n",
    "df_new3.show(truncate=False)"
   ]
  },
  {
   "cell_type": "code",
   "execution_count": 35,
   "id": "767cc552",
   "metadata": {},
   "outputs": [
    {
     "name": "stdout",
     "output_type": "stream",
     "text": [
      "Number of rows: 3649\n",
      "Number of columns: 12\n"
     ]
    }
   ],
   "source": [
    "num_rows = df_new3.count()\n",
    "print(f\"Number of rows: {num_rows}\")\n",
    "\n",
    "num_columns = len(df_new3.columns)\n",
    "print(f\"Number of columns: {num_columns}\")"
   ]
  },
  {
   "cell_type": "markdown",
   "id": "e002fe01",
   "metadata": {},
   "source": [
    "## 3.3 Construct New Attribute"
   ]
  },
  {
   "cell_type": "code",
   "execution_count": 36,
   "id": "180c3989",
   "metadata": {},
   "outputs": [
    {
     "name": "stdout",
     "output_type": "stream",
     "text": [
      "+-----------+----+---------------------------------------+----------------------------------------------------------------+-----------------------------------+------------------------------+---------------------------------+---------------------------------+----------+--------------+--------------+--------------+-------------+\n",
      "|Country    |Year|Access to electricity (% of population)|Renewable energy share in the total final energy consumption (%)|Electricity from fossil fuels (TWh)|Electricity from nuclear (TWh)|Electricity from renewables (TWh)|Value_co2_emissions_kt_by_country|gdp_growth|gdp_per_capita|Density(P/Km2)|Land Area(Km2)|Annual_gdp   |\n",
      "+-----------+----+---------------------------------------+----------------------------------------------------------------+-----------------------------------+------------------------------+---------------------------------+---------------------------------+----------+--------------+--------------+--------------+-------------+\n",
      "|Afghanistan|2000|1.613591                               |44.99                                                           |0.16                               |0.0                           |0.31                             |760.0                            |null      |null          |60            |652230        |null         |\n",
      "|Afghanistan|2001|4.074574                               |45.6                                                            |0.09                               |0.0                           |0.5                              |730.0                            |null      |null          |60            |652230        |null         |\n",
      "|Afghanistan|2002|9.409158                               |37.83                                                           |0.13                               |0.0                           |0.56                             |1030.0                           |null      |179.42657     |60            |652230        |7.0216438E9  |\n",
      "|Afghanistan|2003|14.738506                              |36.66                                                           |0.31                               |0.0                           |0.63                             |1220.0                           |8.832278  |190.6838      |60            |652230        |7.4621819E9  |\n",
      "|Afghanistan|2004|20.064968                              |44.24                                                           |0.33                               |0.0                           |0.56                             |1030.0                           |1.4141179 |211.38208     |60            |652230        |8.2721838E9  |\n",
      "|Afghanistan|2005|25.390894                              |33.88                                                           |0.34                               |0.0                           |0.59                             |1550.0                           |11.229714 |242.03131     |60            |652230        |9.4716047E9  |\n",
      "|Afghanistan|2006|30.71869                               |31.89                                                           |0.2                                |0.0                           |0.64                             |1760.0                           |5.3574033 |263.7336      |60            |652230        |1.0320898E10 |\n",
      "|Afghanistan|2007|36.05101                               |28.78                                                           |0.2                                |0.0                           |0.75                             |1770.0                           |13.82632  |359.69315     |60            |652230        |1.407616E10  |\n",
      "|Afghanistan|2008|42.4                                   |21.17                                                           |0.19                               |0.0                           |0.54                             |3560.0                           |3.9249837 |364.66354     |60            |652230        |1.42706698E10|\n",
      "|Afghanistan|2009|46.74005                               |16.53                                                           |0.16                               |0.0                           |0.78                             |4880.0                           |21.390528 |437.26874     |60            |652230        |1.71119872E10|\n",
      "|Afghanistan|2010|42.7                                   |15.15                                                           |0.19                               |0.0                           |0.75                             |7110.0                           |14.362441 |543.3065      |60            |652230        |2.12616479E10|\n",
      "|Afghanistan|2011|43.22202                               |12.61                                                           |0.18                               |0.0                           |0.6                              |8930.0                           |0.4263548 |591.19        |60            |652230        |2.31355105E10|\n",
      "|Afghanistan|2012|69.1                                   |15.36                                                           |0.14                               |0.0                           |0.74                             |8080.0                           |12.752287 |638.8458      |60            |652230        |2.50004644E10|\n",
      "|Afghanistan|2013|68.29065                               |16.86                                                           |0.22                               |0.0                           |0.89                             |5990.0                           |5.6007447 |624.3154      |60            |652230        |2.44318351E10|\n",
      "|Afghanistan|2014|89.5                                   |18.93                                                           |0.16                               |0.0                           |1.0                              |4880.0                           |2.7245433 |614.2233      |60            |652230        |2.40368927E10|\n",
      "|Afghanistan|2015|71.5                                   |17.53                                                           |0.15                               |0.0                           |1.03                             |5950.0                           |1.4513147 |556.0072      |60            |652230        |2.17586749E10|\n",
      "|Afghanistan|2016|97.7                                   |19.92                                                           |0.15                               |0.0                           |1.06                             |5300.0                           |2.2603142 |512.01276     |60            |652230        |2.00370053E10|\n",
      "|Afghanistan|2017|97.7                                   |19.21                                                           |0.18                               |0.0                           |1.09                             |4780.0                           |2.6470032 |516.6799      |60            |652230        |2.0219646E10 |\n",
      "|Afghanistan|2018|96.616135                              |17.96                                                           |0.2                                |0.0                           |0.97                             |6070.0                           |1.1892282 |485.66843     |60            |652230        |1.90060503E10|\n",
      "|Afghanistan|2019|97.7                                   |18.51                                                           |0.18                               |0.0                           |0.89                             |6080.0                           |3.9116035 |494.17935     |60            |652230        |1.93391165E10|\n",
      "+-----------+----+---------------------------------------+----------------------------------------------------------------+-----------------------------------+------------------------------+---------------------------------+---------------------------------+----------+--------------+--------------+--------------+-------------+\n",
      "only showing top 20 rows\n",
      "\n"
     ]
    }
   ],
   "source": [
    "# Construct the new attribute\n",
    "df_new4 = df_new3.withColumn(\"Annual_gdp\", col(\"Density(P/Km2)\") * col(\"Land Area(Km2)\") * col(\"gdp_per_capita\"))\n",
    "\n",
    "# Show the DataFrame with the new column\n",
    "df_new4.show(truncate=False)"
   ]
  },
  {
   "cell_type": "code",
   "execution_count": 37,
   "id": "de3b073a",
   "metadata": {},
   "outputs": [
    {
     "name": "stdout",
     "output_type": "stream",
     "text": [
      "Correlation between Value_co2_emissions_kt_by_country and Annual_gdp: 0.7744424692868098\n"
     ]
    }
   ],
   "source": [
    "correlation = df_new4.corr(\"Value_co2_emissions_kt_by_country\", \"Annual_gdp\")\n",
    "print(\"Correlation between Value_co2_emissions_kt_by_country and Annual_gdp:\", correlation)"
   ]
  },
  {
   "cell_type": "markdown",
   "id": "04d5b2a2",
   "metadata": {},
   "source": [
    "## 3.4\tIntegrating Data"
   ]
  },
  {
   "cell_type": "code",
   "execution_count": 38,
   "id": "9992b331",
   "metadata": {},
   "outputs": [],
   "source": [
    "from pyspark.sql.functions import when,round\n",
    "joined_df = df_new4.join(df2_new, ['Country', 'Year'], 'left')\n",
    "\n",
    "# Define conversion factor from tonne to kilotonne\n",
    "conversion_factor = 1000\n",
    "\n",
    "# Fill missing CO2 emission values in database 1 from database 2\n",
    "filled_df = joined_df.withColumn(\"Value_co2_emissions_kt_by_country\", \n",
    "                                  when(joined_df[\"Value_co2_emissions_kt_by_country\"].isNull(), \n",
    "                                       joined_df[\"Annual CO₂ emissions\"] / conversion_factor)\n",
    "                                 .otherwise(joined_df[\"Value_co2_emissions_kt_by_country\"])\n",
    "                                  )\n",
    "\n",
    "# Round the CO2 emissions to two decimal places\n",
    "updated_df = filled_df.withColumn(\"Value_co2_emissions_kt_by_country\", round(filled_df[\"Value_co2_emissions_kt_by_country\"], 2))\n",
    "\n",
    "updated_df = updated_df.join(df1_new,['Country', 'Code', 'Year'], 'left')\n",
    "\n",
    "# Drop unnecessary columns\n",
    "final_df = updated_df.drop(\"Annual CO₂ emissions\", \"Code\")"
   ]
  },
  {
   "cell_type": "code",
   "execution_count": 39,
   "id": "3c8397d4",
   "metadata": {},
   "outputs": [
    {
     "name": "stderr",
     "output_type": "stream",
     "text": [
      "                                                                                \r"
     ]
    },
    {
     "data": {
      "text/html": [
       "<div>\n",
       "<style scoped>\n",
       "    .dataframe tbody tr th:only-of-type {\n",
       "        vertical-align: middle;\n",
       "    }\n",
       "\n",
       "    .dataframe tbody tr th {\n",
       "        vertical-align: top;\n",
       "    }\n",
       "\n",
       "    .dataframe thead th {\n",
       "        text-align: right;\n",
       "    }\n",
       "</style>\n",
       "<table border=\"1\" class=\"dataframe\">\n",
       "  <thead>\n",
       "    <tr style=\"text-align: right;\">\n",
       "      <th></th>\n",
       "      <th>0</th>\n",
       "      <th>1</th>\n",
       "      <th>2</th>\n",
       "      <th>3</th>\n",
       "      <th>4</th>\n",
       "    </tr>\n",
       "  </thead>\n",
       "  <tbody>\n",
       "    <tr>\n",
       "      <th>summary</th>\n",
       "      <td>count</td>\n",
       "      <td>mean</td>\n",
       "      <td>stddev</td>\n",
       "      <td>min</td>\n",
       "      <td>max</td>\n",
       "    </tr>\n",
       "    <tr>\n",
       "      <th>Country</th>\n",
       "      <td>3649</td>\n",
       "      <td>None</td>\n",
       "      <td>None</td>\n",
       "      <td>Afghanistan</td>\n",
       "      <td>Zimbabwe</td>\n",
       "    </tr>\n",
       "    <tr>\n",
       "      <th>Year</th>\n",
       "      <td>3649</td>\n",
       "      <td>2010.0383666758016</td>\n",
       "      <td>6.054228365650764</td>\n",
       "      <td>2000</td>\n",
       "      <td>2020</td>\n",
       "    </tr>\n",
       "    <tr>\n",
       "      <th>Access to electricity (% of population)</th>\n",
       "      <td>3639</td>\n",
       "      <td>78.93370218462393</td>\n",
       "      <td>30.27554143208654</td>\n",
       "      <td>1.2522693</td>\n",
       "      <td>100.0</td>\n",
       "    </tr>\n",
       "    <tr>\n",
       "      <th>Renewable energy share in the total final energy consumption (%)</th>\n",
       "      <td>3455</td>\n",
       "      <td>32.6381649511784</td>\n",
       "      <td>29.894901331793534</td>\n",
       "      <td>0.0</td>\n",
       "      <td>96.04</td>\n",
       "    </tr>\n",
       "    <tr>\n",
       "      <th>Electricity from fossil fuels (TWh)</th>\n",
       "      <td>3628</td>\n",
       "      <td>70.3650024256478</td>\n",
       "      <td>348.0518635136442</td>\n",
       "      <td>0.0</td>\n",
       "      <td>5184.13</td>\n",
       "    </tr>\n",
       "    <tr>\n",
       "      <th>Electricity from nuclear (TWh)</th>\n",
       "      <td>3523</td>\n",
       "      <td>13.450190180841238</td>\n",
       "      <td>73.00662308995312</td>\n",
       "      <td>0.0</td>\n",
       "      <td>809.41</td>\n",
       "    </tr>\n",
       "    <tr>\n",
       "      <th>Electricity from renewables (TWh)</th>\n",
       "      <td>3628</td>\n",
       "      <td>23.968009911430844</td>\n",
       "      <td>104.43108457776746</td>\n",
       "      <td>0.0</td>\n",
       "      <td>2184.94</td>\n",
       "    </tr>\n",
       "    <tr>\n",
       "      <th>Value_co2_emissions_kt_by_country</th>\n",
       "      <td>3623</td>\n",
       "      <td>153768.9274689484</td>\n",
       "      <td>757568.413582635</td>\n",
       "      <td>10.0</td>\n",
       "      <td>1.091401216E7</td>\n",
       "    </tr>\n",
       "    <tr>\n",
       "      <th>gdp_growth</th>\n",
       "      <td>3332</td>\n",
       "      <td>3.441610053690284</td>\n",
       "      <td>5.686720163271315</td>\n",
       "      <td>-62.07592</td>\n",
       "      <td>123.13956</td>\n",
       "    </tr>\n",
       "    <tr>\n",
       "      <th>gdp_per_capita</th>\n",
       "      <td>3367</td>\n",
       "      <td>13283.77433636141</td>\n",
       "      <td>19709.866681800508</td>\n",
       "      <td>111.92722</td>\n",
       "      <td>123514.195</td>\n",
       "    </tr>\n",
       "    <tr>\n",
       "      <th>Density(P/Km2)</th>\n",
       "      <td>3543</td>\n",
       "      <td>141.03048264182897</td>\n",
       "      <td>169.2210812480414</td>\n",
       "      <td>2</td>\n",
       "      <td>1281</td>\n",
       "    </tr>\n",
       "    <tr>\n",
       "      <th>Land Area(Km2)</th>\n",
       "      <td>3648</td>\n",
       "      <td>633213.4893092106</td>\n",
       "      <td>1585519.2164607828</td>\n",
       "      <td>21</td>\n",
       "      <td>9984670</td>\n",
       "    </tr>\n",
       "    <tr>\n",
       "      <th>Annual_gdp</th>\n",
       "      <td>3262</td>\n",
       "      <td>4.1605581265441724E11</td>\n",
       "      <td>1.7128995852646235E12</td>\n",
       "      <td>1.4226872E7</td>\n",
       "      <td>2.31093861E13</td>\n",
       "    </tr>\n",
       "    <tr>\n",
       "      <th>Health expenditure per capita - Total</th>\n",
       "      <td>971</td>\n",
       "      <td>2818.313461429427</td>\n",
       "      <td>1742.2792518613662</td>\n",
       "      <td>160.079</td>\n",
       "      <td>11031.29</td>\n",
       "    </tr>\n",
       "  </tbody>\n",
       "</table>\n",
       "</div>"
      ],
      "text/plain": [
       "                                                        0  \\\n",
       "summary                                             count   \n",
       "Country                                              3649   \n",
       "Year                                                 3649   \n",
       "Access to electricity (% of population)              3639   \n",
       "Renewable energy share in the total final energ...   3455   \n",
       "Electricity from fossil fuels (TWh)                  3628   \n",
       "Electricity from nuclear (TWh)                       3523   \n",
       "Electricity from renewables (TWh)                    3628   \n",
       "Value_co2_emissions_kt_by_country                    3623   \n",
       "gdp_growth                                           3332   \n",
       "gdp_per_capita                                       3367   \n",
       "Density(P/Km2)                                       3543   \n",
       "Land Area(Km2)                                       3648   \n",
       "Annual_gdp                                           3262   \n",
       "Health expenditure per capita - Total                 971   \n",
       "\n",
       "                                                                        1  \\\n",
       "summary                                                              mean   \n",
       "Country                                                              None   \n",
       "Year                                                   2010.0383666758016   \n",
       "Access to electricity (% of population)                 78.93370218462393   \n",
       "Renewable energy share in the total final energ...       32.6381649511784   \n",
       "Electricity from fossil fuels (TWh)                      70.3650024256478   \n",
       "Electricity from nuclear (TWh)                         13.450190180841238   \n",
       "Electricity from renewables (TWh)                      23.968009911430844   \n",
       "Value_co2_emissions_kt_by_country                       153768.9274689484   \n",
       "gdp_growth                                              3.441610053690284   \n",
       "gdp_per_capita                                          13283.77433636141   \n",
       "Density(P/Km2)                                         141.03048264182897   \n",
       "Land Area(Km2)                                          633213.4893092106   \n",
       "Annual_gdp                                          4.1605581265441724E11   \n",
       "Health expenditure per capita - Total                   2818.313461429427   \n",
       "\n",
       "                                                                        2  \\\n",
       "summary                                                            stddev   \n",
       "Country                                                              None   \n",
       "Year                                                    6.054228365650764   \n",
       "Access to electricity (% of population)                 30.27554143208654   \n",
       "Renewable energy share in the total final energ...     29.894901331793534   \n",
       "Electricity from fossil fuels (TWh)                     348.0518635136442   \n",
       "Electricity from nuclear (TWh)                          73.00662308995312   \n",
       "Electricity from renewables (TWh)                      104.43108457776746   \n",
       "Value_co2_emissions_kt_by_country                        757568.413582635   \n",
       "gdp_growth                                              5.686720163271315   \n",
       "gdp_per_capita                                         19709.866681800508   \n",
       "Density(P/Km2)                                          169.2210812480414   \n",
       "Land Area(Km2)                                         1585519.2164607828   \n",
       "Annual_gdp                                          1.7128995852646235E12   \n",
       "Health expenditure per capita - Total                  1742.2792518613662   \n",
       "\n",
       "                                                              3              4  \n",
       "summary                                                     min            max  \n",
       "Country                                             Afghanistan       Zimbabwe  \n",
       "Year                                                       2000           2020  \n",
       "Access to electricity (% of population)               1.2522693          100.0  \n",
       "Renewable energy share in the total final energ...          0.0          96.04  \n",
       "Electricity from fossil fuels (TWh)                         0.0        5184.13  \n",
       "Electricity from nuclear (TWh)                              0.0         809.41  \n",
       "Electricity from renewables (TWh)                           0.0        2184.94  \n",
       "Value_co2_emissions_kt_by_country                          10.0  1.091401216E7  \n",
       "gdp_growth                                            -62.07592      123.13956  \n",
       "gdp_per_capita                                        111.92722     123514.195  \n",
       "Density(P/Km2)                                                2           1281  \n",
       "Land Area(Km2)                                               21        9984670  \n",
       "Annual_gdp                                          1.4226872E7  2.31093861E13  \n",
       "Health expenditure per capita - Total                   160.079       11031.29  "
      ]
     },
     "metadata": {},
     "output_type": "display_data"
    }
   ],
   "source": [
    "stats_df = final_df.describe()\n",
    "# Convert Spark DataFrame to Pandas DataFrame\n",
    "stats_pd = stats_df.toPandas()\n",
    "\n",
    "# Transpose the Pandas DataFrame\n",
    "transposed_stats_pd = stats_pd.transpose()\n",
    "\n",
    "# Display the transposed DataFrame\n",
    "display(transposed_stats_pd)"
   ]
  },
  {
   "cell_type": "code",
   "execution_count": 40,
   "id": "3fc3f522",
   "metadata": {},
   "outputs": [
    {
     "data": {
      "text/html": [
       "<div>\n",
       "<style scoped>\n",
       "    .dataframe tbody tr th:only-of-type {\n",
       "        vertical-align: middle;\n",
       "    }\n",
       "\n",
       "    .dataframe tbody tr th {\n",
       "        vertical-align: top;\n",
       "    }\n",
       "\n",
       "    .dataframe thead th {\n",
       "        text-align: right;\n",
       "    }\n",
       "</style>\n",
       "<table border=\"1\" class=\"dataframe\">\n",
       "  <thead>\n",
       "    <tr style=\"text-align: right;\">\n",
       "      <th></th>\n",
       "      <th>0</th>\n",
       "      <th>1</th>\n",
       "      <th>2</th>\n",
       "      <th>3</th>\n",
       "      <th>4</th>\n",
       "    </tr>\n",
       "  </thead>\n",
       "  <tbody>\n",
       "    <tr>\n",
       "      <th>summary</th>\n",
       "      <td>count</td>\n",
       "      <td>mean</td>\n",
       "      <td>stddev</td>\n",
       "      <td>min</td>\n",
       "      <td>max</td>\n",
       "    </tr>\n",
       "    <tr>\n",
       "      <th>Country</th>\n",
       "      <td>3623</td>\n",
       "      <td>None</td>\n",
       "      <td>None</td>\n",
       "      <td>Afghanistan</td>\n",
       "      <td>Zimbabwe</td>\n",
       "    </tr>\n",
       "    <tr>\n",
       "      <th>Year</th>\n",
       "      <td>3623</td>\n",
       "      <td>2010.0320176649186</td>\n",
       "      <td>6.049453063861042</td>\n",
       "      <td>2000</td>\n",
       "      <td>2020</td>\n",
       "    </tr>\n",
       "    <tr>\n",
       "      <th>Access to electricity (% of population)</th>\n",
       "      <td>3614</td>\n",
       "      <td>78.78797516597855</td>\n",
       "      <td>30.32917442403671</td>\n",
       "      <td>1.2522693</td>\n",
       "      <td>100.0</td>\n",
       "    </tr>\n",
       "    <tr>\n",
       "      <th>Renewable energy share in the total final energy consumption (%)</th>\n",
       "      <td>3431</td>\n",
       "      <td>32.853730663397144</td>\n",
       "      <td>29.88505010519653</td>\n",
       "      <td>0.0</td>\n",
       "      <td>96.04</td>\n",
       "    </tr>\n",
       "    <tr>\n",
       "      <th>Electricity from fossil fuels (TWh)</th>\n",
       "      <td>3602</td>\n",
       "      <td>70.75108517497428</td>\n",
       "      <td>349.2756254494901</td>\n",
       "      <td>0.0</td>\n",
       "      <td>5184.13</td>\n",
       "    </tr>\n",
       "    <tr>\n",
       "      <th>Electricity from nuclear (TWh)</th>\n",
       "      <td>3497</td>\n",
       "      <td>13.550191594825188</td>\n",
       "      <td>73.26834877265463</td>\n",
       "      <td>0.0</td>\n",
       "      <td>809.41</td>\n",
       "    </tr>\n",
       "    <tr>\n",
       "      <th>Electricity from renewables (TWh)</th>\n",
       "      <td>3602</td>\n",
       "      <td>24.13967239275432</td>\n",
       "      <td>104.7877895388557</td>\n",
       "      <td>0.0</td>\n",
       "      <td>2184.94</td>\n",
       "    </tr>\n",
       "    <tr>\n",
       "      <th>Value_co2_emissions_kt_by_country</th>\n",
       "      <td>3623</td>\n",
       "      <td>153768.9274689484</td>\n",
       "      <td>757568.413582635</td>\n",
       "      <td>10.0</td>\n",
       "      <td>1.091401216E7</td>\n",
       "    </tr>\n",
       "    <tr>\n",
       "      <th>gdp_growth</th>\n",
       "      <td>3307</td>\n",
       "      <td>3.4672014741488235</td>\n",
       "      <td>5.693162289300852</td>\n",
       "      <td>-62.07592</td>\n",
       "      <td>123.13956</td>\n",
       "    </tr>\n",
       "    <tr>\n",
       "      <th>gdp_per_capita</th>\n",
       "      <td>3342</td>\n",
       "      <td>13118.55189839471</td>\n",
       "      <td>19592.99760220436</td>\n",
       "      <td>111.92722</td>\n",
       "      <td>123514.195</td>\n",
       "    </tr>\n",
       "    <tr>\n",
       "      <th>Density(P/Km2)</th>\n",
       "      <td>3518</td>\n",
       "      <td>139.52444570778852</td>\n",
       "      <td>168.847126471314</td>\n",
       "      <td>2</td>\n",
       "      <td>1281</td>\n",
       "    </tr>\n",
       "    <tr>\n",
       "      <th>Land Area(Km2)</th>\n",
       "      <td>3623</td>\n",
       "      <td>637529.8285950869</td>\n",
       "      <td>1590126.775138347</td>\n",
       "      <td>21</td>\n",
       "      <td>9984670</td>\n",
       "    </tr>\n",
       "    <tr>\n",
       "      <th>Annual_gdp</th>\n",
       "      <td>3237</td>\n",
       "      <td>4.1870228326949304E11</td>\n",
       "      <td>1.7192351530075483E12</td>\n",
       "      <td>1.4226872E7</td>\n",
       "      <td>2.31093861E13</td>\n",
       "    </tr>\n",
       "    <tr>\n",
       "      <th>Health expenditure per capita - Total</th>\n",
       "      <td>971</td>\n",
       "      <td>2818.313461429427</td>\n",
       "      <td>1742.2792518613662</td>\n",
       "      <td>160.079</td>\n",
       "      <td>11031.29</td>\n",
       "    </tr>\n",
       "  </tbody>\n",
       "</table>\n",
       "</div>"
      ],
      "text/plain": [
       "                                                        0  \\\n",
       "summary                                             count   \n",
       "Country                                              3623   \n",
       "Year                                                 3623   \n",
       "Access to electricity (% of population)              3614   \n",
       "Renewable energy share in the total final energ...   3431   \n",
       "Electricity from fossil fuels (TWh)                  3602   \n",
       "Electricity from nuclear (TWh)                       3497   \n",
       "Electricity from renewables (TWh)                    3602   \n",
       "Value_co2_emissions_kt_by_country                    3623   \n",
       "gdp_growth                                           3307   \n",
       "gdp_per_capita                                       3342   \n",
       "Density(P/Km2)                                       3518   \n",
       "Land Area(Km2)                                       3623   \n",
       "Annual_gdp                                           3237   \n",
       "Health expenditure per capita - Total                 971   \n",
       "\n",
       "                                                                        1  \\\n",
       "summary                                                              mean   \n",
       "Country                                                              None   \n",
       "Year                                                   2010.0320176649186   \n",
       "Access to electricity (% of population)                 78.78797516597855   \n",
       "Renewable energy share in the total final energ...     32.853730663397144   \n",
       "Electricity from fossil fuels (TWh)                     70.75108517497428   \n",
       "Electricity from nuclear (TWh)                         13.550191594825188   \n",
       "Electricity from renewables (TWh)                       24.13967239275432   \n",
       "Value_co2_emissions_kt_by_country                       153768.9274689484   \n",
       "gdp_growth                                             3.4672014741488235   \n",
       "gdp_per_capita                                          13118.55189839471   \n",
       "Density(P/Km2)                                         139.52444570778852   \n",
       "Land Area(Km2)                                          637529.8285950869   \n",
       "Annual_gdp                                          4.1870228326949304E11   \n",
       "Health expenditure per capita - Total                   2818.313461429427   \n",
       "\n",
       "                                                                        2  \\\n",
       "summary                                                            stddev   \n",
       "Country                                                              None   \n",
       "Year                                                    6.049453063861042   \n",
       "Access to electricity (% of population)                 30.32917442403671   \n",
       "Renewable energy share in the total final energ...      29.88505010519653   \n",
       "Electricity from fossil fuels (TWh)                     349.2756254494901   \n",
       "Electricity from nuclear (TWh)                          73.26834877265463   \n",
       "Electricity from renewables (TWh)                       104.7877895388557   \n",
       "Value_co2_emissions_kt_by_country                        757568.413582635   \n",
       "gdp_growth                                              5.693162289300852   \n",
       "gdp_per_capita                                          19592.99760220436   \n",
       "Density(P/Km2)                                           168.847126471314   \n",
       "Land Area(Km2)                                          1590126.775138347   \n",
       "Annual_gdp                                          1.7192351530075483E12   \n",
       "Health expenditure per capita - Total                  1742.2792518613662   \n",
       "\n",
       "                                                              3              4  \n",
       "summary                                                     min            max  \n",
       "Country                                             Afghanistan       Zimbabwe  \n",
       "Year                                                       2000           2020  \n",
       "Access to electricity (% of population)               1.2522693          100.0  \n",
       "Renewable energy share in the total final energ...          0.0          96.04  \n",
       "Electricity from fossil fuels (TWh)                         0.0        5184.13  \n",
       "Electricity from nuclear (TWh)                              0.0         809.41  \n",
       "Electricity from renewables (TWh)                           0.0        2184.94  \n",
       "Value_co2_emissions_kt_by_country                          10.0  1.091401216E7  \n",
       "gdp_growth                                            -62.07592      123.13956  \n",
       "gdp_per_capita                                        111.92722     123514.195  \n",
       "Density(P/Km2)                                                2           1281  \n",
       "Land Area(Km2)                                               21        9984670  \n",
       "Annual_gdp                                          1.4226872E7  2.31093861E13  \n",
       "Health expenditure per capita - Total                   160.079       11031.29  "
      ]
     },
     "metadata": {},
     "output_type": "display_data"
    }
   ],
   "source": [
    "# Drop rows with missing CO2 emissions values\n",
    "df_new = final_df.dropna(subset=[\"Value_co2_emissions_kt_by_country\"])\n",
    "\n",
    "stats_df = df_new.describe()\n",
    "# Convert Spark DataFrame to Pandas DataFrame\n",
    "stats_pd = stats_df.toPandas()\n",
    "\n",
    "# Transpose the Pandas DataFrame\n",
    "transposed_stats_pd = stats_pd.transpose()\n",
    "\n",
    "# Display the transposed DataFrame\n",
    "display(transposed_stats_pd)"
   ]
  },
  {
   "cell_type": "code",
   "execution_count": 41,
   "id": "483a61ad",
   "metadata": {},
   "outputs": [
    {
     "data": {
      "text/html": [
       "<div>\n",
       "<style scoped>\n",
       "    .dataframe tbody tr th:only-of-type {\n",
       "        vertical-align: middle;\n",
       "    }\n",
       "\n",
       "    .dataframe tbody tr th {\n",
       "        vertical-align: top;\n",
       "    }\n",
       "\n",
       "    .dataframe thead th {\n",
       "        text-align: right;\n",
       "    }\n",
       "</style>\n",
       "<table border=\"1\" class=\"dataframe\">\n",
       "  <thead>\n",
       "    <tr style=\"text-align: right;\">\n",
       "      <th></th>\n",
       "      <th>0</th>\n",
       "      <th>1</th>\n",
       "      <th>2</th>\n",
       "      <th>3</th>\n",
       "      <th>4</th>\n",
       "    </tr>\n",
       "  </thead>\n",
       "  <tbody>\n",
       "    <tr>\n",
       "      <th>summary</th>\n",
       "      <td>count</td>\n",
       "      <td>mean</td>\n",
       "      <td>stddev</td>\n",
       "      <td>min</td>\n",
       "      <td>max</td>\n",
       "    </tr>\n",
       "    <tr>\n",
       "      <th>Country</th>\n",
       "      <td>971</td>\n",
       "      <td>None</td>\n",
       "      <td>None</td>\n",
       "      <td>Argentina</td>\n",
       "      <td>United States</td>\n",
       "    </tr>\n",
       "    <tr>\n",
       "      <th>Year</th>\n",
       "      <td>971</td>\n",
       "      <td>2010.394438722966</td>\n",
       "      <td>5.966740287533027</td>\n",
       "      <td>2000</td>\n",
       "      <td>2020</td>\n",
       "    </tr>\n",
       "    <tr>\n",
       "      <th>Access to electricity (% of population)</th>\n",
       "      <td>971</td>\n",
       "      <td>99.35077341160249</td>\n",
       "      <td>2.542414470053577</td>\n",
       "      <td>67.6</td>\n",
       "      <td>100.0</td>\n",
       "    </tr>\n",
       "    <tr>\n",
       "      <th>Renewable energy share in the total final energy consumption (%)</th>\n",
       "      <td>922</td>\n",
       "      <td>19.98920823444578</td>\n",
       "      <td>15.30329903073326</td>\n",
       "      <td>0.1</td>\n",
       "      <td>81.07</td>\n",
       "    </tr>\n",
       "    <tr>\n",
       "      <th>Electricity from fossil fuels (TWh)</th>\n",
       "      <td>971</td>\n",
       "      <td>216.0117804638746</td>\n",
       "      <td>645.3028723143818</td>\n",
       "      <td>0.0</td>\n",
       "      <td>5184.13</td>\n",
       "    </tr>\n",
       "    <tr>\n",
       "      <th>Electricity from nuclear (TWh)</th>\n",
       "      <td>939</td>\n",
       "      <td>47.956826440061626</td>\n",
       "      <td>134.98239829603224</td>\n",
       "      <td>0.0</td>\n",
       "      <td>809.41</td>\n",
       "    </tr>\n",
       "    <tr>\n",
       "      <th>Electricity from renewables (TWh)</th>\n",
       "      <td>971</td>\n",
       "      <td>79.11465495723145</td>\n",
       "      <td>190.65392353166862</td>\n",
       "      <td>0.0</td>\n",
       "      <td>2184.94</td>\n",
       "    </tr>\n",
       "    <tr>\n",
       "      <th>Value_co2_emissions_kt_by_country</th>\n",
       "      <td>971</td>\n",
       "      <td>474949.58915550966</td>\n",
       "      <td>1404430.1290522355</td>\n",
       "      <td>1350.0</td>\n",
       "      <td>1.091401216E7</td>\n",
       "    </tr>\n",
       "    <tr>\n",
       "      <th>gdp_growth</th>\n",
       "      <td>929</td>\n",
       "      <td>2.4594146381204984</td>\n",
       "      <td>3.6857599986696856</td>\n",
       "      <td>-14.838609</td>\n",
       "      <td>25.176245</td>\n",
       "    </tr>\n",
       "    <tr>\n",
       "      <th>gdp_per_capita</th>\n",
       "      <td>929</td>\n",
       "      <td>29545.23001338437</td>\n",
       "      <td>23048.700360150513</td>\n",
       "      <td>959.3725</td>\n",
       "      <td>123514.195</td>\n",
       "    </tr>\n",
       "    <tr>\n",
       "      <th>Density(P/Km2)</th>\n",
       "      <td>953</td>\n",
       "      <td>122.12591815320042</td>\n",
       "      <td>119.33382529298356</td>\n",
       "      <td>3</td>\n",
       "      <td>508</td>\n",
       "    </tr>\n",
       "    <tr>\n",
       "      <th>Land Area(Km2)</th>\n",
       "      <td>971</td>\n",
       "      <td>1344947.771369722</td>\n",
       "      <td>2794010.4232564066</td>\n",
       "      <td>316</td>\n",
       "      <td>9984670</td>\n",
       "    </tr>\n",
       "    <tr>\n",
       "      <th>Annual_gdp</th>\n",
       "      <td>911</td>\n",
       "      <td>1.3405694144177036E12</td>\n",
       "      <td>3.046535974065858E12</td>\n",
       "      <td>5.7072707E9</td>\n",
       "      <td>2.31093861E13</td>\n",
       "    </tr>\n",
       "    <tr>\n",
       "      <th>Health expenditure per capita - Total</th>\n",
       "      <td>971</td>\n",
       "      <td>2818.313461429427</td>\n",
       "      <td>1742.2792518613662</td>\n",
       "      <td>160.079</td>\n",
       "      <td>11031.29</td>\n",
       "    </tr>\n",
       "  </tbody>\n",
       "</table>\n",
       "</div>"
      ],
      "text/plain": [
       "                                                        0  \\\n",
       "summary                                             count   \n",
       "Country                                               971   \n",
       "Year                                                  971   \n",
       "Access to electricity (% of population)               971   \n",
       "Renewable energy share in the total final energ...    922   \n",
       "Electricity from fossil fuels (TWh)                   971   \n",
       "Electricity from nuclear (TWh)                        939   \n",
       "Electricity from renewables (TWh)                     971   \n",
       "Value_co2_emissions_kt_by_country                     971   \n",
       "gdp_growth                                            929   \n",
       "gdp_per_capita                                        929   \n",
       "Density(P/Km2)                                        953   \n",
       "Land Area(Km2)                                        971   \n",
       "Annual_gdp                                            911   \n",
       "Health expenditure per capita - Total                 971   \n",
       "\n",
       "                                                                        1  \\\n",
       "summary                                                              mean   \n",
       "Country                                                              None   \n",
       "Year                                                    2010.394438722966   \n",
       "Access to electricity (% of population)                 99.35077341160249   \n",
       "Renewable energy share in the total final energ...      19.98920823444578   \n",
       "Electricity from fossil fuels (TWh)                     216.0117804638746   \n",
       "Electricity from nuclear (TWh)                         47.956826440061626   \n",
       "Electricity from renewables (TWh)                       79.11465495723145   \n",
       "Value_co2_emissions_kt_by_country                      474949.58915550966   \n",
       "gdp_growth                                             2.4594146381204984   \n",
       "gdp_per_capita                                          29545.23001338437   \n",
       "Density(P/Km2)                                         122.12591815320042   \n",
       "Land Area(Km2)                                          1344947.771369722   \n",
       "Annual_gdp                                          1.3405694144177036E12   \n",
       "Health expenditure per capita - Total                   2818.313461429427   \n",
       "\n",
       "                                                                       2  \\\n",
       "summary                                                           stddev   \n",
       "Country                                                             None   \n",
       "Year                                                   5.966740287533027   \n",
       "Access to electricity (% of population)                2.542414470053577   \n",
       "Renewable energy share in the total final energ...     15.30329903073326   \n",
       "Electricity from fossil fuels (TWh)                    645.3028723143818   \n",
       "Electricity from nuclear (TWh)                        134.98239829603224   \n",
       "Electricity from renewables (TWh)                     190.65392353166862   \n",
       "Value_co2_emissions_kt_by_country                     1404430.1290522355   \n",
       "gdp_growth                                            3.6857599986696856   \n",
       "gdp_per_capita                                        23048.700360150513   \n",
       "Density(P/Km2)                                        119.33382529298356   \n",
       "Land Area(Km2)                                        2794010.4232564066   \n",
       "Annual_gdp                                          3.046535974065858E12   \n",
       "Health expenditure per capita - Total                 1742.2792518613662   \n",
       "\n",
       "                                                              3              4  \n",
       "summary                                                     min            max  \n",
       "Country                                               Argentina  United States  \n",
       "Year                                                       2000           2020  \n",
       "Access to electricity (% of population)                    67.6          100.0  \n",
       "Renewable energy share in the total final energ...          0.1          81.07  \n",
       "Electricity from fossil fuels (TWh)                         0.0        5184.13  \n",
       "Electricity from nuclear (TWh)                              0.0         809.41  \n",
       "Electricity from renewables (TWh)                           0.0        2184.94  \n",
       "Value_co2_emissions_kt_by_country                        1350.0  1.091401216E7  \n",
       "gdp_growth                                           -14.838609      25.176245  \n",
       "gdp_per_capita                                         959.3725     123514.195  \n",
       "Density(P/Km2)                                                3            508  \n",
       "Land Area(Km2)                                              316        9984670  \n",
       "Annual_gdp                                          5.7072707E9  2.31093861E13  \n",
       "Health expenditure per capita - Total                   160.079       11031.29  "
      ]
     },
     "metadata": {},
     "output_type": "display_data"
    }
   ],
   "source": [
    "# Drop rows with missing CO2 emissions values\n",
    "df1_new = final_df.dropna(subset=[\"Value_co2_emissions_kt_by_country\", \"Health expenditure per capita - Total\"])\n",
    "\n",
    "stats_df1 = df1_new.describe()\n",
    "# Convert Spark DataFrame to Pandas DataFrame\n",
    "stats_pd1 = stats_df1.toPandas()\n",
    "\n",
    "# Transpose the Pandas DataFrame\n",
    "transposed_stats_pd1 = stats_pd1.transpose()\n",
    "\n",
    "# Display the transposed DataFrame\n",
    "display(transposed_stats_pd1)"
   ]
  },
  {
   "cell_type": "markdown",
   "id": "316cefca",
   "metadata": {},
   "source": [
    "# 4.\tData Transformation"
   ]
  },
  {
   "cell_type": "markdown",
   "id": "0638122b",
   "metadata": {},
   "source": [
    "## 4.1\tData Reduction"
   ]
  },
  {
   "cell_type": "code",
   "execution_count": 42,
   "id": "8936a444",
   "metadata": {},
   "outputs": [
    {
     "name": "stdout",
     "output_type": "stream",
     "text": [
      "+----------------------------------------------------------------+--------------------+--------------------+\n",
      "|Column                                                          |Correlation         |Absolute Correlation|\n",
      "+----------------------------------------------------------------+--------------------+--------------------+\n",
      "|Electricity from fossil fuels (TWh)                             |0.9897710221636576  |0.9897710221636576  |\n",
      "|Electricity from renewables (TWh)                               |0.8518158261910047  |0.8518158261910047  |\n",
      "|Annual_gdp                                                      |0.7967665291990295  |0.7967665291990295  |\n",
      "|Land Area(Km2)                                                  |0.6427941177596337  |0.6427941177596337  |\n",
      "|Electricity from nuclear (TWh)                                  |0.5734421062823397  |0.5734421062823397  |\n",
      "|gdp_growth                                                      |0.17696599944311184 |0.17696599944311184 |\n",
      "|Renewable energy share in the total final energy consumption (%)|-0.13661277703931055|0.13661277703931055 |\n",
      "|Health expenditure per capita - Total                           |0.08986537253349092 |0.08986537253349092 |\n",
      "|Density(P/Km2)                                                  |0.06550751323287463 |0.06550751323287463 |\n",
      "|gdp_per_capita                                                  |-0.05510505539033519|0.05510505539033519 |\n",
      "|Access to electricity (% of population)                         |-0.04870221419930577|0.04870221419930577 |\n",
      "+----------------------------------------------------------------+--------------------+--------------------+\n",
      "\n"
     ]
    }
   ],
   "source": [
    "# Compute correlations for all columns of interest\n",
    "correlations = []\n",
    "columns_of_interest = [\n",
    "    \"Electricity from fossil fuels (TWh)\",\n",
    "    \"Density(P/Km2)\",\n",
    "    \"Access to electricity (% of population)\",\n",
    "    \"Renewable energy share in the total final energy consumption (%)\",\n",
    "    \"Electricity from nuclear (TWh)\",\n",
    "    \"Electricity from renewables (TWh)\",\n",
    "    \"gdp_growth\",\n",
    "    \"gdp_per_capita\",\n",
    "    \"Land Area(Km2)\",\n",
    "    \"Annual_gdp\",\n",
    "    \"Health expenditure per capita - Total\"\n",
    "]\n",
    "\n",
    "for column in columns_of_interest:\n",
    "    correlation = df1_new.corr(\"Value_co2_emissions_kt_by_country\", column)\n",
    "    correlations.append((column, correlation))\n",
    "\n",
    "# Create a DataFrame or RDD with correlation values and corresponding column names\n",
    "correlation_df = spark.createDataFrame(correlations, [\"Column\", \"Correlation\"])\n",
    "\n",
    "# Sort the DataFrame by correlation values in descending order\n",
    "sorted_correlation_df = correlation_df.orderBy(col(\"Correlation\").desc())\n",
    "\n",
    "# Apply the abs() function to the Correlation column to create Absolute Correlation column\n",
    "correlation_df = correlation_df.withColumn(\"Absolute Correlation\", abs(col(\"Correlation\")))\n",
    "\n",
    "# Sort the DataFrame by absolute correlation values in descending order\n",
    "sorted_abs_correlation_df = correlation_df.orderBy(\"Absolute Correlation\", ascending=False)\n",
    "\n",
    "# Set the maximum column width to a larger value\n",
    "spark.conf.set(\"spark.sql.repl.eagerEval.maxNumRows\", 100)\n",
    "spark.conf.set(\"spark.sql.repl.eagerEval.maxNumCols\", 100)\n",
    "\n",
    "# Display the sorted table\n",
    "sorted_abs_correlation_df.show(truncate=False)"
   ]
  },
  {
   "cell_type": "code",
   "execution_count": 43,
   "id": "02b3ce91",
   "metadata": {},
   "outputs": [
    {
     "name": "stdout",
     "output_type": "stream",
     "text": [
      "+-------+----+---------------------------------------+----------------------------------------------------------------+-----------------------------------+------------------------------+---------------------------------+---------------------------------+-----------+--------------+--------------+--------------+-------------+-------------------------------------+-----+\n",
      "|Country|Year|Access to electricity (% of population)|Renewable energy share in the total final energy consumption (%)|Electricity from fossil fuels (TWh)|Electricity from nuclear (TWh)|Electricity from renewables (TWh)|Value_co2_emissions_kt_by_country|gdp_growth |gdp_per_capita|Density(P/Km2)|Land Area(Km2)|Annual_gdp   |Health expenditure per capita - Total|Group|\n",
      "+-------+----+---------------------------------------+----------------------------------------------------------------+-----------------------------------+------------------------------+---------------------------------+---------------------------------+-----------+--------------+--------------+--------------+-------------+-------------------------------------+-----+\n",
      "|Brazil |2000|94.391716                              |42.66                                                           |28.87                              |4.94                          |308.77                           |313670.0                         |4.3879495  |3749.911      |25            |8515770       |7.9833452E11 |953.336                              |BRICS|\n",
      "|Brazil |2001|96.016525                              |41.33                                                           |35.19                              |14.27                         |273.71                           |319380.0                         |1.3898964  |3160.2493     |25            |8515770       |6.7279893E11 |974.763                              |BRICS|\n",
      "|Brazil |2002|96.65299                               |42.85                                                           |33.5                               |13.84                         |292.95                           |317760.0                         |3.0534618  |2839.4915     |25            |8515770       |6.045114E11  |1018.677                             |BRICS|\n",
      "|Brazil |2003|96.980095                              |45.11                                                           |31.62                              |13.4                          |313.88                           |310810.0                         |1.140829   |3070.4365     |25            |8515770       |6.5367828E11 |956.411                              |BRICS|\n",
      "|Brazil |2004|96.76511                               |45.18                                                           |40.14                              |11.6                          |329.43                           |328520.0                         |5.7599645  |3637.314      |25            |8515770       |7.7436322E11 |1002.265                             |BRICS|\n",
      "|Brazil |2005|97.09351                               |46.13                                                           |39.56                              |9.2                           |346.96                           |331690.0                         |3.202132   |4790.4565     |25            |8515770       |1.01986068E12|1008.382                             |BRICS|\n",
      "|Brazil |2006|97.594315                              |46.67                                                           |39.4                               |12.98                         |359.55                           |335620.0                         |3.9619887  |5886.3916     |25            |8515770       |1.253179E12  |1072.588                             |BRICS|\n",
      "|Brazil |2007|98.12538                               |47.19                                                           |37.64                              |11.65                         |387.88                           |352560.0                         |6.0698705  |7348.188      |25            |8515770       |1.56438705E12|1126.021                             |BRICS|\n",
      "|Brazil |2008|98.52663                               |47.04                                                           |55.87                              |13.21                         |385.61                           |373630.0                         |5.0941954  |8831.184      |25            |8515770       |1.8801083E12 |1150.926                             |BRICS|\n",
      "|Brazil |2009|98.85694                               |48.92                                                           |36.32                              |12.22                         |410.13                           |350000.0                         |-0.12581201|8597.794      |25            |8515770       |1.830421E12  |1196.338                             |BRICS|\n",
      "|Brazil |2010|98.6                                   |46.81                                                           |61.02                              |13.77                         |435.99                           |397930.0                         |7.528226   |11286.071     |25            |8515770       |2.40273981E12|1220.171                             |BRICS|\n",
      "|Brazil |2011|99.32869                               |45.26                                                           |50.27                              |14.8                          |462.32                           |418310.0                         |3.9744232  |13245.388     |25            |8515770       |2.81986702E12|1239.974                             |BRICS|\n",
      "|Brazil |2012|99.51949                               |43.49                                                           |77.21                              |15.17                         |454.78                           |454230.0                         |1.921176   |12370.224     |25            |8515770       |2.63354948E12|1244.551                             |BRICS|\n",
      "|Brazil |2013|99.57515                               |42.32                                                           |112.0                              |14.65                         |436.84                           |486840.0                         |3.0048227  |12300.387     |25            |8515770       |2.61868172E12|1299.913                             |BRICS|\n",
      "|Brazil |2014|99.650246                              |41.71                                                           |136.58                             |14.46                         |430.82                           |511620.0                         |0.5039557  |12112.835     |25            |8515770       |2.578753E12  |1357.322                             |BRICS|\n",
      "|Brazil |2015|99.7109                                |43.62                                                           |128.85                             |13.91                         |428.81                           |485340.0                         |-3.5457635 |8813.99       |25            |8515770       |1.87644785E12|1360.799                             |BRICS|\n",
      "|Brazil |2016|99.7                                   |45.46                                                           |93.06                              |14.97                         |463.37                           |447080.0                         |-3.2759168 |8710.063      |25            |8515770       |1.85432251E12|1334.801                             |BRICS|\n",
      "|Brazil |2017|99.8                                   |45.33                                                           |101.9                              |14.86                         |464.4                            |456490.0                         |1.3228691  |9928.676      |25            |8515770       |2.11375804E12|1385.726                             |BRICS|\n",
      "|Brazil |2018|99.7                                   |46.95                                                           |86.69                              |14.79                         |492.66                           |433990.0                         |1.7836667  |9151.382      |25            |8515770       |1.94827662E12|1403.285                             |BRICS|\n",
      "|Brazil |2019|99.8                                   |47.57                                                           |90.91                              |15.16                         |512.59                           |434300.0                         |1.411153   |8897.553      |25            |8515770       |1.89423786E12|1430.291                             |BRICS|\n",
      "+-------+----+---------------------------------------+----------------------------------------------------------------+-----------------------------------+------------------------------+---------------------------------+---------------------------------+-----------+--------------+--------------+--------------+-------------+-------------------------------------+-----+\n",
      "only showing top 20 rows\n",
      "\n"
     ]
    }
   ],
   "source": [
    "# Select G7 countries & BRICS countries\n",
    "from pyspark.sql.functions import when, col\n",
    "\n",
    "# Define lists of G7 and BRICS countries\n",
    "g7_countries = [\"Canada\", \"France\", \"Germany\", \"Italy\", \"Japan\", \"United Kingdom\", \"United States\"]\n",
    "brics_countries = [\"Brazil\", \"Russia\", \"India\", \"China\", \"South Africa\"]\n",
    "\n",
    "# Add a new column to label the countries\n",
    "df1_labeled = df1_new.withColumn(\n",
    "    \"Group\",\n",
    "    when(col(\"Country\").isin(g7_countries), \"G7\")\n",
    "    .when(col(\"Country\").isin(brics_countries), \"BRICS\")\n",
    "    .otherwise(\"Other\")\n",
    ")\n",
    "\n",
    "# Filter out rows that are not in G7 or BRICS\n",
    "df1_filtered = df1_labeled.filter(col(\"Group\") != \"Other\")\n",
    "\n",
    "# Show the result\n",
    "df1_filtered.show(truncate=False)"
   ]
  },
  {
   "cell_type": "code",
   "execution_count": 44,
   "id": "3788adf7",
   "metadata": {
    "scrolled": true
   },
   "outputs": [
    {
     "name": "stdout",
     "output_type": "stream",
     "text": [
      "Number of unique countries in dataset 'Country': 11\n",
      "Germany\n",
      "France\n",
      "China\n",
      "India\n",
      "United States\n",
      "Italy\n",
      "Canada\n",
      "Brazil\n",
      "Japan\n",
      "South Africa\n",
      "United Kingdom\n"
     ]
    }
   ],
   "source": [
    "# Count unique values for a specific column\n",
    "column_name = \"Country\"\n",
    "unique_values = df1_filtered.select(column_name).distinct().collect()\n",
    "print(f\"Number of unique countries in dataset '{column_name}': {len(unique_values)}\")\n",
    "# Print all unique values\n",
    "for value in unique_values:\n",
    "    print(value[column_name])"
   ]
  },
  {
   "cell_type": "code",
   "execution_count": 45,
   "id": "4991899d",
   "metadata": {},
   "outputs": [
    {
     "name": "stdout",
     "output_type": "stream",
     "text": [
      "Number of rows: 209\n",
      "Number of columns: 15\n"
     ]
    }
   ],
   "source": [
    "num_rows = df1_filtered.count()\n",
    "print(f\"Number of rows: {num_rows}\")\n",
    "\n",
    "num_columns = len(df1_filtered.columns)\n",
    "print(f\"Number of columns: {num_columns}\")"
   ]
  },
  {
   "cell_type": "code",
   "execution_count": 46,
   "id": "ed8d3189",
   "metadata": {},
   "outputs": [
    {
     "data": {
      "image/png": "[encoded data removed]",
      "text/plain": [
       "<Figure size 1008x504 with 1 Axes>"
      ]
     },
     "metadata": {
      "needs_background": "light"
     },
     "output_type": "display_data"
    }
   ],
   "source": [
    "# Convert the filtered DataFrame to a Pandas DataFrame\n",
    "df1_filtered_pd = df1_filtered.toPandas()\n",
    "\n",
    "# Plot the distribution of CO2 emissions for G7 and BRICS groups\n",
    "plt.figure(figsize=(14, 7))\n",
    "\n",
    "# Create a boxplot to show the distribution of CO2 emissions\n",
    "sns.boxplot(x=\"Group\", y=\"Value_co2_emissions_kt_by_country\", data=df1_filtered_pd)\n",
    "plt.title('Distribution of CO2 Emissions for G7 and BRICS Countries')\n",
    "plt.xlabel('Group')\n",
    "plt.ylabel('CO2 Emissions (kt)')\n",
    "\n",
    "# Display the plot\n",
    "plt.show()"
   ]
  },
  {
   "cell_type": "code",
   "execution_count": 47,
   "id": "17a3d68d",
   "metadata": {},
   "outputs": [
    {
     "data": {
      "image/png": "[encoded data removed]",
      "text/plain": [
       "<Figure size 1008x504 with 1 Axes>"
      ]
     },
     "metadata": {
      "needs_background": "light"
     },
     "output_type": "display_data"
    }
   ],
   "source": [
    "# Convert the filtered DataFrame to a Pandas DataFrame\n",
    "df1_filtered_pd = df1_filtered.toPandas()\n",
    "\n",
    "# Plot the distribution of CO2 emissions for G7 and BRICS groups\n",
    "plt.figure(figsize=(14, 7))\n",
    "\n",
    "# Create a boxplot to show the distribution of CO2 emissions\n",
    "sns.boxplot(x=\"Group\", y=\"Health expenditure per capita - Total\", data=df1_filtered_pd)\n",
    "plt.title('Distribution of Health expenditure for G7 and BRICS Countries')\n",
    "plt.xlabel('Group')\n",
    "plt.ylabel('Health expenditure per capita ($)')\n",
    "\n",
    "# Display the plot\n",
    "plt.show()"
   ]
  },
  {
   "cell_type": "markdown",
   "id": "93b575e4",
   "metadata": {},
   "source": [
    "## 4.1\tData Projection"
   ]
  },
  {
   "cell_type": "code",
   "execution_count": null,
   "id": "fd54a7e1",
   "metadata": {},
   "outputs": [],
   "source": []
  },
  {
   "cell_type": "code",
   "execution_count": null,
   "id": "fe6c4dfe",
   "metadata": {},
   "outputs": [],
   "source": []
  }
 ],
 "metadata": {
  "kernelspec": {
   "display_name": "Python 3 (ipykernel)",
   "language": "python",
   "name": "python3"
  },
  "language_info": {
   "codemirror_mode": {
    "name": "ipython",
    "version": 3
   },
   "file_extension": ".py",
   "mimetype": "text/x-python",
   "name": "python",
   "nbconvert_exporter": "python",
   "pygments_lexer": "ipython3",
   "version": "3.10.12"
  }
 },
 "nbformat": 4,
 "nbformat_minor": 5
}
