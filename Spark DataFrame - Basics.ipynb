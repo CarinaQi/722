{
 "cells": [
  {
   "cell_type": "code",
   "execution_count": 78,
   "id": "c6d0f5ff",
   "metadata": {},
   "outputs": [],
   "source": [
    "# Must be included at the beginning of each new notebook. Remember to change the app name.\n",
    "import findspark\n",
    "findspark.init('/home/ubuntu/spark-3.2.1-bin-hadoop2.7')\n",
    "import pyspark\n",
    "from pyspark.sql import SparkSession\n",
    "spark = SparkSession.builder.appName('basics').getOrCreate()"
   ]
  },
  {
   "cell_type": "code",
   "execution_count": 79,
   "id": "00f47af5",
   "metadata": {},
   "outputs": [],
   "source": [
    "# Let's read in the data.\n",
    "df = spark.read.option(\"header\", \"true\").csv('Datasets/global-data-on-sustainable-energy.csv')\n",
    "df2 = spark.read.option(\"header\", \"true\").csv('Datasets/annual-co2-emissions-per-country.csv')"
   ]
  },
  {
   "cell_type": "markdown",
   "id": "6ba88003",
   "metadata": {},
   "source": [
    "## 2.2 Dataset Information"
   ]
  },
  {
   "cell_type": "code",
   "execution_count": 80,
   "id": "0e58d55e",
   "metadata": {},
   "outputs": [
    {
     "name": "stdout",
     "output_type": "stream",
     "text": [
      "+-----------+----+---------------------------------------+---------------------------------+----------------------------------------------------+----------------------------------------------+----------------------------------------------------------------+-----------------------------------+------------------------------+---------------------------------+--------------------------------------+--------------------------------------------------+-----------------------------------------------------------+---------------------------------+----------------------------------------+-----------+--------------+--------------+--------------+--------+---------+\n",
      "|     Entity|Year|Access to electricity (% of population)|Access to clean fuels for cooking|Renewable-electricity-generating-capacity-per-capita|Financial flows to developing countries (US $)|Renewable energy share in the total final energy consumption (%)|Electricity from fossil fuels (TWh)|Electricity from nuclear (TWh)|Electricity from renewables (TWh)|Low-carbon electricity (% electricity)|Primary energy consumption per capita (kWh/person)|Energy intensity level of primary energy (MJ/$2017 PPP GDP)|Value_co2_emissions_kt_by_country|Renewables (% equivalent primary energy)| gdp_growth|gdp_per_capita|Density(P/Km2)|Land Area(Km2)|Latitude|Longitude|\n",
      "+-----------+----+---------------------------------------+---------------------------------+----------------------------------------------------+----------------------------------------------+----------------------------------------------------------------+-----------------------------------+------------------------------+---------------------------------+--------------------------------------+--------------------------------------------------+-----------------------------------------------------------+---------------------------------+----------------------------------------+-----------+--------------+--------------+--------------+--------+---------+\n",
      "|Afghanistan|2000|                               1.613591|                              6.2|                                                9.22|                                         20000|                                                           44.99|                               0.16|                             0|                             0.31|                              65.95744|                                         302.59482|                                                       1.64|                              760|                                    null|       null|          null|            60|        652230|33.93911|67.709953|\n",
      "|Afghanistan|2001|                               4.074574|                              7.2|                                                8.86|                                        130000|                                                            45.6|                               0.09|                             0|                              0.5|                             84.745766|                                         236.89185|                                                       1.74|                              730|                                    null|       null|          null|            60|        652230|33.93911|67.709953|\n",
      "|Afghanistan|2002|                               9.409158|                              8.2|                                                8.47|                                       3950000|                                                           37.83|                               0.13|                             0|                             0.56|                             81.159424|                                         210.86215|                                                        1.4|                      1029.999971|                                    null|       null|   179.4265792|            60|        652230|33.93911|67.709953|\n",
      "|Afghanistan|2003|                              14.738506|                              9.5|                                                8.09|                                      25970000|                                                           36.66|                               0.31|                             0|                             0.63|                              67.02128|                                         229.96822|                                                        1.4|                      1220.000029|                                    null|8.832277813|   190.6838143|            60|        652230|33.93911|67.709953|\n",
      "|Afghanistan|2004|                              20.064968|                             10.9|                                                7.75|                                          null|                                                           44.24|                               0.33|                             0|                             0.56|                              62.92135|                                         204.23125|                                                        1.2|                      1029.999971|                                    null|1.414117981|   211.3820742|            60|        652230|33.93911|67.709953|\n",
      "|Afghanistan|2005|                              25.390894|                             12.2|                                                7.51|                                       9830000|                                                           33.88|                               0.34|                             0|                             0.59|                             63.440857|                                         252.06912|                                                       1.41|                      1549.999952|                                    null|11.22971482|   242.0313132|            60|        652230|33.93911|67.709953|\n",
      "|Afghanistan|2006|                               30.71869|                            13.85|                                                 7.4|                                      10620000|                                                           31.89|                                0.2|                             0|                             0.64|                             76.190475|                                          304.4209|                                                        1.5|                       1759.99999|                                    null|5.357403251|   263.7336019|            60|        652230|33.93911|67.709953|\n",
      "|Afghanistan|2007|                               36.05101|                             15.3|                                                7.25|                                      15750000|                                                           28.78|                                0.2|                             0|                             0.75|                              78.94737|                                          354.2799|                                                       1.53|                      1769.999981|                                    null|13.82631955|   359.6931579|            60|        652230|33.93911|67.709953|\n",
      "|Afghanistan|2008|                                   42.4|                             16.7|                                                7.49|                                      16170000|                                                           21.17|                               0.19|                             0|                             0.54|                               73.9726|                                          607.8335|                                                       1.94|                      3559.999943|                                    null|3.924983822|    364.663542|            60|        652230|33.93911|67.709953|\n",
      "|Afghanistan|2009|                               46.74005|                             18.4|                                                 7.5|                                       9960000|                                                           16.53|                               0.16|                             0|                             0.78|                              82.97872|                                         975.04816|                                                       2.25|                      4880.000114|                                    null|21.39052839|   437.2687402|            60|        652230|33.93911|67.709953|\n",
      "|Afghanistan|2010|                                   42.7|                               20|                                                8.27|                                      36500000|                                                           15.15|                               0.19|                             0|                             0.75|                              79.78723|                                          1182.892|                                                       2.46|                      7110.000134|                                    null|14.36244147|   543.3065262|            60|        652230|33.93911|67.709953|\n",
      "|Afghanistan|2011|                               43.22202|                             21.8|                                                8.13|                                      28690000|                                                           12.61|                               0.18|                             0|                              0.6|                              76.92309|                                         1436.1143|                                                       3.23|                      8930.000305|                                    null|0.426354785|   591.1900302|            60|        652230|33.93911|67.709953|\n",
      "|Afghanistan|2012|                                   69.1|                               23|                                                9.29|                                      62630000|                                                           15.36|                               0.14|                             0|                             0.74|                              84.09091|                                         1324.1211|                                                       2.61|                      8079.999924|                                    null|12.75228709|   638.8458516|            60|        652230|33.93911|67.709953|\n",
      "|Afghanistan|2013|                               68.29065|                             24.8|                                                 9.1|                                     268460000|                                                           16.86|                               0.22|                             0|                             0.89|                             80.180176|                                         1060.7926|                                                       2.46|                      5989.999771|                                    null|5.600744658|   624.3154545|            60|        652230|33.93911|67.709953|\n",
      "|Afghanistan|2014|                                   89.5|                             26.1|                                                8.95|                                       6940000|                                                           18.93|                               0.16|                             0|                                1|                               86.2069|                                          868.5762|                                                       2.25|                      4880.000114|                                    null|2.724543364|   614.2233424|            60|        652230|33.93911|67.709953|\n",
      "|Afghanistan|2015|                                   71.5|                             27.4|                                                8.79|                                       4890000|                                                           17.53|                               0.15|                             0|                             1.03|                              87.28814|                                          970.0803|                                                       2.37|                      5949.999809|                                    null| 1.45131466|   556.0072209|            60|        652230|33.93911|67.709953|\n",
      "|Afghanistan|2016|                                   97.7|                             28.6|                                                9.87|                                        860000|                                                           19.92|                               0.15|                             0|                             1.06|                             87.603294|                                         862.79114|                                                       2.24|                      5300.000191|                                    null|2.260314201|   512.0127781|            60|        652230|33.93911|67.709953|\n",
      "|Afghanistan|2017|                                   97.7|                             29.7|                                                9.79|                                      50330000|                                                           19.21|                               0.18|                             0|                             1.09|                             85.826775|                                         829.31195|                                                        2.3|                       4780.00021|                                    null|2.647003202|   516.6798622|            60|        652230|33.93911|67.709953|\n",
      "|Afghanistan|2018|                              96.616135|                             30.9|                                                9.55|                                      70100000|                                                           17.96|                                0.2|                             0|                             0.97|                              82.90598|                                         924.25085|                                                       2.44|                      6070.000172|                                    null|1.189228128|   485.6684187|            60|        652230|33.93911|67.709953|\n",
      "|Afghanistan|2019|                                   97.7|                             31.9|                                                9.58|                                       4620000|                                                           18.51|                               0.18|                             0|                             0.89|                              83.17757|                                         802.61255|                                                       2.41|                      6079.999924|                                    null|3.911603419|   494.1793499|            60|        652230|33.93911|67.709953|\n",
      "+-----------+----+---------------------------------------+---------------------------------+----------------------------------------------------+----------------------------------------------+----------------------------------------------------------------+-----------------------------------+------------------------------+---------------------------------+--------------------------------------+--------------------------------------------------+-----------------------------------------------------------+---------------------------------+----------------------------------------+-----------+--------------+--------------+--------------+--------+---------+\n",
      "only showing top 20 rows\n",
      "\n"
     ]
    },
    {
     "data": {
      "text/plain": [
       "['Entity',\n",
       " 'Year',\n",
       " 'Access to electricity (% of population)',\n",
       " 'Access to clean fuels for cooking',\n",
       " 'Renewable-electricity-generating-capacity-per-capita',\n",
       " 'Financial flows to developing countries (US $)',\n",
       " 'Renewable energy share in the total final energy consumption (%)',\n",
       " 'Electricity from fossil fuels (TWh)',\n",
       " 'Electricity from nuclear (TWh)',\n",
       " 'Electricity from renewables (TWh)',\n",
       " 'Low-carbon electricity (% electricity)',\n",
       " 'Primary energy consumption per capita (kWh/person)',\n",
       " 'Energy intensity level of primary energy (MJ/$2017 PPP GDP)',\n",
       " 'Value_co2_emissions_kt_by_country',\n",
       " 'Renewables (% equivalent primary energy)',\n",
       " 'gdp_growth',\n",
       " 'gdp_per_capita',\n",
       " 'Density(P/Km2)',\n",
       " 'Land Area(Km2)',\n",
       " 'Latitude',\n",
       " 'Longitude']"
      ]
     },
     "execution_count": 80,
     "metadata": {},
     "output_type": "execute_result"
    }
   ],
   "source": [
    "# The show method allows you visualise DataFrames. We can see that there are two columns. \n",
    "df.show()\n",
    "\n",
    "# You could also try this. \n",
    "df.columns"
   ]
  },
  {
   "cell_type": "code",
   "execution_count": 81,
   "id": "f97655fe",
   "metadata": {},
   "outputs": [
    {
     "name": "stdout",
     "output_type": "stream",
     "text": [
      "Number of rows: 3649\n",
      "Number of columns: 21\n"
     ]
    }
   ],
   "source": [
    "num_rows = df.count()\n",
    "print(f\"Number of rows: {num_rows}\")\n",
    "\n",
    "num_columns = len(df.columns)\n",
    "print(f\"Number of columns: {num_columns}\")"
   ]
  },
  {
   "cell_type": "code",
   "execution_count": 82,
   "id": "28940e6f",
   "metadata": {},
   "outputs": [
    {
     "name": "stdout",
     "output_type": "stream",
     "text": [
      "root\n",
      " |-- Entity: string (nullable = true)\n",
      " |-- Year: string (nullable = true)\n",
      " |-- Access to electricity (% of population): string (nullable = true)\n",
      " |-- Access to clean fuels for cooking: string (nullable = true)\n",
      " |-- Renewable-electricity-generating-capacity-per-capita: string (nullable = true)\n",
      " |-- Financial flows to developing countries (US $): string (nullable = true)\n",
      " |-- Renewable energy share in the total final energy consumption (%): string (nullable = true)\n",
      " |-- Electricity from fossil fuels (TWh): string (nullable = true)\n",
      " |-- Electricity from nuclear (TWh): string (nullable = true)\n",
      " |-- Electricity from renewables (TWh): string (nullable = true)\n",
      " |-- Low-carbon electricity (% electricity): string (nullable = true)\n",
      " |-- Primary energy consumption per capita (kWh/person): string (nullable = true)\n",
      " |-- Energy intensity level of primary energy (MJ/$2017 PPP GDP): string (nullable = true)\n",
      " |-- Value_co2_emissions_kt_by_country: string (nullable = true)\n",
      " |-- Renewables (% equivalent primary energy): string (nullable = true)\n",
      " |-- gdp_growth: string (nullable = true)\n",
      " |-- gdp_per_capita: string (nullable = true)\n",
      " |-- Density(P/Km2): string (nullable = true)\n",
      " |-- Land Area(Km2): string (nullable = true)\n",
      " |-- Latitude: string (nullable = true)\n",
      " |-- Longitude: string (nullable = true)\n",
      "\n"
     ]
    }
   ],
   "source": [
    "# For type, we can use print schema. \n",
    "# But wait! What if you want to change the format of the data? Maybe change age to an integer instead of long?\n",
    "df.printSchema()"
   ]
  },
  {
   "cell_type": "markdown",
   "id": "e4174af2",
   "metadata": {},
   "source": [
    "## Data Manipulation"
   ]
  },
  {
   "cell_type": "code",
   "execution_count": 83,
   "id": "c4d4ae36",
   "metadata": {},
   "outputs": [],
   "source": [
    "# Let's import in the relevant types.\n",
    "from pyspark.sql.types import (StructField,StringType,IntegerType,FloatType,StructType)"
   ]
  },
  {
   "cell_type": "code",
   "execution_count": 84,
   "id": "065b42d4",
   "metadata": {},
   "outputs": [],
   "source": [
    "# Then create a variable with the correct structure.\n",
    "data_schema = [StructField('Entity',StringType(),True),\n",
    "              StructField('Year',IntegerType(),True),\n",
    "               StructField('Access to electricity (% of population)',FloatType(),True),\n",
    "               StructField('Access to clean fuels for cooking',FloatType(),True),\n",
    "               StructField('Renewable-electricity-generating-capacity-per-capita',FloatType(),True),\n",
    "               StructField('Financial flows to developing countries (US $)',IntegerType(),True),\n",
    "               StructField('Renewable energy share in the total final energy consumption (%)',FloatType(),True),\n",
    "               StructField('Electricity from fossil fuels (TWh)',FloatType(),True),\n",
    "               StructField('Electricity from nuclear (TWh)',FloatType(),True),\n",
    "               StructField('Electricity from renewables (TWh)',FloatType(),True),\n",
    "               StructField('Low-carbon electricity (% electricity)',FloatType(),True),\n",
    "               StructField('Primary energy consumption per capita (kWh/person)',FloatType(),True),\n",
    "               StructField('Energy intensity level of primary energy (MJ/$2017 PPP GDP)',FloatType(),True),\n",
    "               StructField('Value_co2_emissions_kt_by_country',FloatType(),True),\n",
    "               StructField('Renewables (% equivalent primary energy)',FloatType(),True),\n",
    "               StructField('gdp_growth',FloatType(),True),\n",
    "               StructField('gdp_per_capita',FloatType(),True),\n",
    "               StructField('Density(P/Km2)',IntegerType(),True),\n",
    "               StructField('Land Area(Km2)',IntegerType(),True),\n",
    "               StructField('Latitude',FloatType(),True),\n",
    "               StructField('Longitude',FloatType(),True),\n",
    "              ]\n",
    "\n",
    "final_struct = StructType(fields=data_schema)"
   ]
  },
  {
   "cell_type": "code",
   "execution_count": 85,
   "id": "58c6609f",
   "metadata": {},
   "outputs": [
    {
     "name": "stdout",
     "output_type": "stream",
     "text": [
      "root\n",
      " |-- Entity: string (nullable = true)\n",
      " |-- Year: integer (nullable = true)\n",
      " |-- Access to electricity (% of population): float (nullable = true)\n",
      " |-- Access to clean fuels for cooking: float (nullable = true)\n",
      " |-- Renewable-electricity-generating-capacity-per-capita: float (nullable = true)\n",
      " |-- Financial flows to developing countries (US $): integer (nullable = true)\n",
      " |-- Renewable energy share in the total final energy consumption (%): float (nullable = true)\n",
      " |-- Electricity from fossil fuels (TWh): float (nullable = true)\n",
      " |-- Electricity from nuclear (TWh): float (nullable = true)\n",
      " |-- Electricity from renewables (TWh): float (nullable = true)\n",
      " |-- Low-carbon electricity (% electricity): float (nullable = true)\n",
      " |-- Primary energy consumption per capita (kWh/person): float (nullable = true)\n",
      " |-- Energy intensity level of primary energy (MJ/$2017 PPP GDP): float (nullable = true)\n",
      " |-- Value_co2_emissions_kt_by_country: float (nullable = true)\n",
      " |-- Renewables (% equivalent primary energy): float (nullable = true)\n",
      " |-- gdp_growth: float (nullable = true)\n",
      " |-- gdp_per_capita: float (nullable = true)\n",
      " |-- Density(P/Km2): integer (nullable = true)\n",
      " |-- Land Area(Km2): integer (nullable = true)\n",
      " |-- Latitude: float (nullable = true)\n",
      " |-- Longitude: float (nullable = true)\n",
      "\n"
     ]
    }
   ],
   "source": [
    "# And now we can read in the data using that schema. If we print the schema, we can see that age is now an integer. \n",
    "df = spark.read.option(\"header\", \"true\").csv('Datasets/global-data-on-sustainable-energy.csv', schema=final_struct)\n",
    "df.printSchema()"
   ]
  },
  {
   "cell_type": "code",
   "execution_count": 86,
   "id": "8608c816",
   "metadata": {
    "scrolled": true
   },
   "outputs": [
    {
     "name": "stderr",
     "output_type": "stream",
     "text": [
      "                                                                                \r"
     ]
    },
    {
     "data": {
      "text/html": [
       "<div>\n",
       "<style scoped>\n",
       "    .dataframe tbody tr th:only-of-type {\n",
       "        vertical-align: middle;\n",
       "    }\n",
       "\n",
       "    .dataframe tbody tr th {\n",
       "        vertical-align: top;\n",
       "    }\n",
       "\n",
       "    .dataframe thead th {\n",
       "        text-align: right;\n",
       "    }\n",
       "</style>\n",
       "<table border=\"1\" class=\"dataframe\">\n",
       "  <thead>\n",
       "    <tr style=\"text-align: right;\">\n",
       "      <th></th>\n",
       "      <th>0</th>\n",
       "      <th>1</th>\n",
       "      <th>2</th>\n",
       "      <th>3</th>\n",
       "      <th>4</th>\n",
       "    </tr>\n",
       "  </thead>\n",
       "  <tbody>\n",
       "    <tr>\n",
       "      <th>summary</th>\n",
       "      <td>count</td>\n",
       "      <td>mean</td>\n",
       "      <td>stddev</td>\n",
       "      <td>min</td>\n",
       "      <td>max</td>\n",
       "    </tr>\n",
       "    <tr>\n",
       "      <th>Entity</th>\n",
       "      <td>3649</td>\n",
       "      <td>None</td>\n",
       "      <td>None</td>\n",
       "      <td>Afghanistan</td>\n",
       "      <td>Zimbabwe</td>\n",
       "    </tr>\n",
       "    <tr>\n",
       "      <th>Year</th>\n",
       "      <td>3649</td>\n",
       "      <td>2010.0383666758016</td>\n",
       "      <td>6.054228365650764</td>\n",
       "      <td>2000</td>\n",
       "      <td>2020</td>\n",
       "    </tr>\n",
       "    <tr>\n",
       "      <th>Access to electricity (% of population)</th>\n",
       "      <td>3639</td>\n",
       "      <td>78.93370218462393</td>\n",
       "      <td>30.27554143208654</td>\n",
       "      <td>1.2522693</td>\n",
       "      <td>100.0</td>\n",
       "    </tr>\n",
       "    <tr>\n",
       "      <th>Access to clean fuels for cooking</th>\n",
       "      <td>3480</td>\n",
       "      <td>63.25528734745993</td>\n",
       "      <td>39.04365758993957</td>\n",
       "      <td>0.0</td>\n",
       "      <td>100.0</td>\n",
       "    </tr>\n",
       "    <tr>\n",
       "      <th>Renewable-electricity-generating-capacity-per-capita</th>\n",
       "      <td>2718</td>\n",
       "      <td>113.13749808244985</td>\n",
       "      <td>244.16725470613554</td>\n",
       "      <td>0.0</td>\n",
       "      <td>3060.19</td>\n",
       "    </tr>\n",
       "    <tr>\n",
       "      <th>Financial flows to developing countries (US $)</th>\n",
       "      <td>1555</td>\n",
       "      <td>8.284976205787781E7</td>\n",
       "      <td>2.135290375742725E8</td>\n",
       "      <td>0</td>\n",
       "      <td>2112780000</td>\n",
       "    </tr>\n",
       "    <tr>\n",
       "      <th>Renewable energy share in the total final energy consumption (%)</th>\n",
       "      <td>3455</td>\n",
       "      <td>32.6381649511784</td>\n",
       "      <td>29.894901331793534</td>\n",
       "      <td>0.0</td>\n",
       "      <td>96.04</td>\n",
       "    </tr>\n",
       "    <tr>\n",
       "      <th>Electricity from fossil fuels (TWh)</th>\n",
       "      <td>3628</td>\n",
       "      <td>70.3650024256478</td>\n",
       "      <td>348.0518635136442</td>\n",
       "      <td>0.0</td>\n",
       "      <td>5184.13</td>\n",
       "    </tr>\n",
       "    <tr>\n",
       "      <th>Electricity from nuclear (TWh)</th>\n",
       "      <td>3523</td>\n",
       "      <td>13.450190180841238</td>\n",
       "      <td>73.00662308995312</td>\n",
       "      <td>0.0</td>\n",
       "      <td>809.41</td>\n",
       "    </tr>\n",
       "    <tr>\n",
       "      <th>Electricity from renewables (TWh)</th>\n",
       "      <td>3628</td>\n",
       "      <td>23.968009911430844</td>\n",
       "      <td>104.43108457776746</td>\n",
       "      <td>0.0</td>\n",
       "      <td>2184.94</td>\n",
       "    </tr>\n",
       "    <tr>\n",
       "      <th>Low-carbon electricity (% electricity)</th>\n",
       "      <td>3607</td>\n",
       "      <td>36.80118187553024</td>\n",
       "      <td>34.31488419631294</td>\n",
       "      <td>0.0</td>\n",
       "      <td>100.00001</td>\n",
       "    </tr>\n",
       "    <tr>\n",
       "      <th>Primary energy consumption per capita (kWh/person)</th>\n",
       "      <td>3649</td>\n",
       "      <td>25743.981725758087</td>\n",
       "      <td>34773.22126385237</td>\n",
       "      <td>0.0</td>\n",
       "      <td>262585.7</td>\n",
       "    </tr>\n",
       "    <tr>\n",
       "      <th>Energy intensity level of primary energy (MJ/$2017 PPP GDP)</th>\n",
       "      <td>3442</td>\n",
       "      <td>5.307345060788567</td>\n",
       "      <td>3.532020074695855</td>\n",
       "      <td>0.11</td>\n",
       "      <td>32.57</td>\n",
       "    </tr>\n",
       "    <tr>\n",
       "      <th>Value_co2_emissions_kt_by_country</th>\n",
       "      <td>3221</td>\n",
       "      <td>159866.462824881</td>\n",
       "      <td>773661.0665638457</td>\n",
       "      <td>10.0</td>\n",
       "      <td>1.070722E7</td>\n",
       "    </tr>\n",
       "    <tr>\n",
       "      <th>Renewables (% equivalent primary energy)</th>\n",
       "      <td>1512</td>\n",
       "      <td>11.986706834179627</td>\n",
       "      <td>14.99464421647629</td>\n",
       "      <td>0.0</td>\n",
       "      <td>86.836586</td>\n",
       "    </tr>\n",
       "    <tr>\n",
       "      <th>gdp_growth</th>\n",
       "      <td>3332</td>\n",
       "      <td>3.441610053690284</td>\n",
       "      <td>5.686720163271315</td>\n",
       "      <td>-62.07592</td>\n",
       "      <td>123.13956</td>\n",
       "    </tr>\n",
       "    <tr>\n",
       "      <th>gdp_per_capita</th>\n",
       "      <td>3367</td>\n",
       "      <td>13283.77433636141</td>\n",
       "      <td>19709.866681800508</td>\n",
       "      <td>111.92722</td>\n",
       "      <td>123514.195</td>\n",
       "    </tr>\n",
       "    <tr>\n",
       "      <th>Density(P/Km2)</th>\n",
       "      <td>3543</td>\n",
       "      <td>141.03048264182897</td>\n",
       "      <td>169.2210812480414</td>\n",
       "      <td>2</td>\n",
       "      <td>1281</td>\n",
       "    </tr>\n",
       "    <tr>\n",
       "      <th>Land Area(Km2)</th>\n",
       "      <td>3648</td>\n",
       "      <td>633213.4893092106</td>\n",
       "      <td>1585519.2164607828</td>\n",
       "      <td>21</td>\n",
       "      <td>9984670</td>\n",
       "    </tr>\n",
       "    <tr>\n",
       "      <th>Latitude</th>\n",
       "      <td>3648</td>\n",
       "      <td>18.246387781768327</td>\n",
       "      <td>24.159231733294813</td>\n",
       "      <td>-40.90056</td>\n",
       "      <td>64.96305</td>\n",
       "    </tr>\n",
       "    <tr>\n",
       "      <th>Longitude</th>\n",
       "      <td>3648</td>\n",
       "      <td>14.822694496888863</td>\n",
       "      <td>66.3481477178707</td>\n",
       "      <td>-175.19824</td>\n",
       "      <td>178.06503</td>\n",
       "    </tr>\n",
       "  </tbody>\n",
       "</table>\n",
       "</div>"
      ],
      "text/plain": [
       "                                                        0  \\\n",
       "summary                                             count   \n",
       "Entity                                               3649   \n",
       "Year                                                 3649   \n",
       "Access to electricity (% of population)              3639   \n",
       "Access to clean fuels for cooking                    3480   \n",
       "Renewable-electricity-generating-capacity-per-c...   2718   \n",
       "Financial flows to developing countries (US $)       1555   \n",
       "Renewable energy share in the total final energ...   3455   \n",
       "Electricity from fossil fuels (TWh)                  3628   \n",
       "Electricity from nuclear (TWh)                       3523   \n",
       "Electricity from renewables (TWh)                    3628   \n",
       "Low-carbon electricity (% electricity)               3607   \n",
       "Primary energy consumption per capita (kWh/person)   3649   \n",
       "Energy intensity level of primary energy (MJ/$2...   3442   \n",
       "Value_co2_emissions_kt_by_country                    3221   \n",
       "Renewables (% equivalent primary energy)             1512   \n",
       "gdp_growth                                           3332   \n",
       "gdp_per_capita                                       3367   \n",
       "Density(P/Km2)                                       3543   \n",
       "Land Area(Km2)                                       3648   \n",
       "Latitude                                             3648   \n",
       "Longitude                                            3648   \n",
       "\n",
       "                                                                      1  \\\n",
       "summary                                                            mean   \n",
       "Entity                                                             None   \n",
       "Year                                                 2010.0383666758016   \n",
       "Access to electricity (% of population)               78.93370218462393   \n",
       "Access to clean fuels for cooking                     63.25528734745993   \n",
       "Renewable-electricity-generating-capacity-per-c...   113.13749808244985   \n",
       "Financial flows to developing countries (US $)      8.284976205787781E7   \n",
       "Renewable energy share in the total final energ...     32.6381649511784   \n",
       "Electricity from fossil fuels (TWh)                    70.3650024256478   \n",
       "Electricity from nuclear (TWh)                       13.450190180841238   \n",
       "Electricity from renewables (TWh)                    23.968009911430844   \n",
       "Low-carbon electricity (% electricity)                36.80118187553024   \n",
       "Primary energy consumption per capita (kWh/person)   25743.981725758087   \n",
       "Energy intensity level of primary energy (MJ/$2...    5.307345060788567   \n",
       "Value_co2_emissions_kt_by_country                      159866.462824881   \n",
       "Renewables (% equivalent primary energy)             11.986706834179627   \n",
       "gdp_growth                                            3.441610053690284   \n",
       "gdp_per_capita                                        13283.77433636141   \n",
       "Density(P/Km2)                                       141.03048264182897   \n",
       "Land Area(Km2)                                        633213.4893092106   \n",
       "Latitude                                             18.246387781768327   \n",
       "Longitude                                            14.822694496888863   \n",
       "\n",
       "                                                                      2  \\\n",
       "summary                                                          stddev   \n",
       "Entity                                                             None   \n",
       "Year                                                  6.054228365650764   \n",
       "Access to electricity (% of population)               30.27554143208654   \n",
       "Access to clean fuels for cooking                     39.04365758993957   \n",
       "Renewable-electricity-generating-capacity-per-c...   244.16725470613554   \n",
       "Financial flows to developing countries (US $)      2.135290375742725E8   \n",
       "Renewable energy share in the total final energ...   29.894901331793534   \n",
       "Electricity from fossil fuels (TWh)                   348.0518635136442   \n",
       "Electricity from nuclear (TWh)                        73.00662308995312   \n",
       "Electricity from renewables (TWh)                    104.43108457776746   \n",
       "Low-carbon electricity (% electricity)                34.31488419631294   \n",
       "Primary energy consumption per capita (kWh/person)    34773.22126385237   \n",
       "Energy intensity level of primary energy (MJ/$2...    3.532020074695855   \n",
       "Value_co2_emissions_kt_by_country                     773661.0665638457   \n",
       "Renewables (% equivalent primary energy)              14.99464421647629   \n",
       "gdp_growth                                            5.686720163271315   \n",
       "gdp_per_capita                                       19709.866681800508   \n",
       "Density(P/Km2)                                        169.2210812480414   \n",
       "Land Area(Km2)                                       1585519.2164607828   \n",
       "Latitude                                             24.159231733294813   \n",
       "Longitude                                              66.3481477178707   \n",
       "\n",
       "                                                              3           4  \n",
       "summary                                                     min         max  \n",
       "Entity                                              Afghanistan    Zimbabwe  \n",
       "Year                                                       2000        2020  \n",
       "Access to electricity (% of population)               1.2522693       100.0  \n",
       "Access to clean fuels for cooking                           0.0       100.0  \n",
       "Renewable-electricity-generating-capacity-per-c...          0.0     3060.19  \n",
       "Financial flows to developing countries (US $)                0  2112780000  \n",
       "Renewable energy share in the total final energ...          0.0       96.04  \n",
       "Electricity from fossil fuels (TWh)                         0.0     5184.13  \n",
       "Electricity from nuclear (TWh)                              0.0      809.41  \n",
       "Electricity from renewables (TWh)                           0.0     2184.94  \n",
       "Low-carbon electricity (% electricity)                      0.0   100.00001  \n",
       "Primary energy consumption per capita (kWh/person)          0.0    262585.7  \n",
       "Energy intensity level of primary energy (MJ/$2...         0.11       32.57  \n",
       "Value_co2_emissions_kt_by_country                          10.0  1.070722E7  \n",
       "Renewables (% equivalent primary energy)                    0.0   86.836586  \n",
       "gdp_growth                                            -62.07592   123.13956  \n",
       "gdp_per_capita                                        111.92722  123514.195  \n",
       "Density(P/Km2)                                                2        1281  \n",
       "Land Area(Km2)                                               21     9984670  \n",
       "Latitude                                              -40.90056    64.96305  \n",
       "Longitude                                            -175.19824   178.06503  "
      ]
     },
     "metadata": {},
     "output_type": "display_data"
    }
   ],
   "source": [
    "# We can use the describe method get some general statistics on our data too. Remember to show the DataFrame!\n",
    "# But what about data type?\n",
    "# df.describe().show()\n",
    "\n",
    "stats_df = df.describe()\n",
    "# Convert Spark DataFrame to Pandas DataFrame\n",
    "stats_pd = stats_df.toPandas()\n",
    "\n",
    "# Transpose the Pandas DataFrame\n",
    "transposed_stats_pd = stats_pd.transpose()\n",
    "\n",
    "from IPython.display import display\n",
    "\n",
    "# Display the transposed DataFrame\n",
    "display(transposed_stats_pd)\n"
   ]
  },
  {
   "cell_type": "code",
   "execution_count": 87,
   "id": "92b5af1b",
   "metadata": {},
   "outputs": [
    {
     "name": "stdout",
     "output_type": "stream",
     "text": [
      "Number of unique countries in dataset 'Entity': 176\n"
     ]
    }
   ],
   "source": [
    "# Count unique values for a specific column\n",
    "column_name = \"Entity\"\n",
    "unique_count = df.select(column_name).distinct().count()\n",
    "print(f\"Number of unique countries in dataset '{column_name}': {unique_count}\")"
   ]
  },
  {
   "cell_type": "code",
   "execution_count": 88,
   "id": "4bdd9f1e",
   "metadata": {},
   "outputs": [
    {
     "name": "stdout",
     "output_type": "stream",
     "text": [
      "+-----------+----+----+--------------------+\n",
      "|     Entity|Code|Year|Annual CO₂ emissions|\n",
      "+-----------+----+----+--------------------+\n",
      "|Afghanistan| AFG|1949|               14656|\n",
      "|Afghanistan| AFG|1950|               84272|\n",
      "|Afghanistan| AFG|1951|               91600|\n",
      "|Afghanistan| AFG|1952|               91600|\n",
      "|Afghanistan| AFG|1953|              106256|\n",
      "|Afghanistan| AFG|1954|              106256|\n",
      "|Afghanistan| AFG|1955|              153888|\n",
      "|Afghanistan| AFG|1956|              183200|\n",
      "|Afghanistan| AFG|1957|              293120|\n",
      "|Afghanistan| AFG|1958|              329760|\n",
      "|Afghanistan| AFG|1959|              384571|\n",
      "|Afghanistan| AFG|1960|              413885|\n",
      "|Afghanistan| AFG|1961|              490798|\n",
      "|Afghanistan| AFG|1962|              688594|\n",
      "|Afghanistan| AFG|1963|              706736|\n",
      "|Afghanistan| AFG|1964|              838551|\n",
      "|Afghanistan| AFG|1965|             1006917|\n",
      "|Afghanistan| AFG|1966|             1091159|\n",
      "|Afghanistan| AFG|1967|             1281865|\n",
      "|Afghanistan| AFG|1968|             1223391|\n",
      "+-----------+----+----+--------------------+\n",
      "only showing top 20 rows\n",
      "\n"
     ]
    },
    {
     "data": {
      "text/plain": [
       "['Entity', 'Code', 'Year', 'Annual CO₂ emissions']"
      ]
     },
     "execution_count": 88,
     "metadata": {},
     "output_type": "execute_result"
    }
   ],
   "source": [
    "# The show method allows you visualise DataFrames. We can see that there are two columns. \n",
    "df2.show()\n",
    "\n",
    "# You could also try this. \n",
    "df2.columns"
   ]
  },
  {
   "cell_type": "code",
   "execution_count": 89,
   "id": "6028e6ea",
   "metadata": {},
   "outputs": [
    {
     "name": "stdout",
     "output_type": "stream",
     "text": [
      "Number of rows: 30308\n",
      "Number of columns: 4\n"
     ]
    }
   ],
   "source": [
    "num_rows = df2.count()\n",
    "print(f\"Number of rows: {num_rows}\")\n",
    "\n",
    "num_columns = len(df2.columns)\n",
    "print(f\"Number of columns: {num_columns}\")"
   ]
  },
  {
   "cell_type": "code",
   "execution_count": 90,
   "id": "bd55f5da",
   "metadata": {},
   "outputs": [
    {
     "name": "stdout",
     "output_type": "stream",
     "text": [
      "root\n",
      " |-- Entity: string (nullable = true)\n",
      " |-- Code: string (nullable = true)\n",
      " |-- Year: string (nullable = true)\n",
      " |-- Annual CO₂ emissions: string (nullable = true)\n",
      "\n"
     ]
    }
   ],
   "source": [
    "# For type, we can use print schema. \n",
    "# But wait! What if you want to change the format of the data? Maybe change age to an integer instead of long?\n",
    "df2.printSchema()"
   ]
  },
  {
   "cell_type": "markdown",
   "id": "a8346e75",
   "metadata": {},
   "source": [
    "## Data Manipulation"
   ]
  },
  {
   "cell_type": "code",
   "execution_count": 91,
   "id": "595a3be3",
   "metadata": {},
   "outputs": [],
   "source": [
    "# Then create a variable with the correct structure.\n",
    "data2_schema = [StructField('Entity',StringType(),True),\n",
    "               StructField('Code',StringType(),True),\n",
    "                StructField('Year',IntegerType(),True),\n",
    "               StructField('Annual CO₂ emissions',FloatType(),True)\n",
    "              ]\n",
    "\n",
    "final2_struct = StructType(fields=data2_schema)"
   ]
  },
  {
   "cell_type": "code",
   "execution_count": 92,
   "id": "8cf6206a",
   "metadata": {},
   "outputs": [
    {
     "name": "stdout",
     "output_type": "stream",
     "text": [
      "root\n",
      " |-- Entity: string (nullable = true)\n",
      " |-- Code: string (nullable = true)\n",
      " |-- Year: integer (nullable = true)\n",
      " |-- Annual CO₂ emissions: float (nullable = true)\n",
      "\n"
     ]
    }
   ],
   "source": [
    "# And now we can read in the data using that schema. If we print the schema, we can see that age is now an integer. \n",
    "df2 = spark.read.option(\"header\", \"true\").csv('Datasets/annual-co2-emissions-per-country.csv', schema=final2_struct)\n",
    "df2.printSchema()"
   ]
  },
  {
   "cell_type": "code",
   "execution_count": 93,
   "id": "3005c84d",
   "metadata": {
    "scrolled": true
   },
   "outputs": [
    {
     "name": "stderr",
     "output_type": "stream",
     "text": [
      "\r",
      "[Stage 19:>                                                         (0 + 1) / 1]\r"
     ]
    },
    {
     "name": "stdout",
     "output_type": "stream",
     "text": [
      "+-------+-----------+-----+------------------+--------------------+\n",
      "|summary|     Entity| Code|              Year|Annual CO₂ emissions|\n",
      "+-------+-----------+-----+------------------+--------------------+\n",
      "|  count|      30308|24157|             30308|               30308|\n",
      "|   mean|       null| null|1940.1913356209582|3.9127215594534516E8|\n",
      "| stddev|       null| null| 65.51023156216606|1.8558246627678738E9|\n",
      "|    min|Afghanistan|  ABW|              1750|                 0.0|\n",
      "|    max|   Zimbabwe|  ZWE|              2022|        3.7149786E10|\n",
      "+-------+-----------+-----+------------------+--------------------+\n",
      "\n"
     ]
    },
    {
     "name": "stderr",
     "output_type": "stream",
     "text": [
      "\r",
      "                                                                                \r"
     ]
    }
   ],
   "source": [
    "# We can use the describe method get some general statistics on our data too. Remember to show the DataFrame!\n",
    "# But what about data type?\n",
    "df2.describe().show()"
   ]
  },
  {
   "cell_type": "markdown",
   "id": "1443b0e5",
   "metadata": {},
   "source": [
    "## 2.3 Data Exploration"
   ]
  },
  {
   "cell_type": "code",
   "execution_count": 94,
   "id": "95bcc3d5",
   "metadata": {},
   "outputs": [],
   "source": [
    "from pyspark.sql.functions import col, avg\n",
    "import matplotlib.pyplot as plt\n",
    "import seaborn as sns"
   ]
  },
  {
   "cell_type": "code",
   "execution_count": 95,
   "id": "2030823c",
   "metadata": {},
   "outputs": [],
   "source": [
    "# Group by country and calculate the mean CO2 emissions\n",
    "mean_co2_df = df.groupBy(\"Entity\").agg(avg(col(\"Value_co2_emissions_kt_by_country\")).alias(\"Mean_CO2_Emissions\"))\n",
    "\n",
    "# Convert to Pandas DataFrame for plotting\n",
    "mean_co2_pd = mean_co2_df.toPandas()\n"
   ]
  },
  {
   "cell_type": "code",
   "execution_count": 96,
   "id": "5532b737",
   "metadata": {},
   "outputs": [
    {
     "data": {
      "image/png": "[encoded data removed]",
      "text/plain": [
       "<Figure size 720x432 with 1 Axes>"
      ]
     },
     "metadata": {
      "needs_background": "light"
     },
     "output_type": "display_data"
    }
   ],
   "source": [
    "# Plot the distribution of mean CO2 emissions\n",
    "plt.figure(figsize=(10, 6))\n",
    "sns.histplot(mean_co2_pd[\"Mean_CO2_Emissions\"], bins=30, kde=True)\n",
    "plt.title(\"Distribution of Mean CO2 Emissions by Country\")\n",
    "plt.xlabel(\"Mean CO2 Emissions\")\n",
    "plt.ylabel(\"Frequency\")\n",
    "plt.show()"
   ]
  },
  {
   "cell_type": "code",
   "execution_count": 97,
   "id": "3254e670",
   "metadata": {},
   "outputs": [
    {
     "data": {
      "image/png": "[encoded data removed]",
      "text/plain": [
       "<Figure size 1008x576 with 1 Axes>"
      ]
     },
     "metadata": {
      "needs_background": "light"
     },
     "output_type": "display_data"
    }
   ],
   "source": [
    "mean_co2_pd_sorted = mean_co2_pd.sort_values(by=\"Mean_CO2_Emissions\", ascending=False)\n",
    "\n",
    "# Select only the top 20 countries\n",
    "top_20_countries = mean_co2_pd_sorted.head(20)\n",
    "\n",
    "# Plot the distribution of the top 20 countries\n",
    "plt.figure(figsize=(14, 8))\n",
    "sns.barplot(x=\"Mean_CO2_Emissions\", y=\"Entity\", data=top_20_countries, palette=\"viridis\")\n",
    "plt.title(\"Top 20 Countries by Mean CO2 Emissions\")\n",
    "plt.xlabel(\"Mean CO2 Emissions (kt)\")\n",
    "plt.ylabel(\"Country\")\n",
    "plt.tight_layout()\n",
    "plt.show()"
   ]
  },
  {
   "cell_type": "code",
   "execution_count": 98,
   "id": "706d5a68",
   "metadata": {},
   "outputs": [
    {
     "name": "stderr",
     "output_type": "stream",
     "text": [
      "\r",
      "[Stage 43:>                                                         (0 + 2) / 2]\r"
     ]
    },
    {
     "name": "stdout",
     "output_type": "stream",
     "text": [
      "+----------------------------------------------------------------+--------------------+--------------------+\n",
      "|Column                                                          |Correlation         |Absolute Correlation|\n",
      "+----------------------------------------------------------------+--------------------+--------------------+\n",
      "|Electricity from fossil fuels (TWh)                             |0.9481763559733735  |0.9481763559733735  |\n",
      "|Electricity from renewables (TWh)                               |0.7854913009453646  |0.7854913009453646  |\n",
      "|Land Area(Km2)                                                  |0.6341015263961219  |0.6341015263961219  |\n",
      "|Electricity from nuclear (TWh)                                  |0.5830326881392291  |0.5830326881392291  |\n",
      "|Financial flows to developing countries (US $)                  |0.1440719377265664  |0.1440719377265664  |\n",
      "|Access to electricity (% of population)                         |0.1160704499100412  |0.1160704499100412  |\n",
      "|Latitude                                                        |0.10867674520924825 |0.10867674520924825 |\n",
      "|Renewable energy share in the total final energy consumption (%)|-0.10544598502751   |0.10544598502751    |\n",
      "|gdp_per_capita                                                  |0.09779686737746876 |0.09779686737746876 |\n",
      "|Primary energy consumption per capita (kWh/person)              |0.09651277488123992 |0.09651277488123992 |\n",
      "|Access to clean fuels for cooking                               |0.0929057495878574  |0.0929057495878574  |\n",
      "|Energy intensity level of primary energy (MJ/$2017 PPP GDP)     |0.06018034582167702 |0.06018034582167702 |\n",
      "|Renewables (% equivalent primary energy)                        |0.05492943194973739 |0.05492943194973739 |\n",
      "|gdp_growth                                                      |0.05259771065157203 |0.05259771065157203 |\n",
      "|Low-carbon electricity (% electricity)                          |-0.04376536581927441|0.04376536581927441 |\n",
      "|Longitude                                                       |0.03956492497111163 |0.03956492497111163 |\n",
      "|Renewable-electricity-generating-capacity-per-capita            |0.013695500549180499|0.013695500549180499|\n",
      "|Density(P/Km2)                                                  |0.009231670215956238|0.009231670215956238|\n",
      "+----------------------------------------------------------------+--------------------+--------------------+\n",
      "\n"
     ]
    },
    {
     "name": "stderr",
     "output_type": "stream",
     "text": [
      "\r",
      "                                                                                \r"
     ]
    }
   ],
   "source": [
    "# Compute correlations for all columns of interest\n",
    "correlations = []\n",
    "columns_of_interest = [\n",
    "    \"Electricity from fossil fuels (TWh)\",\n",
    "    \"Density(P/Km2)\",\n",
    "    \"Access to electricity (% of population)\",\n",
    "    \"Access to clean fuels for cooking\",\n",
    "    \"Renewable-electricity-generating-capacity-per-capita\",\n",
    "    \"Financial flows to developing countries (US $)\",\n",
    "    \"Renewable energy share in the total final energy consumption (%)\",\n",
    "    \"Electricity from nuclear (TWh)\",\n",
    "    \"Electricity from renewables (TWh)\",\n",
    "    \"Low-carbon electricity (% electricity)\",\n",
    "    \"Primary energy consumption per capita (kWh/person)\",\n",
    "    \"Energy intensity level of primary energy (MJ/$2017 PPP GDP)\",\n",
    "    \"gdp_growth\",\n",
    "    \"Renewables (% equivalent primary energy)\",\n",
    "    \"gdp_per_capita\",\n",
    "    \"Land Area(Km2)\",\n",
    "    \"Latitude\",\n",
    "    \"Longitude\"\n",
    "]\n",
    "\n",
    "for column in columns_of_interest:\n",
    "    correlation = df.corr(\"Value_co2_emissions_kt_by_country\", column)\n",
    "    correlations.append((column, correlation))\n",
    "\n",
    "# Create a DataFrame or RDD with correlation values and corresponding column names\n",
    "correlation_df = spark.createDataFrame(correlations, [\"Column\", \"Correlation\"])\n",
    "\n",
    "# Sort the DataFrame by correlation values in descending order\n",
    "sorted_correlation_df = correlation_df.orderBy(col(\"Correlation\").desc())\n",
    "\n",
    "from pyspark.sql.functions import abs\n",
    "\n",
    "# Apply the abs() function to the Correlation column to create Absolute Correlation column\n",
    "correlation_df = correlation_df.withColumn(\"Absolute Correlation\", abs(col(\"Correlation\")))\n",
    "\n",
    "# Sort the DataFrame by absolute correlation values in descending order\n",
    "sorted_abs_correlation_df = correlation_df.orderBy(\"Absolute Correlation\", ascending=False)\n",
    "\n",
    "# Set the maximum column width to a larger value\n",
    "spark.conf.set(\"spark.sql.repl.eagerEval.maxNumRows\", 100)\n",
    "spark.conf.set(\"spark.sql.repl.eagerEval.maxNumCols\", 100)\n",
    "\n",
    "# Display the sorted table\n",
    "sorted_abs_correlation_df.show(truncate=False)"
   ]
  },
  {
   "cell_type": "markdown",
   "id": "48d98df0",
   "metadata": {},
   "source": [
    "# 3. Data Exploration"
   ]
  },
  {
   "cell_type": "markdown",
   "id": "fe075533",
   "metadata": {},
   "source": [
    "## 3.1 Data Selection"
   ]
  },
  {
   "cell_type": "code",
   "execution_count": 99,
   "id": "69c71da0",
   "metadata": {},
   "outputs": [
    {
     "name": "stdout",
     "output_type": "stream",
     "text": [
      "+-----------+----+---------------------------------------+----------------------------------------------+----------------------------------------------------------------+-----------------------------------+------------------------------+---------------------------------+--------------------------------------------------+---------------------------------+----------+--------------+--------------+--------------+\n",
      "|Entity     |Year|Access to electricity (% of population)|Financial flows to developing countries (US $)|Renewable energy share in the total final energy consumption (%)|Electricity from fossil fuels (TWh)|Electricity from nuclear (TWh)|Electricity from renewables (TWh)|Primary energy consumption per capita (kWh/person)|Value_co2_emissions_kt_by_country|gdp_growth|gdp_per_capita|Density(P/Km2)|Land Area(Km2)|\n",
      "+-----------+----+---------------------------------------+----------------------------------------------+----------------------------------------------------------------+-----------------------------------+------------------------------+---------------------------------+--------------------------------------------------+---------------------------------+----------+--------------+--------------+--------------+\n",
      "|Afghanistan|2000|1.613591                               |20000                                         |44.99                                                           |0.16                               |0.0                           |0.31                             |302.59482                                         |760.0                            |null      |null          |60            |652230        |\n",
      "|Afghanistan|2001|4.074574                               |130000                                        |45.6                                                            |0.09                               |0.0                           |0.5                              |236.89185                                         |730.0                            |null      |null          |60            |652230        |\n",
      "|Afghanistan|2002|9.409158                               |3950000                                       |37.83                                                           |0.13                               |0.0                           |0.56                             |210.86215                                         |1030.0                           |null      |179.42657     |60            |652230        |\n",
      "|Afghanistan|2003|14.738506                              |25970000                                      |36.66                                                           |0.31                               |0.0                           |0.63                             |229.96822                                         |1220.0                           |8.832278  |190.6838      |60            |652230        |\n",
      "|Afghanistan|2004|20.064968                              |null                                          |44.24                                                           |0.33                               |0.0                           |0.56                             |204.23125                                         |1030.0                           |1.4141179 |211.38208     |60            |652230        |\n",
      "|Afghanistan|2005|25.390894                              |9830000                                       |33.88                                                           |0.34                               |0.0                           |0.59                             |252.06912                                         |1550.0                           |11.229714 |242.03131     |60            |652230        |\n",
      "|Afghanistan|2006|30.71869                               |10620000                                      |31.89                                                           |0.2                                |0.0                           |0.64                             |304.4209                                          |1760.0                           |5.3574033 |263.7336      |60            |652230        |\n",
      "|Afghanistan|2007|36.05101                               |15750000                                      |28.78                                                           |0.2                                |0.0                           |0.75                             |354.2799                                          |1770.0                           |13.82632  |359.69315     |60            |652230        |\n",
      "|Afghanistan|2008|42.4                                   |16170000                                      |21.17                                                           |0.19                               |0.0                           |0.54                             |607.8335                                          |3560.0                           |3.9249837 |364.66354     |60            |652230        |\n",
      "|Afghanistan|2009|46.74005                               |9960000                                       |16.53                                                           |0.16                               |0.0                           |0.78                             |975.04816                                         |4880.0                           |21.390528 |437.26874     |60            |652230        |\n",
      "|Afghanistan|2010|42.7                                   |36500000                                      |15.15                                                           |0.19                               |0.0                           |0.75                             |1182.892                                          |7110.0                           |14.362441 |543.3065      |60            |652230        |\n",
      "|Afghanistan|2011|43.22202                               |28690000                                      |12.61                                                           |0.18                               |0.0                           |0.6                              |1436.1143                                         |8930.0                           |0.4263548 |591.19        |60            |652230        |\n",
      "|Afghanistan|2012|69.1                                   |62630000                                      |15.36                                                           |0.14                               |0.0                           |0.74                             |1324.1211                                         |8080.0                           |12.752287 |638.8458      |60            |652230        |\n",
      "|Afghanistan|2013|68.29065                               |268460000                                     |16.86                                                           |0.22                               |0.0                           |0.89                             |1060.7926                                         |5990.0                           |5.6007447 |624.3154      |60            |652230        |\n",
      "|Afghanistan|2014|89.5                                   |6940000                                       |18.93                                                           |0.16                               |0.0                           |1.0                              |868.5762                                          |4880.0                           |2.7245433 |614.2233      |60            |652230        |\n",
      "|Afghanistan|2015|71.5                                   |4890000                                       |17.53                                                           |0.15                               |0.0                           |1.03                             |970.0803                                          |5950.0                           |1.4513147 |556.0072      |60            |652230        |\n",
      "|Afghanistan|2016|97.7                                   |860000                                        |19.92                                                           |0.15                               |0.0                           |1.06                             |862.79114                                         |5300.0                           |2.2603142 |512.01276     |60            |652230        |\n",
      "|Afghanistan|2017|97.7                                   |50330000                                      |19.21                                                           |0.18                               |0.0                           |1.09                             |829.31195                                         |4780.0                           |2.6470032 |516.6799      |60            |652230        |\n",
      "|Afghanistan|2018|96.616135                              |70100000                                      |17.96                                                           |0.2                                |0.0                           |0.97                             |924.25085                                         |6070.0                           |1.1892282 |485.66843     |60            |652230        |\n",
      "|Afghanistan|2019|97.7                                   |4620000                                       |18.51                                                           |0.18                               |0.0                           |0.89                             |802.61255                                         |6080.0                           |3.9116035 |494.17935     |60            |652230        |\n",
      "+-----------+----+---------------------------------------+----------------------------------------------+----------------------------------------------------------------+-----------------------------------+------------------------------+---------------------------------+--------------------------------------------------+---------------------------------+----------+--------------+--------------+--------------+\n",
      "only showing top 20 rows\n",
      "\n"
     ]
    }
   ],
   "source": [
    "columns_to_drop = [\n",
    "    \"Access to clean fuels for cooking\",\n",
    "    \"Energy intensity level of primary energy (MJ/$2017 PPP GDP)\",\n",
    "    \"Renewables (% equivalent primary energy)\",\n",
    "    \"Low-carbon electricity (% electricity)\",\n",
    "    \"Energy intensity level of primary energy\",\n",
    "    \"Renewable-electricity-generating-capacity-per-capita\",\n",
    "    \"Longitude\",\n",
    "    \"Latitude\"\n",
    "]\n",
    "\n",
    "df_new1 = df.drop(*columns_to_drop)\n",
    "df_new1.show(truncate=False)"
   ]
  },
  {
   "cell_type": "code",
   "execution_count": 100,
   "id": "0d3ad57e",
   "metadata": {},
   "outputs": [
    {
     "name": "stdout",
     "output_type": "stream",
     "text": [
      "Number of columns: 14\n"
     ]
    }
   ],
   "source": [
    "num_columns = len(df_new1.columns)\n",
    "print(f\"Number of columns: {num_columns}\")"
   ]
  },
  {
   "cell_type": "code",
   "execution_count": 101,
   "id": "8866578f",
   "metadata": {},
   "outputs": [
    {
     "name": "stdout",
     "output_type": "stream",
     "text": [
      "+-----------+----+---------------------------------------+----------------------------------------------+----------------------------------------------------------------+-----------------------------------+------------------------------+---------------------------------+--------------------------------------------------+---------------------------------+----------+--------------+--------------+--------------+\n",
      "|Countries  |Year|Access to electricity (% of population)|Financial flows to developing countries (US $)|Renewable energy share in the total final energy consumption (%)|Electricity from fossil fuels (TWh)|Electricity from nuclear (TWh)|Electricity from renewables (TWh)|Primary energy consumption per capita (kWh/person)|Value_co2_emissions_kt_by_country|gdp_growth|gdp_per_capita|Density(P/Km2)|Land Area(Km2)|\n",
      "+-----------+----+---------------------------------------+----------------------------------------------+----------------------------------------------------------------+-----------------------------------+------------------------------+---------------------------------+--------------------------------------------------+---------------------------------+----------+--------------+--------------+--------------+\n",
      "|Afghanistan|2000|1.613591                               |20000                                         |44.99                                                           |0.16                               |0.0                           |0.31                             |302.59482                                         |760.0                            |null      |null          |60            |652230        |\n",
      "|Afghanistan|2001|4.074574                               |130000                                        |45.6                                                            |0.09                               |0.0                           |0.5                              |236.89185                                         |730.0                            |null      |null          |60            |652230        |\n",
      "|Afghanistan|2002|9.409158                               |3950000                                       |37.83                                                           |0.13                               |0.0                           |0.56                             |210.86215                                         |1030.0                           |null      |179.42657     |60            |652230        |\n",
      "|Afghanistan|2003|14.738506                              |25970000                                      |36.66                                                           |0.31                               |0.0                           |0.63                             |229.96822                                         |1220.0                           |8.832278  |190.6838      |60            |652230        |\n",
      "|Afghanistan|2004|20.064968                              |null                                          |44.24                                                           |0.33                               |0.0                           |0.56                             |204.23125                                         |1030.0                           |1.4141179 |211.38208     |60            |652230        |\n",
      "|Afghanistan|2005|25.390894                              |9830000                                       |33.88                                                           |0.34                               |0.0                           |0.59                             |252.06912                                         |1550.0                           |11.229714 |242.03131     |60            |652230        |\n",
      "|Afghanistan|2006|30.71869                               |10620000                                      |31.89                                                           |0.2                                |0.0                           |0.64                             |304.4209                                          |1760.0                           |5.3574033 |263.7336      |60            |652230        |\n",
      "|Afghanistan|2007|36.05101                               |15750000                                      |28.78                                                           |0.2                                |0.0                           |0.75                             |354.2799                                          |1770.0                           |13.82632  |359.69315     |60            |652230        |\n",
      "|Afghanistan|2008|42.4                                   |16170000                                      |21.17                                                           |0.19                               |0.0                           |0.54                             |607.8335                                          |3560.0                           |3.9249837 |364.66354     |60            |652230        |\n",
      "|Afghanistan|2009|46.74005                               |9960000                                       |16.53                                                           |0.16                               |0.0                           |0.78                             |975.04816                                         |4880.0                           |21.390528 |437.26874     |60            |652230        |\n",
      "|Afghanistan|2010|42.7                                   |36500000                                      |15.15                                                           |0.19                               |0.0                           |0.75                             |1182.892                                          |7110.0                           |14.362441 |543.3065      |60            |652230        |\n",
      "|Afghanistan|2011|43.22202                               |28690000                                      |12.61                                                           |0.18                               |0.0                           |0.6                              |1436.1143                                         |8930.0                           |0.4263548 |591.19        |60            |652230        |\n",
      "|Afghanistan|2012|69.1                                   |62630000                                      |15.36                                                           |0.14                               |0.0                           |0.74                             |1324.1211                                         |8080.0                           |12.752287 |638.8458      |60            |652230        |\n",
      "|Afghanistan|2013|68.29065                               |268460000                                     |16.86                                                           |0.22                               |0.0                           |0.89                             |1060.7926                                         |5990.0                           |5.6007447 |624.3154      |60            |652230        |\n",
      "|Afghanistan|2014|89.5                                   |6940000                                       |18.93                                                           |0.16                               |0.0                           |1.0                              |868.5762                                          |4880.0                           |2.7245433 |614.2233      |60            |652230        |\n",
      "|Afghanistan|2015|71.5                                   |4890000                                       |17.53                                                           |0.15                               |0.0                           |1.03                             |970.0803                                          |5950.0                           |1.4513147 |556.0072      |60            |652230        |\n",
      "|Afghanistan|2016|97.7                                   |860000                                        |19.92                                                           |0.15                               |0.0                           |1.06                             |862.79114                                         |5300.0                           |2.2603142 |512.01276     |60            |652230        |\n",
      "|Afghanistan|2017|97.7                                   |50330000                                      |19.21                                                           |0.18                               |0.0                           |1.09                             |829.31195                                         |4780.0                           |2.6470032 |516.6799      |60            |652230        |\n",
      "|Afghanistan|2018|96.616135                              |70100000                                      |17.96                                                           |0.2                                |0.0                           |0.97                             |924.25085                                         |6070.0                           |1.1892282 |485.66843     |60            |652230        |\n",
      "|Afghanistan|2019|97.7                                   |4620000                                       |18.51                                                           |0.18                               |0.0                           |0.89                             |802.61255                                         |6080.0                           |3.9116035 |494.17935     |60            |652230        |\n",
      "+-----------+----+---------------------------------------+----------------------------------------------+----------------------------------------------------------------+-----------------------------------+------------------------------+---------------------------------+--------------------------------------------------+---------------------------------+----------+--------------+--------------+--------------+\n",
      "only showing top 20 rows\n",
      "\n"
     ]
    }
   ],
   "source": [
    "# Rename columns\n",
    "df_new2 = df_new1.withColumnRenamed(\"Entity\", \"Countries\")\n",
    "\n",
    "# Show the DataFrame with renamed columns\n",
    "df_new2.show(truncate=False)\n"
   ]
  },
  {
   "cell_type": "code",
   "execution_count": 102,
   "id": "ae33fa97",
   "metadata": {},
   "outputs": [
    {
     "name": "stdout",
     "output_type": "stream",
     "text": [
      "+-----------+----+----+--------------------+\n",
      "|Countries  |Code|Year|Annual CO₂ emissions|\n",
      "+-----------+----+----+--------------------+\n",
      "|Afghanistan|AFG |1949|14656.0             |\n",
      "|Afghanistan|AFG |1950|84272.0             |\n",
      "|Afghanistan|AFG |1951|91600.0             |\n",
      "|Afghanistan|AFG |1952|91600.0             |\n",
      "|Afghanistan|AFG |1953|106256.0            |\n",
      "|Afghanistan|AFG |1954|106256.0            |\n",
      "|Afghanistan|AFG |1955|153888.0            |\n",
      "|Afghanistan|AFG |1956|183200.0            |\n",
      "|Afghanistan|AFG |1957|293120.0            |\n",
      "|Afghanistan|AFG |1958|329760.0            |\n",
      "|Afghanistan|AFG |1959|384571.0            |\n",
      "|Afghanistan|AFG |1960|413885.0            |\n",
      "|Afghanistan|AFG |1961|490798.0            |\n",
      "|Afghanistan|AFG |1962|688594.0            |\n",
      "|Afghanistan|AFG |1963|706736.0            |\n",
      "|Afghanistan|AFG |1964|838551.0            |\n",
      "|Afghanistan|AFG |1965|1006917.0           |\n",
      "|Afghanistan|AFG |1966|1091159.0           |\n",
      "|Afghanistan|AFG |1967|1281865.0           |\n",
      "|Afghanistan|AFG |1968|1223391.0           |\n",
      "+-----------+----+----+--------------------+\n",
      "only showing top 20 rows\n",
      "\n"
     ]
    }
   ],
   "source": [
    "# Rename columns\n",
    "df2_new = df2.withColumnRenamed(\"Entity\", \"Countries\")\n",
    "\n",
    "# Show the DataFrame with renamed columns\n",
    "df2_new.show(truncate=False)"
   ]
  },
  {
   "cell_type": "markdown",
   "id": "694e6701",
   "metadata": {},
   "source": [
    "## 3.2\tData Cleaning"
   ]
  },
  {
   "cell_type": "code",
   "execution_count": 103,
   "id": "cd03ce78",
   "metadata": {},
   "outputs": [
    {
     "name": "stdout",
     "output_type": "stream",
     "text": [
      "+-----------+----+---------------------------------------+----------------------------------------------------------------+-----------------------------------+------------------------------+---------------------------------+---------------------------------+----------+--------------+--------------+--------------+\n",
      "|Countries  |Year|Access to electricity (% of population)|Renewable energy share in the total final energy consumption (%)|Electricity from fossil fuels (TWh)|Electricity from nuclear (TWh)|Electricity from renewables (TWh)|Value_co2_emissions_kt_by_country|gdp_growth|gdp_per_capita|Density(P/Km2)|Land Area(Km2)|\n",
      "+-----------+----+---------------------------------------+----------------------------------------------------------------+-----------------------------------+------------------------------+---------------------------------+---------------------------------+----------+--------------+--------------+--------------+\n",
      "|Afghanistan|2000|1.613591                               |44.99                                                           |0.16                               |0.0                           |0.31                             |760.0                            |null      |null          |60            |652230        |\n",
      "|Afghanistan|2001|4.074574                               |45.6                                                            |0.09                               |0.0                           |0.5                              |730.0                            |null      |null          |60            |652230        |\n",
      "|Afghanistan|2002|9.409158                               |37.83                                                           |0.13                               |0.0                           |0.56                             |1030.0                           |null      |179.42657     |60            |652230        |\n",
      "|Afghanistan|2003|14.738506                              |36.66                                                           |0.31                               |0.0                           |0.63                             |1220.0                           |8.832278  |190.6838      |60            |652230        |\n",
      "|Afghanistan|2004|20.064968                              |44.24                                                           |0.33                               |0.0                           |0.56                             |1030.0                           |1.4141179 |211.38208     |60            |652230        |\n",
      "|Afghanistan|2005|25.390894                              |33.88                                                           |0.34                               |0.0                           |0.59                             |1550.0                           |11.229714 |242.03131     |60            |652230        |\n",
      "|Afghanistan|2006|30.71869                               |31.89                                                           |0.2                                |0.0                           |0.64                             |1760.0                           |5.3574033 |263.7336      |60            |652230        |\n",
      "|Afghanistan|2007|36.05101                               |28.78                                                           |0.2                                |0.0                           |0.75                             |1770.0                           |13.82632  |359.69315     |60            |652230        |\n",
      "|Afghanistan|2008|42.4                                   |21.17                                                           |0.19                               |0.0                           |0.54                             |3560.0                           |3.9249837 |364.66354     |60            |652230        |\n",
      "|Afghanistan|2009|46.74005                               |16.53                                                           |0.16                               |0.0                           |0.78                             |4880.0                           |21.390528 |437.26874     |60            |652230        |\n",
      "|Afghanistan|2010|42.7                                   |15.15                                                           |0.19                               |0.0                           |0.75                             |7110.0                           |14.362441 |543.3065      |60            |652230        |\n",
      "|Afghanistan|2011|43.22202                               |12.61                                                           |0.18                               |0.0                           |0.6                              |8930.0                           |0.4263548 |591.19        |60            |652230        |\n",
      "|Afghanistan|2012|69.1                                   |15.36                                                           |0.14                               |0.0                           |0.74                             |8080.0                           |12.752287 |638.8458      |60            |652230        |\n",
      "|Afghanistan|2013|68.29065                               |16.86                                                           |0.22                               |0.0                           |0.89                             |5990.0                           |5.6007447 |624.3154      |60            |652230        |\n",
      "|Afghanistan|2014|89.5                                   |18.93                                                           |0.16                               |0.0                           |1.0                              |4880.0                           |2.7245433 |614.2233      |60            |652230        |\n",
      "|Afghanistan|2015|71.5                                   |17.53                                                           |0.15                               |0.0                           |1.03                             |5950.0                           |1.4513147 |556.0072      |60            |652230        |\n",
      "|Afghanistan|2016|97.7                                   |19.92                                                           |0.15                               |0.0                           |1.06                             |5300.0                           |2.2603142 |512.01276     |60            |652230        |\n",
      "|Afghanistan|2017|97.7                                   |19.21                                                           |0.18                               |0.0                           |1.09                             |4780.0                           |2.6470032 |516.6799      |60            |652230        |\n",
      "|Afghanistan|2018|96.616135                              |17.96                                                           |0.2                                |0.0                           |0.97                             |6070.0                           |1.1892282 |485.66843     |60            |652230        |\n",
      "|Afghanistan|2019|97.7                                   |18.51                                                           |0.18                               |0.0                           |0.89                             |6080.0                           |3.9116035 |494.17935     |60            |652230        |\n",
      "+-----------+----+---------------------------------------+----------------------------------------------------------------+-----------------------------------+------------------------------+---------------------------------+---------------------------------+----------+--------------+--------------+--------------+\n",
      "only showing top 20 rows\n",
      "\n"
     ]
    }
   ],
   "source": [
    "missing_data_columns_to_drop = [\n",
    "    \"Financial flows to developing countries (US $)\",\n",
    "    \"Primary energy consumption per capita (kWh/person)\"\n",
    "]\n",
    "\n",
    "df_new3 = df_new2.drop(*missing_data_columns_to_drop)\n",
    "df_new3.show(truncate=False)"
   ]
  },
  {
   "cell_type": "code",
   "execution_count": 104,
   "id": "9d6cfa26",
   "metadata": {},
   "outputs": [
    {
     "name": "stdout",
     "output_type": "stream",
     "text": [
      "Number of rows: 3649\n",
      "Number of columns: 12\n"
     ]
    }
   ],
   "source": [
    "num_rows = df_new3.count()\n",
    "print(f\"Number of rows: {num_rows}\")\n",
    "\n",
    "num_columns = len(df_new3.columns)\n",
    "print(f\"Number of columns: {num_columns}\")"
   ]
  },
  {
   "cell_type": "markdown",
   "id": "ea378cbf",
   "metadata": {},
   "source": [
    "## 3.3 Construct New Attribute"
   ]
  },
  {
   "cell_type": "code",
   "execution_count": 105,
   "id": "2132c2ed",
   "metadata": {},
   "outputs": [
    {
     "name": "stdout",
     "output_type": "stream",
     "text": [
      "+-----------+----+---------------------------------------+----------------------------------------------------------------+-----------------------------------+------------------------------+---------------------------------+---------------------------------+----------+--------------+--------------+--------------+-------------+\n",
      "|Countries  |Year|Access to electricity (% of population)|Renewable energy share in the total final energy consumption (%)|Electricity from fossil fuels (TWh)|Electricity from nuclear (TWh)|Electricity from renewables (TWh)|Value_co2_emissions_kt_by_country|gdp_growth|gdp_per_capita|Density(P/Km2)|Land Area(Km2)|Annual_gdp   |\n",
      "+-----------+----+---------------------------------------+----------------------------------------------------------------+-----------------------------------+------------------------------+---------------------------------+---------------------------------+----------+--------------+--------------+--------------+-------------+\n",
      "|Afghanistan|2000|1.613591                               |44.99                                                           |0.16                               |0.0                           |0.31                             |760.0                            |null      |null          |60            |652230        |null         |\n",
      "|Afghanistan|2001|4.074574                               |45.6                                                            |0.09                               |0.0                           |0.5                              |730.0                            |null      |null          |60            |652230        |null         |\n",
      "|Afghanistan|2002|9.409158                               |37.83                                                           |0.13                               |0.0                           |0.56                             |1030.0                           |null      |179.42657     |60            |652230        |7.0216438E9  |\n",
      "|Afghanistan|2003|14.738506                              |36.66                                                           |0.31                               |0.0                           |0.63                             |1220.0                           |8.832278  |190.6838      |60            |652230        |7.4621819E9  |\n",
      "|Afghanistan|2004|20.064968                              |44.24                                                           |0.33                               |0.0                           |0.56                             |1030.0                           |1.4141179 |211.38208     |60            |652230        |8.2721838E9  |\n",
      "|Afghanistan|2005|25.390894                              |33.88                                                           |0.34                               |0.0                           |0.59                             |1550.0                           |11.229714 |242.03131     |60            |652230        |9.4716047E9  |\n",
      "|Afghanistan|2006|30.71869                               |31.89                                                           |0.2                                |0.0                           |0.64                             |1760.0                           |5.3574033 |263.7336      |60            |652230        |1.0320898E10 |\n",
      "|Afghanistan|2007|36.05101                               |28.78                                                           |0.2                                |0.0                           |0.75                             |1770.0                           |13.82632  |359.69315     |60            |652230        |1.407616E10  |\n",
      "|Afghanistan|2008|42.4                                   |21.17                                                           |0.19                               |0.0                           |0.54                             |3560.0                           |3.9249837 |364.66354     |60            |652230        |1.42706698E10|\n",
      "|Afghanistan|2009|46.74005                               |16.53                                                           |0.16                               |0.0                           |0.78                             |4880.0                           |21.390528 |437.26874     |60            |652230        |1.71119872E10|\n",
      "|Afghanistan|2010|42.7                                   |15.15                                                           |0.19                               |0.0                           |0.75                             |7110.0                           |14.362441 |543.3065      |60            |652230        |2.12616479E10|\n",
      "|Afghanistan|2011|43.22202                               |12.61                                                           |0.18                               |0.0                           |0.6                              |8930.0                           |0.4263548 |591.19        |60            |652230        |2.31355105E10|\n",
      "|Afghanistan|2012|69.1                                   |15.36                                                           |0.14                               |0.0                           |0.74                             |8080.0                           |12.752287 |638.8458      |60            |652230        |2.50004644E10|\n",
      "|Afghanistan|2013|68.29065                               |16.86                                                           |0.22                               |0.0                           |0.89                             |5990.0                           |5.6007447 |624.3154      |60            |652230        |2.44318351E10|\n",
      "|Afghanistan|2014|89.5                                   |18.93                                                           |0.16                               |0.0                           |1.0                              |4880.0                           |2.7245433 |614.2233      |60            |652230        |2.40368927E10|\n",
      "|Afghanistan|2015|71.5                                   |17.53                                                           |0.15                               |0.0                           |1.03                             |5950.0                           |1.4513147 |556.0072      |60            |652230        |2.17586749E10|\n",
      "|Afghanistan|2016|97.7                                   |19.92                                                           |0.15                               |0.0                           |1.06                             |5300.0                           |2.2603142 |512.01276     |60            |652230        |2.00370053E10|\n",
      "|Afghanistan|2017|97.7                                   |19.21                                                           |0.18                               |0.0                           |1.09                             |4780.0                           |2.6470032 |516.6799      |60            |652230        |2.0219646E10 |\n",
      "|Afghanistan|2018|96.616135                              |17.96                                                           |0.2                                |0.0                           |0.97                             |6070.0                           |1.1892282 |485.66843     |60            |652230        |1.90060503E10|\n",
      "|Afghanistan|2019|97.7                                   |18.51                                                           |0.18                               |0.0                           |0.89                             |6080.0                           |3.9116035 |494.17935     |60            |652230        |1.93391165E10|\n",
      "+-----------+----+---------------------------------------+----------------------------------------------------------------+-----------------------------------+------------------------------+---------------------------------+---------------------------------+----------+--------------+--------------+--------------+-------------+\n",
      "only showing top 20 rows\n",
      "\n"
     ]
    }
   ],
   "source": [
    "# Construct the new attribute\n",
    "df_new4 = df_new3.withColumn(\"Annual_gdp\", col(\"Density(P/Km2)\") * col(\"Land Area(Km2)\") * col(\"gdp_per_capita\"))\n",
    "\n",
    "# Show the DataFrame with the new column\n",
    "df_new4.show(truncate=False)"
   ]
  },
  {
   "cell_type": "code",
   "execution_count": 106,
   "id": "f8d399e0",
   "metadata": {},
   "outputs": [
    {
     "name": "stdout",
     "output_type": "stream",
     "text": [
      "Correlation between Value_co2_emissions_kt_by_country and Annual_gdp: 0.7744424692868098\n"
     ]
    }
   ],
   "source": [
    "correlation = df_new4.corr(\"Value_co2_emissions_kt_by_country\", \"Annual_gdp\")\n",
    "print(\"Correlation between Value_co2_emissions_kt_by_country and Annual_gdp:\", correlation)"
   ]
  },
  {
   "cell_type": "markdown",
   "id": "e5caedd9",
   "metadata": {},
   "source": [
    "## 3.4\tIntegrating Data"
   ]
  },
  {
   "cell_type": "code",
   "execution_count": 107,
   "id": "57211141",
   "metadata": {},
   "outputs": [],
   "source": [
    "from pyspark.sql.functions import when,round\n",
    "joined_df = df_new4.join(df2_new, ['Countries', 'Year'], 'left')\n",
    "\n",
    "# Define conversion factor from tonne to kilotonne\n",
    "conversion_factor = 1000\n",
    "\n",
    "# Fill missing CO2 emission values in database 1 from database 2\n",
    "filled_df = joined_df.withColumn(\"Value_co2_emissions_kt_by_country\", \n",
    "                                  when(joined_df[\"Value_co2_emissions_kt_by_country\"].isNull(), \n",
    "                                       joined_df[\"Annual CO₂ emissions\"] / conversion_factor)\n",
    "                                 .otherwise(joined_df[\"Value_co2_emissions_kt_by_country\"])\n",
    "                                  )\n",
    "\n",
    "# Round the CO2 emissions to two decimal places\n",
    "updated_df = filled_df.withColumn(\"Value_co2_emissions_kt_by_country\", round(filled_df[\"Value_co2_emissions_kt_by_country\"], 2))\n",
    "\n",
    "# Drop unnecessary columns\n",
    "final_df = updated_df.drop(\"Annual CO₂ emissions\", \"Code\")"
   ]
  },
  {
   "cell_type": "code",
   "execution_count": 108,
   "id": "3e80b469",
   "metadata": {},
   "outputs": [
    {
     "name": "stderr",
     "output_type": "stream",
     "text": [
      "                                                                                \r"
     ]
    },
    {
     "data": {
      "text/html": [
       "<div>\n",
       "<style scoped>\n",
       "    .dataframe tbody tr th:only-of-type {\n",
       "        vertical-align: middle;\n",
       "    }\n",
       "\n",
       "    .dataframe tbody tr th {\n",
       "        vertical-align: top;\n",
       "    }\n",
       "\n",
       "    .dataframe thead th {\n",
       "        text-align: right;\n",
       "    }\n",
       "</style>\n",
       "<table border=\"1\" class=\"dataframe\">\n",
       "  <thead>\n",
       "    <tr style=\"text-align: right;\">\n",
       "      <th></th>\n",
       "      <th>0</th>\n",
       "      <th>1</th>\n",
       "      <th>2</th>\n",
       "      <th>3</th>\n",
       "      <th>4</th>\n",
       "    </tr>\n",
       "  </thead>\n",
       "  <tbody>\n",
       "    <tr>\n",
       "      <th>summary</th>\n",
       "      <td>count</td>\n",
       "      <td>mean</td>\n",
       "      <td>stddev</td>\n",
       "      <td>min</td>\n",
       "      <td>max</td>\n",
       "    </tr>\n",
       "    <tr>\n",
       "      <th>Countries</th>\n",
       "      <td>3649</td>\n",
       "      <td>None</td>\n",
       "      <td>None</td>\n",
       "      <td>Afghanistan</td>\n",
       "      <td>Zimbabwe</td>\n",
       "    </tr>\n",
       "    <tr>\n",
       "      <th>Year</th>\n",
       "      <td>3649</td>\n",
       "      <td>2010.0383666758016</td>\n",
       "      <td>6.054228365650764</td>\n",
       "      <td>2000</td>\n",
       "      <td>2020</td>\n",
       "    </tr>\n",
       "    <tr>\n",
       "      <th>Access to electricity (% of population)</th>\n",
       "      <td>3639</td>\n",
       "      <td>78.93370218462393</td>\n",
       "      <td>30.27554143208654</td>\n",
       "      <td>1.2522693</td>\n",
       "      <td>100.0</td>\n",
       "    </tr>\n",
       "    <tr>\n",
       "      <th>Renewable energy share in the total final energy consumption (%)</th>\n",
       "      <td>3455</td>\n",
       "      <td>32.6381649511784</td>\n",
       "      <td>29.894901331793534</td>\n",
       "      <td>0.0</td>\n",
       "      <td>96.04</td>\n",
       "    </tr>\n",
       "    <tr>\n",
       "      <th>Electricity from fossil fuels (TWh)</th>\n",
       "      <td>3628</td>\n",
       "      <td>70.3650024256478</td>\n",
       "      <td>348.0518635136442</td>\n",
       "      <td>0.0</td>\n",
       "      <td>5184.13</td>\n",
       "    </tr>\n",
       "    <tr>\n",
       "      <th>Electricity from nuclear (TWh)</th>\n",
       "      <td>3523</td>\n",
       "      <td>13.450190180841238</td>\n",
       "      <td>73.00662308995312</td>\n",
       "      <td>0.0</td>\n",
       "      <td>809.41</td>\n",
       "    </tr>\n",
       "    <tr>\n",
       "      <th>Electricity from renewables (TWh)</th>\n",
       "      <td>3628</td>\n",
       "      <td>23.968009911430844</td>\n",
       "      <td>104.43108457776746</td>\n",
       "      <td>0.0</td>\n",
       "      <td>2184.94</td>\n",
       "    </tr>\n",
       "    <tr>\n",
       "      <th>Value_co2_emissions_kt_by_country</th>\n",
       "      <td>3623</td>\n",
       "      <td>153768.9274689484</td>\n",
       "      <td>757568.413582635</td>\n",
       "      <td>10.0</td>\n",
       "      <td>1.091401216E7</td>\n",
       "    </tr>\n",
       "    <tr>\n",
       "      <th>gdp_growth</th>\n",
       "      <td>3332</td>\n",
       "      <td>3.441610053690284</td>\n",
       "      <td>5.686720163271315</td>\n",
       "      <td>-62.07592</td>\n",
       "      <td>123.13956</td>\n",
       "    </tr>\n",
       "    <tr>\n",
       "      <th>gdp_per_capita</th>\n",
       "      <td>3367</td>\n",
       "      <td>13283.77433636141</td>\n",
       "      <td>19709.866681800508</td>\n",
       "      <td>111.92722</td>\n",
       "      <td>123514.195</td>\n",
       "    </tr>\n",
       "    <tr>\n",
       "      <th>Density(P/Km2)</th>\n",
       "      <td>3543</td>\n",
       "      <td>141.03048264182897</td>\n",
       "      <td>169.2210812480414</td>\n",
       "      <td>2</td>\n",
       "      <td>1281</td>\n",
       "    </tr>\n",
       "    <tr>\n",
       "      <th>Land Area(Km2)</th>\n",
       "      <td>3648</td>\n",
       "      <td>633213.4893092106</td>\n",
       "      <td>1585519.2164607828</td>\n",
       "      <td>21</td>\n",
       "      <td>9984670</td>\n",
       "    </tr>\n",
       "    <tr>\n",
       "      <th>Annual_gdp</th>\n",
       "      <td>3262</td>\n",
       "      <td>4.1605581265441724E11</td>\n",
       "      <td>1.7128995852646235E12</td>\n",
       "      <td>1.4226872E7</td>\n",
       "      <td>2.31093861E13</td>\n",
       "    </tr>\n",
       "  </tbody>\n",
       "</table>\n",
       "</div>"
      ],
      "text/plain": [
       "                                                        0  \\\n",
       "summary                                             count   \n",
       "Countries                                            3649   \n",
       "Year                                                 3649   \n",
       "Access to electricity (% of population)              3639   \n",
       "Renewable energy share in the total final energ...   3455   \n",
       "Electricity from fossil fuels (TWh)                  3628   \n",
       "Electricity from nuclear (TWh)                       3523   \n",
       "Electricity from renewables (TWh)                    3628   \n",
       "Value_co2_emissions_kt_by_country                    3623   \n",
       "gdp_growth                                           3332   \n",
       "gdp_per_capita                                       3367   \n",
       "Density(P/Km2)                                       3543   \n",
       "Land Area(Km2)                                       3648   \n",
       "Annual_gdp                                           3262   \n",
       "\n",
       "                                                                        1  \\\n",
       "summary                                                              mean   \n",
       "Countries                                                            None   \n",
       "Year                                                   2010.0383666758016   \n",
       "Access to electricity (% of population)                 78.93370218462393   \n",
       "Renewable energy share in the total final energ...       32.6381649511784   \n",
       "Electricity from fossil fuels (TWh)                      70.3650024256478   \n",
       "Electricity from nuclear (TWh)                         13.450190180841238   \n",
       "Electricity from renewables (TWh)                      23.968009911430844   \n",
       "Value_co2_emissions_kt_by_country                       153768.9274689484   \n",
       "gdp_growth                                              3.441610053690284   \n",
       "gdp_per_capita                                          13283.77433636141   \n",
       "Density(P/Km2)                                         141.03048264182897   \n",
       "Land Area(Km2)                                          633213.4893092106   \n",
       "Annual_gdp                                          4.1605581265441724E11   \n",
       "\n",
       "                                                                        2  \\\n",
       "summary                                                            stddev   \n",
       "Countries                                                            None   \n",
       "Year                                                    6.054228365650764   \n",
       "Access to electricity (% of population)                 30.27554143208654   \n",
       "Renewable energy share in the total final energ...     29.894901331793534   \n",
       "Electricity from fossil fuels (TWh)                     348.0518635136442   \n",
       "Electricity from nuclear (TWh)                          73.00662308995312   \n",
       "Electricity from renewables (TWh)                      104.43108457776746   \n",
       "Value_co2_emissions_kt_by_country                        757568.413582635   \n",
       "gdp_growth                                              5.686720163271315   \n",
       "gdp_per_capita                                         19709.866681800508   \n",
       "Density(P/Km2)                                          169.2210812480414   \n",
       "Land Area(Km2)                                         1585519.2164607828   \n",
       "Annual_gdp                                          1.7128995852646235E12   \n",
       "\n",
       "                                                              3              4  \n",
       "summary                                                     min            max  \n",
       "Countries                                           Afghanistan       Zimbabwe  \n",
       "Year                                                       2000           2020  \n",
       "Access to electricity (% of population)               1.2522693          100.0  \n",
       "Renewable energy share in the total final energ...          0.0          96.04  \n",
       "Electricity from fossil fuels (TWh)                         0.0        5184.13  \n",
       "Electricity from nuclear (TWh)                              0.0         809.41  \n",
       "Electricity from renewables (TWh)                           0.0        2184.94  \n",
       "Value_co2_emissions_kt_by_country                          10.0  1.091401216E7  \n",
       "gdp_growth                                            -62.07592      123.13956  \n",
       "gdp_per_capita                                        111.92722     123514.195  \n",
       "Density(P/Km2)                                                2           1281  \n",
       "Land Area(Km2)                                               21        9984670  \n",
       "Annual_gdp                                          1.4226872E7  2.31093861E13  "
      ]
     },
     "metadata": {},
     "output_type": "display_data"
    }
   ],
   "source": [
    "stats_df = final_df.describe()\n",
    "# Convert Spark DataFrame to Pandas DataFrame\n",
    "stats_pd = stats_df.toPandas()\n",
    "\n",
    "# Transpose the Pandas DataFrame\n",
    "transposed_stats_pd = stats_pd.transpose()\n",
    "\n",
    "# Display the transposed DataFrame\n",
    "display(transposed_stats_pd)"
   ]
  },
  {
   "cell_type": "code",
   "execution_count": 109,
   "id": "15f04a11",
   "metadata": {},
   "outputs": [
    {
     "data": {
      "text/html": [
       "<div>\n",
       "<style scoped>\n",
       "    .dataframe tbody tr th:only-of-type {\n",
       "        vertical-align: middle;\n",
       "    }\n",
       "\n",
       "    .dataframe tbody tr th {\n",
       "        vertical-align: top;\n",
       "    }\n",
       "\n",
       "    .dataframe thead th {\n",
       "        text-align: right;\n",
       "    }\n",
       "</style>\n",
       "<table border=\"1\" class=\"dataframe\">\n",
       "  <thead>\n",
       "    <tr style=\"text-align: right;\">\n",
       "      <th></th>\n",
       "      <th>0</th>\n",
       "      <th>1</th>\n",
       "      <th>2</th>\n",
       "      <th>3</th>\n",
       "      <th>4</th>\n",
       "    </tr>\n",
       "  </thead>\n",
       "  <tbody>\n",
       "    <tr>\n",
       "      <th>summary</th>\n",
       "      <td>count</td>\n",
       "      <td>mean</td>\n",
       "      <td>stddev</td>\n",
       "      <td>min</td>\n",
       "      <td>max</td>\n",
       "    </tr>\n",
       "    <tr>\n",
       "      <th>Countries</th>\n",
       "      <td>3623</td>\n",
       "      <td>None</td>\n",
       "      <td>None</td>\n",
       "      <td>Afghanistan</td>\n",
       "      <td>Zimbabwe</td>\n",
       "    </tr>\n",
       "    <tr>\n",
       "      <th>Year</th>\n",
       "      <td>3623</td>\n",
       "      <td>2010.0320176649186</td>\n",
       "      <td>6.049453063861042</td>\n",
       "      <td>2000</td>\n",
       "      <td>2020</td>\n",
       "    </tr>\n",
       "    <tr>\n",
       "      <th>Access to electricity (% of population)</th>\n",
       "      <td>3614</td>\n",
       "      <td>78.78797516597855</td>\n",
       "      <td>30.32917442403671</td>\n",
       "      <td>1.2522693</td>\n",
       "      <td>100.0</td>\n",
       "    </tr>\n",
       "    <tr>\n",
       "      <th>Renewable energy share in the total final energy consumption (%)</th>\n",
       "      <td>3431</td>\n",
       "      <td>32.853730663397144</td>\n",
       "      <td>29.88505010519653</td>\n",
       "      <td>0.0</td>\n",
       "      <td>96.04</td>\n",
       "    </tr>\n",
       "    <tr>\n",
       "      <th>Electricity from fossil fuels (TWh)</th>\n",
       "      <td>3602</td>\n",
       "      <td>70.75108517497428</td>\n",
       "      <td>349.2756254494901</td>\n",
       "      <td>0.0</td>\n",
       "      <td>5184.13</td>\n",
       "    </tr>\n",
       "    <tr>\n",
       "      <th>Electricity from nuclear (TWh)</th>\n",
       "      <td>3497</td>\n",
       "      <td>13.550191594825188</td>\n",
       "      <td>73.26834877265463</td>\n",
       "      <td>0.0</td>\n",
       "      <td>809.41</td>\n",
       "    </tr>\n",
       "    <tr>\n",
       "      <th>Electricity from renewables (TWh)</th>\n",
       "      <td>3602</td>\n",
       "      <td>24.13967239275432</td>\n",
       "      <td>104.7877895388557</td>\n",
       "      <td>0.0</td>\n",
       "      <td>2184.94</td>\n",
       "    </tr>\n",
       "    <tr>\n",
       "      <th>Value_co2_emissions_kt_by_country</th>\n",
       "      <td>3623</td>\n",
       "      <td>153768.9274689484</td>\n",
       "      <td>757568.413582635</td>\n",
       "      <td>10.0</td>\n",
       "      <td>1.091401216E7</td>\n",
       "    </tr>\n",
       "    <tr>\n",
       "      <th>gdp_growth</th>\n",
       "      <td>3307</td>\n",
       "      <td>3.4672014741488235</td>\n",
       "      <td>5.693162289300852</td>\n",
       "      <td>-62.07592</td>\n",
       "      <td>123.13956</td>\n",
       "    </tr>\n",
       "    <tr>\n",
       "      <th>gdp_per_capita</th>\n",
       "      <td>3342</td>\n",
       "      <td>13118.55189839471</td>\n",
       "      <td>19592.99760220436</td>\n",
       "      <td>111.92722</td>\n",
       "      <td>123514.195</td>\n",
       "    </tr>\n",
       "    <tr>\n",
       "      <th>Density(P/Km2)</th>\n",
       "      <td>3518</td>\n",
       "      <td>139.52444570778852</td>\n",
       "      <td>168.847126471314</td>\n",
       "      <td>2</td>\n",
       "      <td>1281</td>\n",
       "    </tr>\n",
       "    <tr>\n",
       "      <th>Land Area(Km2)</th>\n",
       "      <td>3623</td>\n",
       "      <td>637529.8285950869</td>\n",
       "      <td>1590126.775138347</td>\n",
       "      <td>21</td>\n",
       "      <td>9984670</td>\n",
       "    </tr>\n",
       "    <tr>\n",
       "      <th>Annual_gdp</th>\n",
       "      <td>3237</td>\n",
       "      <td>4.1870228326949304E11</td>\n",
       "      <td>1.7192351530075483E12</td>\n",
       "      <td>1.4226872E7</td>\n",
       "      <td>2.31093861E13</td>\n",
       "    </tr>\n",
       "  </tbody>\n",
       "</table>\n",
       "</div>"
      ],
      "text/plain": [
       "                                                        0  \\\n",
       "summary                                             count   \n",
       "Countries                                            3623   \n",
       "Year                                                 3623   \n",
       "Access to electricity (% of population)              3614   \n",
       "Renewable energy share in the total final energ...   3431   \n",
       "Electricity from fossil fuels (TWh)                  3602   \n",
       "Electricity from nuclear (TWh)                       3497   \n",
       "Electricity from renewables (TWh)                    3602   \n",
       "Value_co2_emissions_kt_by_country                    3623   \n",
       "gdp_growth                                           3307   \n",
       "gdp_per_capita                                       3342   \n",
       "Density(P/Km2)                                       3518   \n",
       "Land Area(Km2)                                       3623   \n",
       "Annual_gdp                                           3237   \n",
       "\n",
       "                                                                        1  \\\n",
       "summary                                                              mean   \n",
       "Countries                                                            None   \n",
       "Year                                                   2010.0320176649186   \n",
       "Access to electricity (% of population)                 78.78797516597855   \n",
       "Renewable energy share in the total final energ...     32.853730663397144   \n",
       "Electricity from fossil fuels (TWh)                     70.75108517497428   \n",
       "Electricity from nuclear (TWh)                         13.550191594825188   \n",
       "Electricity from renewables (TWh)                       24.13967239275432   \n",
       "Value_co2_emissions_kt_by_country                       153768.9274689484   \n",
       "gdp_growth                                             3.4672014741488235   \n",
       "gdp_per_capita                                          13118.55189839471   \n",
       "Density(P/Km2)                                         139.52444570778852   \n",
       "Land Area(Km2)                                          637529.8285950869   \n",
       "Annual_gdp                                          4.1870228326949304E11   \n",
       "\n",
       "                                                                        2  \\\n",
       "summary                                                            stddev   \n",
       "Countries                                                            None   \n",
       "Year                                                    6.049453063861042   \n",
       "Access to electricity (% of population)                 30.32917442403671   \n",
       "Renewable energy share in the total final energ...      29.88505010519653   \n",
       "Electricity from fossil fuels (TWh)                     349.2756254494901   \n",
       "Electricity from nuclear (TWh)                          73.26834877265463   \n",
       "Electricity from renewables (TWh)                       104.7877895388557   \n",
       "Value_co2_emissions_kt_by_country                        757568.413582635   \n",
       "gdp_growth                                              5.693162289300852   \n",
       "gdp_per_capita                                          19592.99760220436   \n",
       "Density(P/Km2)                                           168.847126471314   \n",
       "Land Area(Km2)                                          1590126.775138347   \n",
       "Annual_gdp                                          1.7192351530075483E12   \n",
       "\n",
       "                                                              3              4  \n",
       "summary                                                     min            max  \n",
       "Countries                                           Afghanistan       Zimbabwe  \n",
       "Year                                                       2000           2020  \n",
       "Access to electricity (% of population)               1.2522693          100.0  \n",
       "Renewable energy share in the total final energ...          0.0          96.04  \n",
       "Electricity from fossil fuels (TWh)                         0.0        5184.13  \n",
       "Electricity from nuclear (TWh)                              0.0         809.41  \n",
       "Electricity from renewables (TWh)                           0.0        2184.94  \n",
       "Value_co2_emissions_kt_by_country                          10.0  1.091401216E7  \n",
       "gdp_growth                                            -62.07592      123.13956  \n",
       "gdp_per_capita                                        111.92722     123514.195  \n",
       "Density(P/Km2)                                                2           1281  \n",
       "Land Area(Km2)                                               21        9984670  \n",
       "Annual_gdp                                          1.4226872E7  2.31093861E13  "
      ]
     },
     "metadata": {},
     "output_type": "display_data"
    }
   ],
   "source": [
    "# Drop rows with missing CO2 emissions values\n",
    "df_new = final_df.dropna(subset=[\"Value_co2_emissions_kt_by_country\"])\n",
    "\n",
    "stats_df = df_new.describe()\n",
    "# Convert Spark DataFrame to Pandas DataFrame\n",
    "stats_pd = stats_df.toPandas()\n",
    "\n",
    "# Transpose the Pandas DataFrame\n",
    "transposed_stats_pd = stats_pd.transpose()\n",
    "\n",
    "# Display the transposed DataFrame\n",
    "display(transposed_stats_pd)"
   ]
  },
  {
   "cell_type": "markdown",
   "id": "7887c38a",
   "metadata": {},
   "source": [
    "# 4.\tData Transformation"
   ]
  },
  {
   "cell_type": "markdown",
   "id": "bca4e926",
   "metadata": {},
   "source": [
    "## 4.1\tData Reduction"
   ]
  },
  {
   "cell_type": "code",
   "execution_count": 110,
   "id": "2d61ffa3",
   "metadata": {},
   "outputs": [
    {
     "name": "stdout",
     "output_type": "stream",
     "text": [
      "+----------------------------------------------------------------+--------------------+--------------------+\n",
      "|Column                                                          |Correlation         |Absolute Correlation|\n",
      "+----------------------------------------------------------------+--------------------+--------------------+\n",
      "|Electricity from fossil fuels (TWh)                             |0.9902116652430759  |0.9902116652430759  |\n",
      "|Electricity from renewables (TWh)                               |0.8597718344362846  |0.8597718344362846  |\n",
      "|Annual_gdp                                                      |0.8113586121193683  |0.8113586121193683  |\n",
      "|Land Area(Km2)                                                  |0.6491722092202428  |0.6491722092202428  |\n",
      "|Electricity from nuclear (TWh)                                  |0.6010874497825431  |0.6010874497825431  |\n",
      "|Access to electricity (% of population)                         |0.12313900183158061 |0.12313900183158061 |\n",
      "|Renewable energy share in the total final energy consumption (%)|-0.11780649021037398|0.11780649021037398 |\n",
      "|gdp_per_capita                                                  |0.10130178831562034 |0.10130178831562034 |\n",
      "|gdp_growth                                                      |0.03913073450163279 |0.03913073450163279 |\n",
      "|Density(P/Km2)                                                  |0.010846335086441086|0.010846335086441086|\n",
      "+----------------------------------------------------------------+--------------------+--------------------+\n",
      "\n"
     ]
    }
   ],
   "source": [
    "# Compute correlations for all columns of interest\n",
    "correlations = []\n",
    "columns_of_interest = [\n",
    "    \"Electricity from fossil fuels (TWh)\",\n",
    "    \"Density(P/Km2)\",\n",
    "    \"Access to electricity (% of population)\",\n",
    "    \"Renewable energy share in the total final energy consumption (%)\",\n",
    "    \"Electricity from nuclear (TWh)\",\n",
    "    \"Electricity from renewables (TWh)\",\n",
    "    \"gdp_growth\",\n",
    "    \"gdp_per_capita\",\n",
    "    \"Land Area(Km2)\",\n",
    "    \"Annual_gdp\"\n",
    "]\n",
    "\n",
    "for column in columns_of_interest:\n",
    "    correlation = df_new.corr(\"Value_co2_emissions_kt_by_country\", column)\n",
    "    correlations.append((column, correlation))\n",
    "\n",
    "# Create a DataFrame or RDD with correlation values and corresponding column names\n",
    "correlation_df = spark.createDataFrame(correlations, [\"Column\", \"Correlation\"])\n",
    "\n",
    "# Sort the DataFrame by correlation values in descending order\n",
    "sorted_correlation_df = correlation_df.orderBy(col(\"Correlation\").desc())\n",
    "\n",
    "# Apply the abs() function to the Correlation column to create Absolute Correlation column\n",
    "correlation_df = correlation_df.withColumn(\"Absolute Correlation\", abs(col(\"Correlation\")))\n",
    "\n",
    "# Sort the DataFrame by absolute correlation values in descending order\n",
    "sorted_abs_correlation_df = correlation_df.orderBy(\"Absolute Correlation\", ascending=False)\n",
    "\n",
    "# Set the maximum column width to a larger value\n",
    "spark.conf.set(\"spark.sql.repl.eagerEval.maxNumRows\", 100)\n",
    "spark.conf.set(\"spark.sql.repl.eagerEval.maxNumCols\", 100)\n",
    "\n",
    "# Display the sorted table\n",
    "sorted_abs_correlation_df.show(truncate=False)"
   ]
  },
  {
   "cell_type": "code",
   "execution_count": 111,
   "id": "344bb146",
   "metadata": {},
   "outputs": [
    {
     "name": "stdout",
     "output_type": "stream",
     "text": [
      "+-----------+----+-----------------------------------+------------------------------+---------------------------------+---------------------------------+--------------+-------------+\n",
      "|Countries  |Year|Electricity from fossil fuels (TWh)|Electricity from nuclear (TWh)|Electricity from renewables (TWh)|Value_co2_emissions_kt_by_country|Land Area(Km2)|Annual_gdp   |\n",
      "+-----------+----+-----------------------------------+------------------------------+---------------------------------+---------------------------------+--------------+-------------+\n",
      "|Afghanistan|2000|0.16                               |0.0                           |0.31                             |760.0                            |652230        |null         |\n",
      "|Afghanistan|2001|0.09                               |0.0                           |0.5                              |730.0                            |652230        |null         |\n",
      "|Afghanistan|2002|0.13                               |0.0                           |0.56                             |1030.0                           |652230        |7.0216438E9  |\n",
      "|Afghanistan|2003|0.31                               |0.0                           |0.63                             |1220.0                           |652230        |7.4621819E9  |\n",
      "|Afghanistan|2004|0.33                               |0.0                           |0.56                             |1030.0                           |652230        |8.2721838E9  |\n",
      "|Afghanistan|2005|0.34                               |0.0                           |0.59                             |1550.0                           |652230        |9.4716047E9  |\n",
      "|Afghanistan|2006|0.2                                |0.0                           |0.64                             |1760.0                           |652230        |1.0320898E10 |\n",
      "|Afghanistan|2007|0.2                                |0.0                           |0.75                             |1770.0                           |652230        |1.407616E10  |\n",
      "|Afghanistan|2008|0.19                               |0.0                           |0.54                             |3560.0                           |652230        |1.42706698E10|\n",
      "|Afghanistan|2009|0.16                               |0.0                           |0.78                             |4880.0                           |652230        |1.71119872E10|\n",
      "|Afghanistan|2010|0.19                               |0.0                           |0.75                             |7110.0                           |652230        |2.12616479E10|\n",
      "|Afghanistan|2011|0.18                               |0.0                           |0.6                              |8930.0                           |652230        |2.31355105E10|\n",
      "|Afghanistan|2012|0.14                               |0.0                           |0.74                             |8080.0                           |652230        |2.50004644E10|\n",
      "|Afghanistan|2013|0.22                               |0.0                           |0.89                             |5990.0                           |652230        |2.44318351E10|\n",
      "|Afghanistan|2014|0.16                               |0.0                           |1.0                              |4880.0                           |652230        |2.40368927E10|\n",
      "|Afghanistan|2015|0.15                               |0.0                           |1.03                             |5950.0                           |652230        |2.17586749E10|\n",
      "|Afghanistan|2016|0.15                               |0.0                           |1.06                             |5300.0                           |652230        |2.00370053E10|\n",
      "|Afghanistan|2017|0.18                               |0.0                           |1.09                             |4780.0                           |652230        |2.0219646E10 |\n",
      "|Afghanistan|2018|0.2                                |0.0                           |0.97                             |6070.0                           |652230        |1.90060503E10|\n",
      "|Afghanistan|2019|0.18                               |0.0                           |0.89                             |6080.0                           |652230        |1.93391165E10|\n",
      "+-----------+----+-----------------------------------+------------------------------+---------------------------------+---------------------------------+--------------+-------------+\n",
      "only showing top 20 rows\n",
      "\n"
     ]
    }
   ],
   "source": [
    "df_new = df_new.drop(\"Density(P/Km2)\", \"gdp_growth\", \"gdp_per_capita\", \"Renewable energy share in the total final energy consumption (%)\", \"Access to electricity (% of population)\")\n",
    "\n",
    "# Show the DataFrame with the new column\n",
    "df_new.show(truncate=False)"
   ]
  },
  {
   "cell_type": "code",
   "execution_count": 112,
   "id": "b7513422",
   "metadata": {},
   "outputs": [
    {
     "name": "stdout",
     "output_type": "stream",
     "text": [
      "Number of rows: 3623\n",
      "Number of columns: 8\n"
     ]
    }
   ],
   "source": [
    "num_rows = df_new.count()\n",
    "print(f\"Number of rows: {num_rows}\")\n",
    "\n",
    "num_columns = len(df_new.columns)\n",
    "print(f\"Number of columns: {num_columns}\")"
   ]
  },
  {
   "cell_type": "markdown",
   "id": "a4049781",
   "metadata": {},
   "source": [
    "## 4.1\tData Projection"
   ]
  },
  {
   "cell_type": "code",
   "execution_count": 113,
   "id": "0f37a7e4",
   "metadata": {},
   "outputs": [
    {
     "data": {
      "image/png": "[encoded data removed]",
      "text/plain": [
       "<Figure size 720x432 with 1 Axes>"
      ]
     },
     "metadata": {
      "needs_background": "light"
     },
     "output_type": "display_data"
    }
   ],
   "source": [
    "# Group by country and calculate the mean CO2 emissions\n",
    "mean_co2_df = df_new.groupBy(\"Countries\").agg(avg(col(\"Value_co2_emissions_kt_by_country\")).alias(\"Mean_CO2_Emissions\"))\n",
    "\n",
    "# Convert to Pandas DataFrame for plotting\n",
    "mean_co2_pd = mean_co2_df.toPandas()\n",
    "\n",
    "# Plot the distribution of mean CO2 emissions\n",
    "plt.figure(figsize=(10, 6))\n",
    "sns.histplot(mean_co2_pd[\"Mean_CO2_Emissions\"], bins=30, kde=True)\n",
    "plt.title(\"Distribution of Mean CO2 Emissions by Country\")\n",
    "plt.xlabel(\"Mean CO2 Emissions\")\n",
    "plt.ylabel(\"Frequency\")\n",
    "plt.show()"
   ]
  },
  {
   "cell_type": "code",
   "execution_count": 114,
   "id": "464cda20",
   "metadata": {},
   "outputs": [
    {
     "data": {
      "image/png": "[encoded data removed]",
      "text/plain": [
       "<Figure size 720x432 with 1 Axes>"
      ]
     },
     "metadata": {
      "needs_background": "light"
     },
     "output_type": "display_data"
    }
   ],
   "source": [
    "# Import necessary libraries for plotting\n",
    "import numpy as np\n",
    "import matplotlib.pyplot as plt\n",
    "import seaborn as sns\n",
    "\n",
    "# Apply logarithmic transformation to the 'Mean_CO2_Emissions' column\n",
    "mean_co2_pd['log_Mean_CO2_Emissions'] = np.log(mean_co2_pd['Mean_CO2_Emissions'] + 1)  # Adding 1 to handle zero values\n",
    "\n",
    "# Plot the distribution of mean CO2 emissions\n",
    "plt.figure(figsize=(10, 6))\n",
    "sns.histplot(mean_co2_pd[\"log_Mean_CO2_Emissions\"], bins=30, kde=True)\n",
    "plt.title(\"Distribution of Mean CO2 Emissions by Country\")\n",
    "plt.xlabel(\"Mean CO2 Emissions (log scale)\")\n",
    "plt.ylabel(\"Frequency\")\n",
    "plt.show()"
   ]
  },
  {
   "cell_type": "markdown",
   "id": "caeea4e4",
   "metadata": {},
   "source": [
    "# 7. Data Mining"
   ]
  },
  {
   "cell_type": "markdown",
   "id": "d7e55052",
   "metadata": {},
   "source": [
    "## Select data"
   ]
  },
  {
   "cell_type": "code",
   "execution_count": 115,
   "id": "866cc8d6",
   "metadata": {},
   "outputs": [],
   "source": [
    "from pyspark.ml.feature import VectorAssembler\n",
    "from pyspark.ml.regression import LinearRegression\n",
    "\n",
    "# Select required columns\n",
    "selected_columns = ['Annual_gdp', 'Land Area(Km2)', 'Electricity from fossil fuels (TWh)', \n",
    "                    'Electricity from nuclear (TWh)', 'Electricity from renewables (TWh)', \n",
    "                    'Value_co2_emissions_kt_by_country']\n",
    "\n",
    "# Drop rows with any missing values\n",
    "cleaned_df = df_new.select(selected_columns).na.drop()"
   ]
  },
  {
   "cell_type": "code",
   "execution_count": 116,
   "id": "58f9c95f",
   "metadata": {},
   "outputs": [],
   "source": [
    "# Vectorize features\n",
    "assembler = VectorAssembler(inputCols=['Annual_gdp', 'Land Area(Km2)', \n",
    "                                       'Electricity from fossil fuels (TWh)', \n",
    "                                       'Electricity from nuclear (TWh)', \n",
    "                                       'Electricity from renewables (TWh)'], \n",
    "                            outputCol=\"features\")\n",
    "vectorized_df = assembler.transform(cleaned_df)"
   ]
  },
  {
   "cell_type": "markdown",
   "id": "89c0f280",
   "metadata": {},
   "source": [
    "## 7.1 Create and justify test designs"
   ]
  },
  {
   "cell_type": "code",
   "execution_count": 117,
   "id": "0ea33afa",
   "metadata": {},
   "outputs": [],
   "source": [
    "# Split the data into training and testing sets (70% training, 30% testing)\n",
    "(training_data, testing_data) = vectorized_df.randomSplit([0.7, 0.3])"
   ]
  },
  {
   "cell_type": "markdown",
   "id": "87605dcb",
   "metadata": {},
   "source": [
    "## 7.2 Conduct Data Mining"
   ]
  },
  {
   "cell_type": "markdown",
   "id": "a1b9738c",
   "metadata": {},
   "source": [
    "### 7.2.1 Correlation Analysis"
   ]
  },
  {
   "cell_type": "code",
   "execution_count": 118,
   "id": "1c9dd2b4",
   "metadata": {},
   "outputs": [
    {
     "name": "stdout",
     "output_type": "stream",
     "text": [
      "+-----------------------------------+------------------+\n",
      "|Column                             |Correlation       |\n",
      "+-----------------------------------+------------------+\n",
      "|Electricity from fossil fuels (TWh)|0.9902116652430759|\n",
      "|Electricity from renewables (TWh)  |0.8597718344362846|\n",
      "|Annual_gdp                         |0.8113586121193683|\n",
      "|Land Area(Km2)                     |0.6491722092202428|\n",
      "|Electricity from nuclear (TWh)     |0.6010874497825431|\n",
      "+-----------------------------------+------------------+\n",
      "\n"
     ]
    }
   ],
   "source": [
    "# Compute correlations for all columns of interest\n",
    "correlations = []\n",
    "columns_of_interest = [\n",
    "    \"Electricity from fossil fuels (TWh)\",\n",
    "    \"Electricity from nuclear (TWh)\",\n",
    "    \"Electricity from renewables (TWh)\",\n",
    "    \"Land Area(Km2)\",\n",
    "    \"Annual_gdp\"\n",
    "]\n",
    "\n",
    "for column in columns_of_interest:\n",
    "    correlation = df_new.corr(\"Value_co2_emissions_kt_by_country\", column)\n",
    "    correlations.append((column, correlation))\n",
    "\n",
    "# Create a DataFrame or RDD with correlation values and corresponding column names\n",
    "correlation_df = spark.createDataFrame(correlations, [\"Column\", \"Correlation\"])\n",
    "\n",
    "# Sort the DataFrame by correlation values in descending order\n",
    "sorted_correlation_df = correlation_df.orderBy(col(\"Correlation\").desc())\n",
    "\n",
    "# Set the maximum column width to a larger value\n",
    "spark.conf.set(\"spark.sql.repl.eagerEval.maxNumRows\", 100)\n",
    "spark.conf.set(\"spark.sql.repl.eagerEval.maxNumCols\", 100)\n",
    "\n",
    "# Display the sorted table\n",
    "sorted_correlation_df.show(truncate=False)"
   ]
  },
  {
   "cell_type": "markdown",
   "id": "67eb4a75",
   "metadata": {},
   "source": [
    "### 7.2.2 Linear Regression"
   ]
  },
  {
   "cell_type": "code",
   "execution_count": 119,
   "id": "aa3882cb",
   "metadata": {},
   "outputs": [
    {
     "name": "stderr",
     "output_type": "stream",
     "text": [
      "24/05/24 13:37:53 WARN Instrumentation: [95f8484d] regParam is zero, which might cause numerical instability and overfitting.\n"
     ]
    }
   ],
   "source": [
    "# Train the Linear Regression model\n",
    "lr = LinearRegression(featuresCol=\"features\", labelCol=\"Value_co2_emissions_kt_by_country\")\n",
    "lr_model = lr.fit(training_data)"
   ]
  },
  {
   "cell_type": "code",
   "execution_count": 120,
   "id": "ce9d360a",
   "metadata": {},
   "outputs": [
    {
     "name": "stdout",
     "output_type": "stream",
     "text": [
      "Coefficients: [-1.2710982031774642e-07,0.02469469791975983,2402.106490405639,843.2930760527647,369.3162904356279]\n",
      "Intercept: 1028.5223383594284\n"
     ]
    }
   ],
   "source": [
    "# Print the coefficients and intercept\n",
    "print(\"Coefficients:\", lr_model.coefficients)\n",
    "print(\"Intercept:\", lr_model.intercept)"
   ]
  },
  {
   "cell_type": "markdown",
   "id": "14f75ed3",
   "metadata": {},
   "source": [
    "### 7.2.2 Decision Tree"
   ]
  },
  {
   "cell_type": "code",
   "execution_count": 121,
   "id": "dac08a52",
   "metadata": {},
   "outputs": [],
   "source": [
    "from pyspark.ml.regression import DecisionTreeRegressor\n",
    "# Initialize the Decision Tree Regressor\n",
    "dt = DecisionTreeRegressor(featuresCol=\"features\", labelCol=\"Value_co2_emissions_kt_by_country\")\n",
    "\n",
    "# Train the model\n",
    "dt_model = dt.fit(training_data)\n",
    "\n",
    "# Make predictions on the test data\n",
    "predictions = dt_model.transform(testing_data)"
   ]
  },
  {
   "cell_type": "markdown",
   "id": "53e372d3",
   "metadata": {},
   "source": [
    "## 7.3 Document Output"
   ]
  },
  {
   "cell_type": "markdown",
   "id": "dd4f16f2",
   "metadata": {},
   "source": [
    "### Correlation Analysis\n",
    "\n",
    "We conducted a correlation analysis to understand the linear relationship between CO₂ emissions and various factors. The Pearson correlation coefficients are as follows:\n",
    "\n",
    "| Column                                      | Correlation |\n",
    "|---------------------------------------------|-------------|\n",
    "| Electricity from fossil fuels (TWh)         | 0.990       |\n",
    "| Electricity from renewables (TWh)           | 0.860       |\n",
    "| Annual GDP                                  | 0.811       |\n",
    "| Electricity from nuclear (TWh)              | 0.649       |\n",
    "| Land Area                                   | 0.601       |\n",
    "\n",
    "These results indicate the following:\n",
    "- There is a strong positive correlation between CO₂ emissions and electricity from fossil fuels (0.990), suggesting that higher electricity production from fossil fuels is associated with higher CO₂ emissions.\n",
    "- Electricity from renewables shows a strong positive correlation with CO₂ emissions (0.860) \n",
    "- Annual GDP also shows a strong positive correlation with CO₂ emissions (0.811), indicating that more economically developed countries tend to have higher CO₂ emissions.\n",
    "- Electricity from nuclear and land area have moderate positive correlations with CO₂ emissions (0.649 and 0.601 respectively).\n"
   ]
  },
  {
   "cell_type": "markdown",
   "id": "aa2f2708",
   "metadata": {},
   "source": [
    "### Linear Regression Analysis\n",
    "\n",
    "We performed a linear regression analysis to explore the relationship between CO₂ emissions and several predictors (annual GDP, land area, electricity from fossil fuels, nuclear, and renewables).\n",
    "\n",
    "#### Model Coefficients:\n",
    "- **Intercept**: 1803.38\n",
    "- **Annual GDP**: -1.417e-07\n",
    "- **Land Area**: 0.0179\n",
    "- **Electricity from Fossil Fuels (TWh)**: 2422.12\n",
    "- **Electricity from Nuclear (TWh)**: 959.61\n",
    "- **Electricity from Renewables (TWh)**: 604.81\n",
    "\n",
    "#### Interpretation:\n",
    "- **Coefficients**:\n",
    "  - **Annual GDP**: The coefficient for annual GDP is very close to zero (-1.417e-07), suggesting a negligible effect on CO₂ emissions.\n",
    "  - **Land Area**: A small positive coefficient (0.0179) implies a minor positive relationship with CO₂ emissions.\n",
    "  - **Electricity from Fossil Fuels**: This predictor has a large positive coefficient (2422.12), indicating a strong positive relationship with CO₂ emissions.\n",
    "  - **Electricity from Nuclear**: The positive coefficient (959.61) suggests a moderate positive relationship with CO₂ emissions.\n",
    "  - **Electricity from Renewables**: With a positive coefficient (604.81), this predictor indicates a moderate positive relationship with CO₂ emissions.\n",
    "\n",
    "These results highlight that electricity production from fossil fuels is the most significant predictor of CO₂ emissions, while annual GDP and land area have relatively low impact."
   ]
  },
  {
   "cell_type": "markdown",
   "id": "3c770f75",
   "metadata": {},
   "source": [
    "## 8.2\tVisualize the data, results, models, and patterns"
   ]
  },
  {
   "cell_type": "code",
   "execution_count": 122,
   "id": "8cdb7157",
   "metadata": {},
   "outputs": [
    {
     "data": {
      "image/png": "[encoded data removed]",
      "text/plain": [
       "<Figure size 720x576 with 2 Axes>"
      ]
     },
     "metadata": {
      "needs_background": "light"
     },
     "output_type": "display_data"
    }
   ],
   "source": [
    "import seaborn as sns\n",
    "import pandas as pd\n",
    "import matplotlib.pyplot as plt \n",
    "\n",
    "columns_of_interest = [\n",
    "    \"Electricity from fossil fuels (TWh)\",\n",
    "    \"Electricity from nuclear (TWh)\",\n",
    "    \"Electricity from renewables (TWh)\",\n",
    "    \"Value_co2_emissions_kt_by_country\",\n",
    "    \"Land Area(Km2)\",\n",
    "    \"Annual_gdp\",\n",
    "]\n",
    "\n",
    "correlation_matrix = []\n",
    "for column in columns_of_interest:\n",
    "    correlations = []\n",
    "    for other_column in columns_of_interest:\n",
    "        correlation = df_new.corr(column, other_column)\n",
    "        correlations.append(correlation)\n",
    "    correlation_matrix.append(correlations)\n",
    "\n",
    "# Convert the correlation matrix to a Pandas DataFrame\n",
    "correlation_df = pd.DataFrame(correlation_matrix, columns=columns_of_interest, index=columns_of_interest)\n",
    "\n",
    "# Plot heatmap\n",
    "plt.figure(figsize=(10, 8))\n",
    "sns.heatmap(correlation_df, annot=True, cmap=\"coolwarm\", fmt=\".2f\", linewidths=.5)\n",
    "plt.title(\"Correlation Heatmap with CO2 Emissions\")\n",
    "plt.show()\n"
   ]
  },
  {
   "cell_type": "code",
   "execution_count": 123,
   "id": "0748cbbb",
   "metadata": {},
   "outputs": [
    {
     "data": {
      "image/png": "[encoded data removed]",
      "text/plain": [
       "<Figure size 576x432 with 1 Axes>"
      ]
     },
     "metadata": {
      "needs_background": "light"
     },
     "output_type": "display_data"
    }
   ],
   "source": [
    "import numpy as np\n",
    "\n",
    "# Make predictions on the testing data\n",
    "predictions = lr_model.transform(testing_data)\n",
    "\n",
    "# Extract actual and predicted values\n",
    "y_actual = predictions.select(\"Value_co2_emissions_kt_by_country\").rdd.flatMap(lambda x: x).collect()\n",
    "y_pred = predictions.select(\"prediction\").rdd.flatMap(lambda x: x).collect()\n",
    "\n",
    "# Plot actual vs. predicted values\n",
    "plt.figure(figsize=(8, 6))\n",
    "plt.scatter(y_actual, y_pred, color='blue', label='Actual vs. Predicted')\n",
    "plt.plot([min(y_actual), max(y_actual)], [min(y_actual), max(y_actual)], color='red', linestyle='--')\n",
    "plt.xlabel('Actual CO2 Emissions')\n",
    "plt.ylabel('Predicted CO2 Emissions')\n",
    "plt.title('Linear Regression: Actual vs. Predicted')\n",
    "plt.legend()\n",
    "plt.grid(True)\n",
    "plt.show()"
   ]
  },
  {
   "cell_type": "markdown",
   "id": "ddcdcc6f",
   "metadata": {},
   "source": [
    "## 8.4 Assess and evaluate results, models, and patterns"
   ]
  },
  {
   "cell_type": "code",
   "execution_count": 124,
   "id": "2f8d1987",
   "metadata": {},
   "outputs": [
    {
     "name": "stdout",
     "output_type": "stream",
     "text": [
      "Test RMSE: 67533.77250899376\n",
      "Test R2: 0.9915213032316849\n"
     ]
    }
   ],
   "source": [
    "from pyspark.ml.evaluation import RegressionEvaluator\n",
    "# Evaluate the model\n",
    "evaluator = RegressionEvaluator(labelCol=\"Value_co2_emissions_kt_by_country\", \n",
    "                                predictionCol=\"prediction\", \n",
    "                                metricName=\"rmse\")\n",
    "rmse = evaluator.evaluate(predictions)\n",
    "\n",
    "# Evaluate the model on the test data\n",
    "test_results = lr_model.evaluate(testing_data)\n",
    "print(f\"Test RMSE: {test_results.rootMeanSquaredError}\")\n",
    "print(f\"Test R2: {test_results.r2}\")"
   ]
  },
  {
   "cell_type": "code",
   "execution_count": 125,
   "id": "fed0a92f",
   "metadata": {},
   "outputs": [
    {
     "name": "stdout",
     "output_type": "stream",
     "text": [
      "Root Mean Squared Error (RMSE) on test data: 67533.77250899376\n",
      "R^2 on test data: 0.9915213032316849\n"
     ]
    }
   ],
   "source": [
    "# Evaluate the model's performance\n",
    "evaluator = RegressionEvaluator(\n",
    "    labelCol=\"Value_co2_emissions_kt_by_country\", \n",
    "    predictionCol=\"prediction\", \n",
    "    metricName=\"rmse\")\n",
    "\n",
    "rmse = evaluator.evaluate(predictions)\n",
    "r2 = evaluator.evaluate(predictions, {evaluator.metricName: \"r2\"})\n",
    "\n",
    "print(f\"Root Mean Squared Error (RMSE) on test data: {rmse}\")\n",
    "print(f\"R^2 on test data: {r2}\")\n"
   ]
  },
  {
   "cell_type": "markdown",
   "id": "c028fd32",
   "metadata": {},
   "source": [
    "#### Model Performance:\n",
    "- **Root Mean Squared Error (RMSE)**: 264,439.80\n",
    "- **R² (R-squared)**: 0.8995\n",
    "\n",
    "- **Performance Metrics**:\n",
    "  - **RMSE**: The average error in predictions is 264,439.80 kt, which is substantial and suggests room for improvement.\n",
    "  - **R²**: The model explains 89.95% of the variance in CO₂ emissions, indicating a strong overall fit."
   ]
  },
  {
   "cell_type": "markdown",
   "id": "26398974",
   "metadata": {},
   "source": [
    "## 8.5 Second Iteration"
   ]
  },
  {
   "cell_type": "code",
   "execution_count": 135,
   "id": "c8b07701",
   "metadata": {},
   "outputs": [
    {
     "data": {
      "image/png": "[encoded data removed]",
      "text/plain": [
       "<Figure size 576x432 with 1 Axes>"
      ]
     },
     "metadata": {
      "needs_background": "light"
     },
     "output_type": "display_data"
    }
   ],
   "source": [
    "from pyspark.sql import SparkSession\n",
    "from pyspark.ml.feature import VectorAssembler\n",
    "from pyspark.ml.clustering import KMeans\n",
    "import matplotlib.pyplot as plt\n",
    "from pyspark.sql.types import DoubleType\n",
    "\n",
    "# Drop rows with missing values\n",
    "df_clean = df_new.dropna(subset=[\"Annual_gdp\", \"Value_co2_emissions_kt_by_country\"])\n",
    "\n",
    "# Create a vector assembler\n",
    "vector_assembler = VectorAssembler(inputCols=[\"Annual_gdp\", \"Value_co2_emissions_kt_by_country\"], outputCol=\"features\")\n",
    "\n",
    "# Vectorize the features\n",
    "vectorized_df = vector_assembler.transform(df_clean)\n",
    "\n",
    "# Convert features to DoubleType\n",
    "vectorized_df = vectorized_df.withColumn(\"Annual_gdp\", vectorized_df[\"Annual_gdp\"].cast(DoubleType()))\n",
    "vectorized_df = vectorized_df.withColumn(\"Value_co2_emissions_kt_by_country\", vectorized_df[\"Value_co2_emissions_kt_by_country\"].cast(DoubleType()))\n",
    "\n",
    "# Cluster the data using k-means\n",
    "kmeans = KMeans(k=3, seed=1)\n",
    "model = kmeans.fit(vectorized_df)\n",
    "\n",
    "# Get the cluster centers\n",
    "centers = model.clusterCenters()\n",
    "\n",
    "# Extract the annual GDP and CO2 emissions values\n",
    "annual_gdp = [center[0] for center in centers]\n",
    "co2_emissions = [center[1] for center in centers]\n",
    "\n",
    "# Plot the clusters\n",
    "plt.figure(figsize=(8, 6))\n",
    "for cluster in range(3):  # assuming k=3 clusters\n",
    "    cluster_data = clustered_df.filter(clustered_df[\"prediction\"] == cluster)\n",
    "    plt.scatter(cluster_data.select(\"Annual_gdp\").rdd.flatMap(lambda x: x).collect(), \n",
    "                cluster_data.select(\"Value_co2_emissions_kt_by_country\").rdd.flatMap(lambda x: x).collect(),\n",
    "                label=f'Cluster {cluster}')\n",
    "plt.xlabel('Annual GDP')\n",
    "plt.ylabel('CO2 Emissions')\n",
    "plt.title('Clustering: Annual GDP vs. CO2 Emissions')\n",
    "plt.legend()\n",
    "plt.grid(True)\n",
    "plt.show()"
   ]
  },
  {
   "cell_type": "code",
   "execution_count": 134,
   "id": "e17e21b6",
   "metadata": {},
   "outputs": [
    {
     "name": "stdout",
     "output_type": "stream",
     "text": [
      "Silhouette Score: 0.95838030896331\n"
     ]
    }
   ],
   "source": [
    "from pyspark.ml.evaluation import ClusteringEvaluator\n",
    "\n",
    "# Make predictions\n",
    "predictions = model.transform(vectorized_df)\n",
    "\n",
    "# Evaluate clustering by computing Silhouette score\n",
    "evaluator = ClusteringEvaluator()\n",
    "silhouette_score = evaluator.evaluate(predictions)\n",
    "print(f\"Silhouette Score: {silhouette_score}\")"
   ]
  },
  {
   "cell_type": "code",
   "execution_count": null,
   "id": "167bae31",
   "metadata": {},
   "outputs": [],
   "source": []
  }
 ],
 "metadata": {
  "kernelspec": {
   "display_name": "Python 3 (ipykernel)",
   "language": "python",
   "name": "python3"
  },
  "language_info": {
   "codemirror_mode": {
    "name": "ipython",
    "version": 3
   },
   "file_extension": ".py",
   "mimetype": "text/x-python",
   "name": "python",
   "nbconvert_exporter": "python",
   "pygments_lexer": "ipython3",
   "version": "3.10.12"
  }
 },
 "nbformat": 4,
 "nbformat_minor": 5
}
