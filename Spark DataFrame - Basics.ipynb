{
 "cells": [
  {
   "cell_type": "code",
   "execution_count": 4,
   "id": "c6d0f5ff",
   "metadata": {},
   "outputs": [],
   "source": [
    "# Must be included at the beginning of each new notebook. Remember to change the app name.\n",
    "import findspark\n",
    "findspark.init('/home/ubuntu/spark-3.2.1-bin-hadoop2.7')\n",
    "import pyspark\n",
    "from pyspark.sql import SparkSession\n",
    "spark = SparkSession.builder.appName('basics').getOrCreate()"
   ]
  },
  {
   "cell_type": "code",
   "execution_count": 8,
   "id": "00f47af5",
   "metadata": {},
   "outputs": [],
   "source": [
    "# Let's read in the data.\n",
    "df = spark.read.option(\"header\", \"true\").csv('Datasets/global-data-on-sustainable-energy.csv')\n",
    "df2 = spark.read.option(\"header\", \"true\").csv('Datasets/annual-co2-emissions-per-country.csv')"
   ]
  },
  {
   "cell_type": "markdown",
   "id": "6ba88003",
   "metadata": {},
   "source": [
    "## Data Exploration"
   ]
  },
  {
   "cell_type": "code",
   "execution_count": 10,
   "id": "0e58d55e",
   "metadata": {},
   "outputs": [
    {
     "name": "stdout",
     "output_type": "stream",
     "text": [
      "+-----------+----+---------------------------------------+---------------------------------+----------------------------------------------------+----------------------------------------------+----------------------------------------------------------------+-----------------------------------+------------------------------+---------------------------------+--------------------------------------+--------------------------------------------------+-----------------------------------------------------------+---------------------------------+----------------------------------------+-----------+--------------+--------------+--------------+--------+---------+\n",
      "|     Entity|Year|Access to electricity (% of population)|Access to clean fuels for cooking|Renewable-electricity-generating-capacity-per-capita|Financial flows to developing countries (US $)|Renewable energy share in the total final energy consumption (%)|Electricity from fossil fuels (TWh)|Electricity from nuclear (TWh)|Electricity from renewables (TWh)|Low-carbon electricity (% electricity)|Primary energy consumption per capita (kWh/person)|Energy intensity level of primary energy (MJ/$2017 PPP GDP)|Value_co2_emissions_kt_by_country|Renewables (% equivalent primary energy)| gdp_growth|gdp_per_capita|Density(P/Km2)|Land Area(Km2)|Latitude|Longitude|\n",
      "+-----------+----+---------------------------------------+---------------------------------+----------------------------------------------------+----------------------------------------------+----------------------------------------------------------------+-----------------------------------+------------------------------+---------------------------------+--------------------------------------+--------------------------------------------------+-----------------------------------------------------------+---------------------------------+----------------------------------------+-----------+--------------+--------------+--------------+--------+---------+\n",
      "|Afghanistan|2000|                               1.613591|                              6.2|                                                9.22|                                         20000|                                                           44.99|                               0.16|                             0|                             0.31|                              65.95744|                                         302.59482|                                                       1.64|                              760|                                    null|       null|          null|            60|        652230|33.93911|67.709953|\n",
      "|Afghanistan|2001|                               4.074574|                              7.2|                                                8.86|                                        130000|                                                            45.6|                               0.09|                             0|                              0.5|                             84.745766|                                         236.89185|                                                       1.74|                              730|                                    null|       null|          null|            60|        652230|33.93911|67.709953|\n",
      "|Afghanistan|2002|                               9.409158|                              8.2|                                                8.47|                                       3950000|                                                           37.83|                               0.13|                             0|                             0.56|                             81.159424|                                         210.86215|                                                        1.4|                      1029.999971|                                    null|       null|   179.4265792|            60|        652230|33.93911|67.709953|\n",
      "|Afghanistan|2003|                              14.738506|                              9.5|                                                8.09|                                      25970000|                                                           36.66|                               0.31|                             0|                             0.63|                              67.02128|                                         229.96822|                                                        1.4|                      1220.000029|                                    null|8.832277813|   190.6838143|            60|        652230|33.93911|67.709953|\n",
      "|Afghanistan|2004|                              20.064968|                             10.9|                                                7.75|                                          null|                                                           44.24|                               0.33|                             0|                             0.56|                              62.92135|                                         204.23125|                                                        1.2|                      1029.999971|                                    null|1.414117981|   211.3820742|            60|        652230|33.93911|67.709953|\n",
      "|Afghanistan|2005|                              25.390894|                             12.2|                                                7.51|                                       9830000|                                                           33.88|                               0.34|                             0|                             0.59|                             63.440857|                                         252.06912|                                                       1.41|                      1549.999952|                                    null|11.22971482|   242.0313132|            60|        652230|33.93911|67.709953|\n",
      "|Afghanistan|2006|                               30.71869|                            13.85|                                                 7.4|                                      10620000|                                                           31.89|                                0.2|                             0|                             0.64|                             76.190475|                                          304.4209|                                                        1.5|                       1759.99999|                                    null|5.357403251|   263.7336019|            60|        652230|33.93911|67.709953|\n",
      "|Afghanistan|2007|                               36.05101|                             15.3|                                                7.25|                                      15750000|                                                           28.78|                                0.2|                             0|                             0.75|                              78.94737|                                          354.2799|                                                       1.53|                      1769.999981|                                    null|13.82631955|   359.6931579|            60|        652230|33.93911|67.709953|\n",
      "|Afghanistan|2008|                                   42.4|                             16.7|                                                7.49|                                      16170000|                                                           21.17|                               0.19|                             0|                             0.54|                               73.9726|                                          607.8335|                                                       1.94|                      3559.999943|                                    null|3.924983822|    364.663542|            60|        652230|33.93911|67.709953|\n",
      "|Afghanistan|2009|                               46.74005|                             18.4|                                                 7.5|                                       9960000|                                                           16.53|                               0.16|                             0|                             0.78|                              82.97872|                                         975.04816|                                                       2.25|                      4880.000114|                                    null|21.39052839|   437.2687402|            60|        652230|33.93911|67.709953|\n",
      "|Afghanistan|2010|                                   42.7|                               20|                                                8.27|                                      36500000|                                                           15.15|                               0.19|                             0|                             0.75|                              79.78723|                                          1182.892|                                                       2.46|                      7110.000134|                                    null|14.36244147|   543.3065262|            60|        652230|33.93911|67.709953|\n",
      "|Afghanistan|2011|                               43.22202|                             21.8|                                                8.13|                                      28690000|                                                           12.61|                               0.18|                             0|                              0.6|                              76.92309|                                         1436.1143|                                                       3.23|                      8930.000305|                                    null|0.426354785|   591.1900302|            60|        652230|33.93911|67.709953|\n",
      "|Afghanistan|2012|                                   69.1|                               23|                                                9.29|                                      62630000|                                                           15.36|                               0.14|                             0|                             0.74|                              84.09091|                                         1324.1211|                                                       2.61|                      8079.999924|                                    null|12.75228709|   638.8458516|            60|        652230|33.93911|67.709953|\n",
      "|Afghanistan|2013|                               68.29065|                             24.8|                                                 9.1|                                     268460000|                                                           16.86|                               0.22|                             0|                             0.89|                             80.180176|                                         1060.7926|                                                       2.46|                      5989.999771|                                    null|5.600744658|   624.3154545|            60|        652230|33.93911|67.709953|\n",
      "|Afghanistan|2014|                                   89.5|                             26.1|                                                8.95|                                       6940000|                                                           18.93|                               0.16|                             0|                                1|                               86.2069|                                          868.5762|                                                       2.25|                      4880.000114|                                    null|2.724543364|   614.2233424|            60|        652230|33.93911|67.709953|\n",
      "|Afghanistan|2015|                                   71.5|                             27.4|                                                8.79|                                       4890000|                                                           17.53|                               0.15|                             0|                             1.03|                              87.28814|                                          970.0803|                                                       2.37|                      5949.999809|                                    null| 1.45131466|   556.0072209|            60|        652230|33.93911|67.709953|\n",
      "|Afghanistan|2016|                                   97.7|                             28.6|                                                9.87|                                        860000|                                                           19.92|                               0.15|                             0|                             1.06|                             87.603294|                                         862.79114|                                                       2.24|                      5300.000191|                                    null|2.260314201|   512.0127781|            60|        652230|33.93911|67.709953|\n",
      "|Afghanistan|2017|                                   97.7|                             29.7|                                                9.79|                                      50330000|                                                           19.21|                               0.18|                             0|                             1.09|                             85.826775|                                         829.31195|                                                        2.3|                       4780.00021|                                    null|2.647003202|   516.6798622|            60|        652230|33.93911|67.709953|\n",
      "|Afghanistan|2018|                              96.616135|                             30.9|                                                9.55|                                      70100000|                                                           17.96|                                0.2|                             0|                             0.97|                              82.90598|                                         924.25085|                                                       2.44|                      6070.000172|                                    null|1.189228128|   485.6684187|            60|        652230|33.93911|67.709953|\n",
      "|Afghanistan|2019|                                   97.7|                             31.9|                                                9.58|                                       4620000|                                                           18.51|                               0.18|                             0|                             0.89|                              83.17757|                                         802.61255|                                                       2.41|                      6079.999924|                                    null|3.911603419|   494.1793499|            60|        652230|33.93911|67.709953|\n",
      "+-----------+----+---------------------------------------+---------------------------------+----------------------------------------------------+----------------------------------------------+----------------------------------------------------------------+-----------------------------------+------------------------------+---------------------------------+--------------------------------------+--------------------------------------------------+-----------------------------------------------------------+---------------------------------+----------------------------------------+-----------+--------------+--------------+--------------+--------+---------+\n",
      "only showing top 20 rows\n",
      "\n"
     ]
    },
    {
     "data": {
      "text/plain": [
       "['Entity',\n",
       " 'Year',\n",
       " 'Access to electricity (% of population)',\n",
       " 'Access to clean fuels for cooking',\n",
       " 'Renewable-electricity-generating-capacity-per-capita',\n",
       " 'Financial flows to developing countries (US $)',\n",
       " 'Renewable energy share in the total final energy consumption (%)',\n",
       " 'Electricity from fossil fuels (TWh)',\n",
       " 'Electricity from nuclear (TWh)',\n",
       " 'Electricity from renewables (TWh)',\n",
       " 'Low-carbon electricity (% electricity)',\n",
       " 'Primary energy consumption per capita (kWh/person)',\n",
       " 'Energy intensity level of primary energy (MJ/$2017 PPP GDP)',\n",
       " 'Value_co2_emissions_kt_by_country',\n",
       " 'Renewables (% equivalent primary energy)',\n",
       " 'gdp_growth',\n",
       " 'gdp_per_capita',\n",
       " 'Density(P/Km2)',\n",
       " 'Land Area(Km2)',\n",
       " 'Latitude',\n",
       " 'Longitude']"
      ]
     },
     "execution_count": 10,
     "metadata": {},
     "output_type": "execute_result"
    }
   ],
   "source": [
    "# The show method allows you visualise DataFrames. We can see that there are two columns. \n",
    "df.show()\n",
    "\n",
    "# You could also try this. \n",
    "df.columns"
   ]
  },
  {
   "cell_type": "code",
   "execution_count": 11,
   "id": "4bdd9f1e",
   "metadata": {},
   "outputs": [
    {
     "name": "stdout",
     "output_type": "stream",
     "text": [
      "+-----------+----+----+--------------------+\n",
      "|     Entity|Code|Year|Annual CO₂ emissions|\n",
      "+-----------+----+----+--------------------+\n",
      "|Afghanistan| AFG|1949|               14656|\n",
      "|Afghanistan| AFG|1950|               84272|\n",
      "|Afghanistan| AFG|1951|               91600|\n",
      "|Afghanistan| AFG|1952|               91600|\n",
      "|Afghanistan| AFG|1953|              106256|\n",
      "|Afghanistan| AFG|1954|              106256|\n",
      "|Afghanistan| AFG|1955|              153888|\n",
      "|Afghanistan| AFG|1956|              183200|\n",
      "|Afghanistan| AFG|1957|              293120|\n",
      "|Afghanistan| AFG|1958|              329760|\n",
      "|Afghanistan| AFG|1959|              384571|\n",
      "|Afghanistan| AFG|1960|              413885|\n",
      "|Afghanistan| AFG|1961|              490798|\n",
      "|Afghanistan| AFG|1962|              688594|\n",
      "|Afghanistan| AFG|1963|              706736|\n",
      "|Afghanistan| AFG|1964|              838551|\n",
      "|Afghanistan| AFG|1965|             1006917|\n",
      "|Afghanistan| AFG|1966|             1091159|\n",
      "|Afghanistan| AFG|1967|             1281865|\n",
      "|Afghanistan| AFG|1968|             1223391|\n",
      "+-----------+----+----+--------------------+\n",
      "only showing top 20 rows\n",
      "\n"
     ]
    },
    {
     "data": {
      "text/plain": [
       "['Entity', 'Code', 'Year', 'Annual CO₂ emissions']"
      ]
     },
     "execution_count": 11,
     "metadata": {},
     "output_type": "execute_result"
    }
   ],
   "source": [
    "# The show method allows you visualise DataFrames. We can see that there are two columns. \n",
    "df2.show()\n",
    "\n",
    "# You could also try this. \n",
    "df2.columns"
   ]
  },
  {
   "cell_type": "code",
   "execution_count": null,
   "id": "6028e6ea",
   "metadata": {},
   "outputs": [],
   "source": []
  }
 ],
 "metadata": {
  "kernelspec": {
   "display_name": "Python 3 (ipykernel)",
   "language": "python",
   "name": "python3"
  },
  "language_info": {
   "codemirror_mode": {
    "name": "ipython",
    "version": 3
   },
   "file_extension": ".py",
   "mimetype": "text/x-python",
   "name": "python",
   "nbconvert_exporter": "python",
   "pygments_lexer": "ipython3",
   "version": "3.10.4"
  }
 },
 "nbformat": 4,
 "nbformat_minor": 5
}
